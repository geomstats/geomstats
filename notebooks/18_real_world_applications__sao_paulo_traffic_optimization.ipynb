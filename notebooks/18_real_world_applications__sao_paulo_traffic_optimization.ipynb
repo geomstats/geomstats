{
 "cells": [
  {
   "cell_type": "markdown",
   "metadata": {},
   "source": [
    "# Optimization of Sao Paulo traffic"
   ]
  },
  {
   "cell_type": "markdown",
   "metadata": {},
   "source": [
    "Lead author: Jules Deschamps.\n",
    "\n",
    "This notebook presents a simple use case of *information geometry*, in the context of *traffic optimization* in Sao Paulo.\n",
    "We rely on a dataset listing all traffic jams in Sao Paulo for the past two decades (their location, date, their size, their duration, i.e. how long the traffic was jammed) to propose a solution involving information geometry.\n",
    "\n",
    "This analysis relies heavily on the geometry of the *Gamma manifold*, which is particularly adapted to addressing this situation, as seen later on."
   ]
  },
  {
   "cell_type": "markdown",
   "metadata": {},
   "source": [
    "<center>\n",
    "    <img src='figures/sao_paulo_traffic.jpg' width=600px>\n",
    "</center>"
   ]
  },
  {
   "cell_type": "markdown",
   "metadata": {},
   "source": [
    "<center>\n",
    "    Figure 1: Sao Paulo: A city with 180km traffic jams -- BBC News\n",
    "</center>"
   ]
  },
  {
   "cell_type": "markdown",
   "metadata": {},
   "source": [
    "# 1. Introduction and Motivation"
   ]
  },
  {
   "cell_type": "markdown",
   "metadata": {},
   "source": [
    "40% of São Paulo residents own a motor vehicle. While this is lower than cities in the United States, it is still higher than most other Latin American cities and São Paulo’s infrastructure was not built to accommodate such a large number of private vehicles. As The Urban Mobility Research Network of São Paulo found, some São Paulo residents spend one month per year in traffic, or 2.4 hours per day. As car ownership increases, and with it further congestion, this time spent in traffic will only grow. In that regard, considering the increase in car ownership and air pollution, even though widening roads only brings a temporary solution, it can alleviate Brazilians of the absurd amount of time they spend in traffic.\n",
    "\n",
    "In the role of Sao Paulo's city planners, we have been granted a certain amount of resources to solve the congestion problem of Sao Paulo. The issue at hand becomes that of choosing which roads to renovate. More formally, the goal is eventually to reduce the mean expected congestion time in traffic."
   ]
  },
  {
   "cell_type": "markdown",
   "metadata": {},
   "source": [
    "### Setup"
   ]
  },
  {
   "cell_type": "code",
   "execution_count": 22,
   "metadata": {},
   "outputs": [
    {
     "name": "stdout",
     "output_type": "stream",
     "text": [
      "Working directory:  C:\\Users\\Jules\\Documents\\geomstats\n"
     ]
    }
   ],
   "source": [
    "import os\n",
    "import subprocess\n",
    "\n",
    "geomstats_gitroot_path = subprocess.check_output(\n",
    "    [\"git\", \"rev-parse\", \"--show-toplevel\"], universal_newlines=True\n",
    ")\n",
    "\n",
    "os.chdir(geomstats_gitroot_path[:-1])\n",
    "\n",
    "print(\"Working directory: \", os.getcwd())"
   ]
  },
  {
   "cell_type": "code",
   "execution_count": 23,
   "metadata": {},
   "outputs": [],
   "source": [
    "import matplotlib.pyplot as plt\n",
    "import geomstats.backend as gs\n",
    "import pandas as pd"
   ]
  },
  {
   "cell_type": "markdown",
   "metadata": {},
   "source": [
    "# 2. Dataset description"
   ]
  },
  {
   "cell_type": "markdown",
   "metadata": {},
   "source": [
    "We have at our disposal a dataset (accessible [here](https://www.kaggle.com/datasets/danlessa/sao-paulo-traffic-jams-since-2001)) containing traffic jam size measurements by CET at several locations on São Paulo between 2001 and 2019, with more than 5M entries.\n",
    "\n",
    "Available columns:\n",
    "- passage (str) - Name of the passage\n",
    "- direction (str)\n",
    "- type (str) - Indicates if the passage is an expressway (E)\n",
    "- region (str) - São Paulo region\n",
    "- timestamp (datetime) - When the traffic jam was measured (UTC-4)\n",
    "- jam_size (int) - Traffic jam in meters\n",
    "- segment (str) - Where the passage is located\n",
    "\n",
    "Our modeling will not take into account the fact that many of the passages/roads must have been renovated between 2001 and 2019. Similarly, the dataset does not offer information on the width of given roads (even though we could base it off of the type of the road), and therefore on their flow rate: this is an obvious flaw in our analysis but it is easy to fix if the relevant data can be accessed."
   ]
  },
  {
   "cell_type": "markdown",
   "metadata": {},
   "source": [
    "## Pre-processing the dataset"
   ]
  },
  {
   "cell_type": "code",
   "execution_count": 24,
   "metadata": {},
   "outputs": [
    {
     "name": "stderr",
     "output_type": "stream",
     "text": [
      "INFO: Data has already been downloaded... using cached file ('C:\\Users\\Jules\\.geomstats_data\\jam.zip').\n"
     ]
    }
   ],
   "source": [
    "from geomstats.datasets.utils import load_sao_paulo\n",
    "df, jam_count = load_sao_paulo()"
   ]
  },
  {
   "cell_type": "markdown",
   "metadata": {},
   "source": [
    "Some of the columns of the dataset are not necessary for our study: let alone __index__, __type__ and __segment__ do not seem to add any value to the table in our case. In addition, the times (__timestamp__) at which jams are occurring are not relevant in that specific format: it would make much more sense to have the duration of given jam. We also decide to drop the __jam_size__ column.\n",
    "\n",
    "Additionally, we would want to transform the original dataset so as to access a more relevant table, with features:\n",
    "- name of the road (primary key = passage + direction for instance, segments are regrouped within same key)\n",
    "- date (day only)\n",
    "- duration of the traffic jam (in h)\n"
   ]
  },
  {
   "cell_type": "code",
   "execution_count": 25,
   "metadata": {},
   "outputs": [
    {
     "data": {
      "text/html": [
       "<div>\n",
       "<style scoped>\n",
       "    .dataframe tbody tr th:only-of-type {\n",
       "        vertical-align: middle;\n",
       "    }\n",
       "\n",
       "    .dataframe tbody tr th {\n",
       "        vertical-align: top;\n",
       "    }\n",
       "\n",
       "    .dataframe thead th {\n",
       "        text-align: right;\n",
       "    }\n",
       "</style>\n",
       "<table border=\"1\" class=\"dataframe\">\n",
       "  <thead>\n",
       "    <tr style=\"text-align: right;\">\n",
       "      <th></th>\n",
       "      <th>name</th>\n",
       "      <th>date</th>\n",
       "      <th>duration</th>\n",
       "    </tr>\n",
       "  </thead>\n",
       "  <tbody>\n",
       "    <tr>\n",
       "      <th>0</th>\n",
       "      <td>Abraão Ribeiro, Av Dr (F)               Bairro...</td>\n",
       "      <td>2005-01-12</td>\n",
       "      <td>1.0</td>\n",
       "    </tr>\n",
       "    <tr>\n",
       "      <th>1</th>\n",
       "      <td>Abraão Ribeiro, Av Dr (F)               Bairro...</td>\n",
       "      <td>2005-01-20</td>\n",
       "      <td>1.5</td>\n",
       "    </tr>\n",
       "    <tr>\n",
       "      <th>2</th>\n",
       "      <td>Abraão Ribeiro, Av Dr (F)               Bairro...</td>\n",
       "      <td>2005-01-21</td>\n",
       "      <td>1.5</td>\n",
       "    </tr>\n",
       "    <tr>\n",
       "      <th>3</th>\n",
       "      <td>Abraão Ribeiro, Av Dr (F)               Bairro...</td>\n",
       "      <td>2005-02-24</td>\n",
       "      <td>4.5</td>\n",
       "    </tr>\n",
       "    <tr>\n",
       "      <th>4</th>\n",
       "      <td>Abraão Ribeiro, Av Dr (F)               Bairro...</td>\n",
       "      <td>2005-02-28</td>\n",
       "      <td>2.0</td>\n",
       "    </tr>\n",
       "    <tr>\n",
       "      <th>...</th>\n",
       "      <td>...</td>\n",
       "      <td>...</td>\n",
       "      <td>...</td>\n",
       "    </tr>\n",
       "    <tr>\n",
       "      <th>650519</th>\n",
       "      <td>Xangai, Vd                              unico/...</td>\n",
       "      <td>2004-01-16</td>\n",
       "      <td>3.5</td>\n",
       "    </tr>\n",
       "    <tr>\n",
       "      <th>650520</th>\n",
       "      <td>Xangai, Vd                              unico/...</td>\n",
       "      <td>2004-03-24</td>\n",
       "      <td>4.0</td>\n",
       "    </tr>\n",
       "    <tr>\n",
       "      <th>650521</th>\n",
       "      <td>Xangai, Vd                              unico/...</td>\n",
       "      <td>2004-03-26</td>\n",
       "      <td>2.0</td>\n",
       "    </tr>\n",
       "    <tr>\n",
       "      <th>650522</th>\n",
       "      <td>Xangai, Vd                              unico/...</td>\n",
       "      <td>2004-04-29</td>\n",
       "      <td>4.0</td>\n",
       "    </tr>\n",
       "    <tr>\n",
       "      <th>650523</th>\n",
       "      <td>Xangai, Vd                              unico/...</td>\n",
       "      <td>2004-06-01</td>\n",
       "      <td>3.0</td>\n",
       "    </tr>\n",
       "  </tbody>\n",
       "</table>\n",
       "<p>650524 rows × 3 columns</p>\n",
       "</div>"
      ],
      "text/plain": [
       "                                                     name        date  \\\n",
       "0       Abraão Ribeiro, Av Dr (F)               Bairro...  2005-01-12   \n",
       "1       Abraão Ribeiro, Av Dr (F)               Bairro...  2005-01-20   \n",
       "2       Abraão Ribeiro, Av Dr (F)               Bairro...  2005-01-21   \n",
       "3       Abraão Ribeiro, Av Dr (F)               Bairro...  2005-02-24   \n",
       "4       Abraão Ribeiro, Av Dr (F)               Bairro...  2005-02-28   \n",
       "...                                                   ...         ...   \n",
       "650519  Xangai, Vd                              unico/...  2004-01-16   \n",
       "650520  Xangai, Vd                              unico/...  2004-03-24   \n",
       "650521  Xangai, Vd                              unico/...  2004-03-26   \n",
       "650522  Xangai, Vd                              unico/...  2004-04-29   \n",
       "650523  Xangai, Vd                              unico/...  2004-06-01   \n",
       "\n",
       "        duration  \n",
       "0            1.0  \n",
       "1            1.5  \n",
       "2            1.5  \n",
       "3            4.5  \n",
       "4            2.0  \n",
       "...          ...  \n",
       "650519       3.5  \n",
       "650520       4.0  \n",
       "650521       2.0  \n",
       "650522       4.0  \n",
       "650523       3.0  \n",
       "\n",
       "[650524 rows x 3 columns]"
      ]
     },
     "execution_count": 25,
     "metadata": {},
     "output_type": "execute_result"
    }
   ],
   "source": [
    "df"
   ]
  },
  {
   "cell_type": "markdown",
   "metadata": {},
   "source": [
    "Above is the table __df__ of all traffic jams and their durations, for each day."
   ]
  },
  {
   "cell_type": "code",
   "execution_count": 26,
   "metadata": {},
   "outputs": [
    {
     "data": {
      "text/plain": [
       "{'Abraão Ribeiro, Av Dr (F)               Bairro/Centro                           ': 185,\n",
       " 'Abraão Ribeiro, Av Dr (F)               Centro/Bairro                           ': 28,\n",
       " 'Abraão de Morais, Av Prof/Imig          Santos/São Paulo                        ': 1870,\n",
       " 'Abraão de Morais, Av Prof/Imig          São Paulo/Santos                        ': 852,\n",
       " 'Abraão de Morais, Av Prof/Imigrantes (F)Santos/São Paulo                        ': 396,\n",
       " 'Abraão de Morais, Av Prof/Imigrantes (F)São Paulo/Santos                        ': 107,\n",
       " 'Adolfo Pinheiro e Lgo 13/05             Bairro/Centro                           ': 391,\n",
       " 'Adolfo Pinheiro e Lgo 13/05             Centro/Bairro                           ': 657,\n",
       " 'Aliomar Baleeiro, Vd Min                Anchieta/Imigrantes                     ': 3831,\n",
       " 'Aliomar Baleeiro, Vd Min                Imigrantes/Anchieta                     ': 3191,\n",
       " 'Aliomar Baleeiro, Vd Min (F)            Anchieta/Imigrantes                     ': 1,\n",
       " 'Alvarenga, R                            único//                                 ': 1919,\n",
       " 'Amaro, Al  Sto                          único//                                 ': 1000,\n",
       " 'Amaro, Av  Sto  (F)                     Bairro/Centro                           ': 647,\n",
       " 'Amaro, Av  Sto  (F)                     Centro/Bairro                           ': 316,\n",
       " 'Amaro, Av Sto (Pavao/Nebraska) (F)      Bairro/Centro                           ': 41,\n",
       " 'Amaro, Av Sto (Pavao/Nebraska) (F)      Centro/Bairro                           ': 23,\n",
       " 'Amaro, Av Sto - DEC SA (F)              Bairro/Centro                           ': 6,\n",
       " 'Amaro, Av Sto - DEC SA (F)              Centro/Bairro                           ': 8,\n",
       " 'Amaro, Av Sto DEC IB                    Bairro/Centro                           ': 1814,\n",
       " 'Amaro, Av Sto DEC IB                    Centro/Bairro                           ': 1280,\n",
       " 'Amaro, Av Sto DEC SA                    Bairro/Centro                           ': 830,\n",
       " 'Amaro, Av Sto DEC SA                    Centro/Bairro                           ': 803,\n",
       " 'Anchieta, Via                           Santos/São Paulo                        ': 836,\n",
       " 'Anchieta, Via                           São Paulo/Santos                        ': 1293,\n",
       " 'Angélica, Av                            Bairro/Centro                           ': 19,\n",
       " 'Angélica, Av                            Centro/Bairro                           ': 29,\n",
       " 'Angélica, Av (F)                        Centro/Bairro                           ': 6,\n",
       " 'Antonio Nakashima, Vd                   único//                                 ': 1432,\n",
       " 'Antártica, Vd                           Limão/Sumaré                            ': 1331,\n",
       " 'Antártica, Vd                           Sumaré/Limão                            ': 1308,\n",
       " 'Antônio Joaquim de Moura Andrade, Av    Ibirapuera/Marginal                     ': 7071,\n",
       " 'Antônio Joaquim de Moura Andrade, Av    Marginal/Ibirapuera                     ': 2428,\n",
       " 'Arcoverde, R Card                       //unico                                 ': 238,\n",
       " 'Arcoverde, R Cardeal (F)                único//                                 ': 1270,\n",
       " 'Aricanduva, Av/Elev/Pt                  Itaquera/Marginal                       ': 4929,\n",
       " 'Aricanduva, Av/Elev/Pt                  Marginal/Itaquera                       ': 3891,\n",
       " 'Aricanduva/Elevado/Ponte( F)            Itaquera/Marginal                       ': 2258,\n",
       " 'Aricanduva/Elevado/Ponte( F)            Marginal/Itaquera                       ': 1315,\n",
       " 'Arnaldo,  Av Dr                         Consolação/Sumare                       ': 2596,\n",
       " 'Arnaldo,  Av Dr                         Sumare/Consolação                       ': 5998,\n",
       " 'Arthur da Costa e Silva, Elev Pres      Lapa/Penha                              ': 4972,\n",
       " 'Arthur da Costa e Silva, Elev Pres      Penha/Lapa                              ': 3743,\n",
       " 'Ary Torres, Eng. Pte                    único//                                 ': 3517,\n",
       " 'Asc.Reis/R.Berta(Local)                 Bairro/Centro                           ': 2614,\n",
       " 'Asc.Reis/R.Berta(Local)                 Centro/Bairro                           ': 998,\n",
       " 'Ataliba Leonel, Av. Gal.                Bairro/Centro                           ': 56,\n",
       " 'Ataliba Leonel, Av. Gal.                Centro/Bairro                           ': 110,\n",
       " 'Atilio Fontana, Pte                     Capital/Interior                        ': 71,\n",
       " 'Atilio Fontana, Pte                     Interior/Capital                        ': 3640,\n",
       " 'Atlantica, AV                           Bairro/Centro                           ': 485,\n",
       " 'Atlantica, AV                           Centro/Bairro                           ': 24,\n",
       " 'Ayrton Senna I, Tn (NÃO USAR)           Centro/Bairro                           ': 2,\n",
       " 'Ayrton Senna I, Túnel                   unico//                                 ': 7159,\n",
       " 'Ayrton Senna II,  Túnel                 unico//                                 ': 3815,\n",
       " 'Bandeirantes, Av dos                    Imigrantes/Marginal                     ': 7714,\n",
       " 'Bandeirantes, Av dos                    Marginal/Imigrantes                     ': 6796,\n",
       " 'Bento, Lgo São                          //unico                                 ': 9,\n",
       " 'Bernardino/Verg/Noe/Domingos/Jabaquara  Bairro/Centro                           ': 2153,\n",
       " 'Bernardino/Verg/Noe/Domingos/Jabaquara  Centro/Bairro                           ': 519,\n",
       " 'Bernardo Goldfarb, Pte                  Bairro/Centro                           ': 1079,\n",
       " 'Bernardo Goldfarb, Pte                  Centro/Bairro                           ': 174,\n",
       " 'Brasil, Av                              Ibirapuera/Pinheiros                    ': 246,\n",
       " 'Brasil, Av                              Pinheiros/Ibirapuera                    ': 537,\n",
       " 'Brás Leme, Av / Pte Casa Verde          Bairro/Centro                           ': 2002,\n",
       " 'Brás Leme, Av / Pte Casa Verde          Centro/Bairro                           ': 419,\n",
       " 'Butantã, R                              //unico                                 ': 206,\n",
       " 'Butantã, R  (F)                         unico//                                 ': 2032,\n",
       " 'CJardim/Europa, Av/Colômbia, R (F)      Bairro/Centro                           ': 1,\n",
       " 'Caetano Alvares, Av. Eng.               Bairro/Centro                           ': 26,\n",
       " 'Caetano Alvares, Av. Eng.               Centro/Bairro                           ': 85,\n",
       " 'Camargo, R                              único//                                 ': 1430,\n",
       " 'Carlos Caldeira Filho, Av               Bairro/Centro                           ': 1209,\n",
       " 'Carlos Caldeira Filho, Av               Centro/Bairro                           ': 345,\n",
       " 'Carrão,  Av Cons   (F)                  Bairro/Centro                           ': 488,\n",
       " 'Carrão,  Av Cons   (F)                  Centro/Bairro                           ': 61,\n",
       " 'Carrão, Av Cons                         Bairro/Centro                           ': 264,\n",
       " 'Carrão, Av Cons                         Centro/Bairro                           ': 116,\n",
       " 'Casa Verde, Pte e Av Bras Leme (F)      Bairro/Centro                           ': 874,\n",
       " 'Casa Verde, Pte e Av Bras Leme (F)      Centro/Bairro                           ': 324,\n",
       " 'Catiguá, R / Melo Peixoto, R (F)        Bairro/Centro                           ': 1339,\n",
       " 'Catiguá, R / Melo Peixoto, R (F)        Centro/Bairro                           ': 21,\n",
       " 'Celso Garcia, Av                        Bairro/Centro                           ': 124,\n",
       " 'Celso Garcia, Av                        Centro/Bairro                           ': 549,\n",
       " 'Chucri Zaidan, Av Dr                    Bandeirantes/Morumbi                    ': 1706,\n",
       " 'Chucri Zaidan, Av Dr                    Morumbi/Bandeirantes                    ': 285,\n",
       " 'Chucri Zaidan, Av Dr  (F)               Bandeirantes/Morumbi                    ': 461,\n",
       " 'Chucri Zaidan, Av Dr  (F)               Morumbi/Bandeirantes                    ': 380,\n",
       " 'Cidade Jardim / Europa / Colômbia       Bairro/Centro                           ': 6013,\n",
       " 'Cidade Jardim / Europa / Colômbia       Centro/Bairro                           ': 5448,\n",
       " 'Cidade Universitária, Pt                PanAmericana/USP                        ': 3050,\n",
       " 'Cidade Universitária, Pt                USP/PanAmericana                        ': 179,\n",
       " 'Cidade Universitária, Pte (F)           PanAmericana/USP                        ': 1744,\n",
       " 'Cidade Universitária, Pte (F)           USP/PanAmericana                        ': 116,\n",
       " 'Clelia, R (F)                           único//                                 ': 172,\n",
       " 'Clélia, R                               //unico                                 ': 391,\n",
       " 'Consolação, R da                        Bairro/Centro                           ': 3618,\n",
       " 'Consolação, R da                        Centro/Bairro                           ': 3679,\n",
       " 'Consolação, R da   (F)                  Bairro/Centro                           ': 2257,\n",
       " 'Consolação, R da   (F)                  Centro/Bairro                           ': 2784,\n",
       " 'Copa-Afonso de S. Souza/Harry DannembergAricanduva/Itaquera                     ': 1,\n",
       " 'Copa-Aguia de Haia                      A Alvim/S Miguel                        ': 11,\n",
       " 'Copa-Aguia de Haia                      S Miguel/A Alvim                        ': 4,\n",
       " 'Copa-Aguia de Haia (F)                  S Miguel/A Alvim                        ': 1,\n",
       " 'Copa-Campanella                         Bairro/Centro                           ': 10,\n",
       " 'Copa-Campanella                         Centro/Bairro                           ': 11,\n",
       " 'Copa-Itaquera/Lider                     Itaquera/Vila Formosa                   ': 6,\n",
       " 'Copa-Itaquera/Lider                     Vila Formosa/Itaquera                   ': 14,\n",
       " 'Copa-Jacu Pessêgo-N. Trabalhadores      A Senna/Maua                            ': 4,\n",
       " 'Copa-Jacu Pessêgo-N. Trabalhadores      Maua/A Senna                            ': 8,\n",
       " 'Copa-Luiz Ayres                         Bairro/Centro                           ': 2,\n",
       " 'Copa-Luiz Ayres                         Centro/Bairro                           ': 11,\n",
       " 'Copa-Pires do Rio                       Bairro/Centro                           ': 7,\n",
       " 'Copa-Pires do Rio                       Centro/Bairro                           ': 8,\n",
       " 'Corifeu de A Marques, Av                Bairro/Centro                           ': 663,\n",
       " 'Corifeu de A Marques, Av                Centro/Bairro                           ': 141,\n",
       " 'Corifeu de Azevedo Marques, Av  (F)     Bairro/Centro                           ': 73,\n",
       " 'Corifeu de Azevedo Marques, Av  (F)     Centro/Bairro                           ': 4,\n",
       " 'Cruzeiro do Sul, Pt e Av                Ipiranga/Santana                        ': 1377,\n",
       " 'Cruzeiro do Sul, Pt e Av                Santana/Ipiranga                        ': 2409,\n",
       " 'Cruzeiro do Sul, Pte e Av  (F)          Ipiranga/Santana                        ': 397,\n",
       " 'Cruzeiro do Sul, Pte e Av  (F)          Santana/Ipiranga                        ': 421,\n",
       " 'Dianópolis, Av                          //unico                                 ': 395,\n",
       " 'Dianópolis, Av  (F)                     unico//                                 ': 181,\n",
       " 'Diário Popular, Vd                      único//                                 ': 189,\n",
       " 'Dom Pedro (Av Exterior) Pq              //unico                                 ': 15,\n",
       " 'Dom Pedro (Av do Exterior), Parque (F)  unico//                                 ': 43,\n",
       " 'Edgar Facó, Av.                         Bairro/Centro                           ': 1197,\n",
       " 'Edgar Facó, Av.                         Centro/Bairro                           ': 160,\n",
       " 'Eliseu de Almeida, Av                   Bairro/Centro                           ': 821,\n",
       " 'Eliseu de Almeida, Av                   Centro/Bairro                           ': 75,\n",
       " 'Ermano Marchetti, Av                    Barra Funda/Lapa                        ': 710,\n",
       " 'Ermano Marchetti, Av                    Lapa/Barra Funda                        ': 606,\n",
       " 'Escola Politécnica, Av                  Bairro/Centro                           ': 752,\n",
       " 'Escola Politécnica, Av                  Centro/Bairro                           ': 39,\n",
       " 'Estado, Av do - DEC CT                  Ipiranga/Santana                        ': 7017,\n",
       " 'Estado, Av do - DEC CT                  Santana/Ipiranga                        ': 4633,\n",
       " 'Estado, Av do - DEC VILA PRUDENTE       Ipiranga/Santana                        ': 3409,\n",
       " 'Estado, Av do - DEC VILA PRUDENTE       Santana/Ipiranga                        ': 3920,\n",
       " 'Estela, R                               unico//                                 ': 41,\n",
       " 'Eusébio M/Francisco Morato, Av Prof     Bairro/Centro                           ': 5021,\n",
       " 'Eusébio M/Francisco Morato, Av Prof     Centro/Bairro                           ': 2887,\n",
       " 'Eusébio Stevaux, Vd                     único//                                 ': 1445,\n",
       " 'F1 - Jacinto Júlio, Av                  Bairro/Centro                           ': 1,\n",
       " 'F1 - Jacinto Júlio, Av                  Centro/Bairro                           ': 3,\n",
       " 'F1 - Jangadeiro, Av                     Bairro/Centro                           ': 4,\n",
       " 'F1 - Jangadeiro, Av                     Centro/Bairro                           ': 2,\n",
       " 'F1 - João Paulo da Silva, Av            Bairro/Centro                           ': 2,\n",
       " 'F1 - Miguel Yunes/Pte Vitorino Goulart  Interlagos/Marginal                     ': 2,\n",
       " 'F1 - Papini, Av Prof                    Centro/Bairro                           ': 3,\n",
       " 'F1 - Rio Bonito, Av                     Bairro/Centro                           ': 2,\n",
       " 'F1 - Rio Bonito, Av                     Centro/Bairro                           ': 1,\n",
       " 'F1 - Rubens Montanaro de Borba, Av      Bairro/Centro                           ': 1,\n",
       " 'F1 - Teotonio Vilela, Av Sen            Bairro/Centro                           ': 3,\n",
       " 'F1 - Teotonio Vilela, Av Sen            Centro/Bairro                           ': 3,\n",
       " 'Faria Lima,  Av Brig                    Itaim/Pinheiros                         ': 3606,\n",
       " 'Faria Lima,  Av Brig                    Pinheiros/Itaim                         ': 5154,\n",
       " 'Fernando Vieira de Mello Túnel(Reboucas)Bairro/Centro                           ': 5663,\n",
       " 'Fernando Vieira de Mello Túnel(Reboucas)Centro/Bairro                           ': 5516,\n",
       " 'Ferradura                               unico//                                 ': 698,\n",
       " 'Figueira, R da                          unico//                                 ': 802,\n",
       " 'Francisco Matarazzo, Av                 Bairro/Centro                           ': 1170,\n",
       " 'Francisco Matarazzo, Av                 Centro/Bairro                           ': 1316,\n",
       " 'Francisco Matarazzo, Av  (F)            Bairro/Centro                           ': 1895,\n",
       " 'Francisco Matarazzo, Av  (F)            Centro/Bairro                           ': 2070,\n",
       " 'Francisco Mesquita, Av Dr               S. Caetano/Sao Paulo                    ': 2214,\n",
       " 'Francisco Mesquita, Av Dr               Sao Paulo/S. Caetano                    ': 168,\n",
       " 'Francisco Morato, Av Prof               Bairro/Centro                           ': 1751,\n",
       " 'Francisco Morato, Av Prof               Centro/Bairro                           ': 1145,\n",
       " 'Frederico Eduardo Mayr, Vd              unico//                                 ': 861,\n",
       " 'Freguesia, Pte                          Freguesia/Lapa                          ': 775,\n",
       " 'Freguesia, Pte                          Lapa/Freguesia                          ': 323,\n",
       " 'Freguesia/Com Martinelli, Pte  (F)      Freguesia/Lapa                          ': 507,\n",
       " 'Freguesia/Com Martinelli, Pte  (F)      Lapa/Freguesia                          ': 110,\n",
       " 'Gabriel,  Av São (F)                    Bairro/Centro                           ': 127,\n",
       " 'Gabriel,  Av São (F)                    Centro/Bairro                           ': 271,\n",
       " 'Gabriel, Av São                         Bairro/Centro                           ': 114,\n",
       " 'Gabriel, Av São                         Centro/Bairro                           ': 428,\n",
       " 'Gastão Vidigal, Av Dr                   Marginal/Pinheiros                      ': 804,\n",
       " 'Gastão Vidigal, Av Dr                   Pinheiros/Marginal                      ': 670,\n",
       " 'Gastão Vidigal, Av Dr (F)               Lapa/Pinheiros                          ': 163,\n",
       " 'Gastão Vidigal, Av Dr (F)               Pinheiros/Lapa                          ': 132,\n",
       " 'Gasômetro, R e Vd                       único//                                 ': 1324,\n",
       " 'Gazeta do Ipiranga, Vd                  unico//                                 ': 301,\n",
       " 'Grande Sao Paulo, Vd                    Ipiranga/Vila Prudente                  ': 3851,\n",
       " 'Grande Sao Paulo, Vd                    Vila Prudente/Ipiranga                  ': 1965,\n",
       " 'Groenlandia, R                          unico//                                 ': 2879,\n",
       " 'Guadalajara, Vd                         Belem/Mooca                             ': 50,\n",
       " 'Guadalajara, Vd                         Mooca/Belem                             ': 20,\n",
       " 'Guaicurus, R                            //unico                                 ': 143,\n",
       " 'Guaicurus, R (F)                        unico//                                 ': 111,\n",
       " 'Guarapiranga, Av                        Bairro/Centro                           ': 755,\n",
       " 'Guarapiranga, Av                        Centro/Bairro                           ': 751,\n",
       " 'Guido Caloi, Av                         Bairro/Centro                           ': 292,\n",
       " 'Guido Caloi, Av                         Centro/Bairro                           ': 423,\n",
       " 'Guilherme Dumont Vilares, Av Dr         Campo Limpo/Morato                      ': 16,\n",
       " 'Guilherme Dumont Vilares, Av Dr         Morato/Campo Limpo                      ': 7,\n",
       " 'Heitor Penteado, R                      Bairro/Centro                           ': 202,\n",
       " 'Heitor Penteado, R                      Centro/Bairro                           ': 179,\n",
       " 'Ibirapuera, Av                          Bairro/Centro                           ': 2225,\n",
       " 'Ibirapuera, Av                          Centro/Bairro                           ': 3705,\n",
       " 'Ibirapuera, Av  (F)                     Bairro/Centro                           ': 2433,\n",
       " 'Ibirapuera, Av  (F)                     Centro/Bairro                           ': 2911,\n",
       " 'Ibitirama, R                            unico//                                 ': 171,\n",
       " 'Iguatemi, R                             //unico                                 ': 336,\n",
       " 'Iguatemi, R  (F)                        único//                                 ': 437,\n",
       " 'Inajar de Souza, Av                     Freguesia/Lapa                          ': 794,\n",
       " 'Inajar de Souza, Av                     Lapa/Freguesia                          ': 34,\n",
       " 'Inajar de Souza, Av (F)                 Freguesia/Lapa                          ': 16,\n",
       " 'Interlagos, Av  I                       Bairro/Centro                           ': 2008,\n",
       " 'Interlagos, Av  I                       Centro/Bairro                           ': 1110,\n",
       " 'Ipiranga, Av                            unico//                                 ': 1523,\n",
       " 'Itapecerica, Est de                     Bairro/Centro                           ': 871,\n",
       " 'Itapecerica, Est de                     Centro/Bairro                           ': 145,\n",
       " 'Itapecirica, Est de  (F)                Bairro/Centro                           ': 274,\n",
       " 'Itapecirica, Est de  (F)                Centro/Bairro                           ': 86,\n",
       " 'Itápolis, R                             //unico                                 ': 6,\n",
       " 'Jacinto Júlio, Av                       Bairro/Centro                           ': 2,\n",
       " 'Jaguare, Av                             Bairro/Centro                           ': 353,\n",
       " 'Jaguare, Av                             Centro/Bairro                           ': 287,\n",
       " 'Jaguaré, Pte                            Jaguaré/Lapa                            ': 314,\n",
       " 'Jaguaré, Pte                            Lapa/Jaguaré                            ': 828,\n",
       " 'Jangadeiro, Av                          Bairro/Centro                           ': 1,\n",
       " 'Jangadeiro, Av                          Centro/Bairro                           ': 4,\n",
       " 'Jose Colassuono, Vd                     unico//                                 ': 1534,\n",
       " 'Jose Felix, R                           Campo Limpo/Morato                      ': 6,\n",
       " 'Jose Felix, R                           Morato/Campo Limpo                      ': 2,\n",
       " 'José Diniz,  Av Ver  (F)                Bairro/Centro                           ': 915,\n",
       " 'José Diniz,  Av Ver  (F)                Centro/Bairro                           ': 1726,\n",
       " 'José Diniz, Av Ver                      Bairro/Centro                           ': 2743,\n",
       " 'José Diniz, Av Ver                      Centro/Bairro                           ': 3017,\n",
       " 'José Garzotti, Av. Pe                   Teotônio/Batista Botelho                ': 1,\n",
       " 'José Maria,  Av Pe                      Bairro/Centro                           ': 267,\n",
       " 'José Maria,  Av Pe                      Centro/Bairro                           ': 18,\n",
       " 'João De Luca, Ver                       Diadema/Marginal                        ': 122,\n",
       " 'João De Luca, Ver                       Marginal/Diadema                        ': 68,\n",
       " 'João Dias, Av                           Bairro/Centro                           ': 2689,\n",
       " 'João Dias, Av                           Centro/Bairro                           ': 2667,\n",
       " 'João Dias, Av (F)                       Bairro/Centro                           ': 1580,\n",
       " 'João Dias, Av (F)                       Centro/Bairro                           ': 1350,\n",
       " 'João Goulart, Elev Pres                 Lapa/Penha                              ': 173,\n",
       " 'João Goulart, Elev Pres                 Penha/Lapa                              ': 95,\n",
       " 'João Jorge Saad,Vd (Cebolinha)          Centro/Bairro                           ': 384,\n",
       " 'João Mendes, Pça                        //unico                                 ': 642,\n",
       " 'João Paulo da Silva, Av                 Bairro/Centro                           ': 5,\n",
       " 'João Paulo da Silva, Av                 Centro/Bairro                           ': 2,\n",
       " 'João, Av São                            único//                                 ': 185,\n",
       " 'Julio de Mesquita, Pte                  Lapa/Piqueri                            ': 29,\n",
       " 'Julio de Mesquita, Pte                  Limão/Pompéia                           ': 667,\n",
       " 'Julio de Mesquita, Pte                  Piqueri/Lapa                            ': 77,\n",
       " 'Julio de Mesquita, Pte                  Pompéia/Limão                           ': 55,\n",
       " 'Juntas Provisórias, R das               Ipiranga/Vila Prudente                  ': 2782,\n",
       " 'Juntas Provisórias, R das               Vila Prudente/Ipiranga                  ': 1425,\n",
       " 'Juscelino Kubitschek, Av Pres           Ibirapuera/Pinheiros                    ': 7635,\n",
       " 'Juscelino Kubitschek, Av Pres           Pinheiros/Ibirapuera                    ': 8411,\n",
       " 'Jânio Quadros, Pres. Pte (Vila Maria)   Bairro/Centro                           ': 114,\n",
       " 'Jânio Quadros, Pres. Pte (Vila Maria)   Centro/Bairro                           ': 68,\n",
       " 'Jânio Quadros, Túnel                    unico//                                 ': 4050,\n",
       " 'Lapa, Vd                                Lapa/Piqueri                            ': 306,\n",
       " 'Lapa, Vd                                Piqueri/Lapa                            ': 684,\n",
       " 'Liberdade/ Vergueiro, Av                Bairro/Centro                           ': 841,\n",
       " 'Liberdade/ Vergueiro, Av                Centro/Bairro                           ': 735,\n",
       " 'Ligação - Dec HG (F)                    Lapa/Penha                              ': 2672,\n",
       " 'Ligação - Dec HG (F)                    Penha/Lapa                              ': 2958,\n",
       " 'Ligação Leste-Oeste                     Lapa/Penha                              ': 4424,\n",
       " 'Ligação Leste-Oeste                     Penha/Lapa                              ': 4357,\n",
       " 'Limão / Av. Ordem e Progresso, Pte      Limão/Sumaré                            ': 3797,\n",
       " 'Limão / Av. Ordem e Progresso, Pte      Sumaré/Limão                            ': 182,\n",
       " 'Limão, Pt/Ordem e Progresso, Av (N USAR)Limão/Sumaré                            ': 3,\n",
       " 'Lineu de Paula Machado, Av              Bairro/Centro                           ': 1190,\n",
       " 'Lineu de Paula Machado, Av              Butanta/Morumbi                         ': 849,\n",
       " 'Lineu de Paula Machado, Av              Centro/Bairro                           ': 70,\n",
       " 'Lineu de Paula Machado, Av              Joquei/USP                              ': 62,\n",
       " 'Lineu de Paula Machado, Av              Morumbi/Butanta                         ': 79,\n",
       " 'Lineu de Paula Machado, Av              USP/Joquei                              ': 597,\n",
       " 'Luis Antonio, Av Brig                   Bairro/Centro                           ': 433,\n",
       " 'Luis Antonio, Av Brig                   Centro/Bairro                           ': 171,\n",
       " 'Luis Antonio, Av Brig.   Dec-PA  (F)    Bairro/Centro                           ': 357,\n",
       " 'Luis Antonio, Av Brig.   Dec-PA  (F)    Centro/Bairro                           ': 20,\n",
       " 'Luis Carlos Berrini, Av Eng             Bandeirantes/Morumbi                    ': 1593,\n",
       " 'Luis Carlos Berrini, Av Eng             Morumbi/Bandeirantes                    ': 967,\n",
       " 'Luis Carlos Berrini,Eng Av (F)          Bandeirantes/Morumbi                    ': 1514,\n",
       " 'Luis Carlos Berrini,Eng Av (F)          Morumbi/Bandeirantes                    ': 906,\n",
       " 'Luis, Av. São                           //unico                                 ': 195,\n",
       " 'Luiz Ignácio de Anhaia Mello, Av Prof   Bairro/Centro                           ': 4055,\n",
       " 'Luiz Ignácio de Anhaia Mello, Av Prof   Centro/Bairro                           ': 2964,\n",
       " 'Luiz Ignácio de Anhaia Mello, Av Prof   Sapopem./Vila Prudente                  ': 706,\n",
       " 'Luiz Ignácio de Anhaia Mello, Av Prof   Vila Prudente/Sapopem.                  ': 360,\n",
       " 'M Paula, R/Jacarei/n Julho, Vd (F)      //unico                                 ': 2,\n",
       " 'M.M.D.C, R                              único//                                 ': 1597,\n",
       " 'Manuel de Teffé, R                      Bairro/Centro                           ': 7,\n",
       " 'Marginal Pinheiros                      Castelo/Interlagos                      ': 10332,\n",
       " 'Marginal Pinheiros                      Interlagos/Castelo                      ': 9675,\n",
       " 'Marginal Tietê                          A.Senna/Castelo Branco                  ': 10776,\n",
       " 'Marginal Tietê                          Castelo/A.Senna                         ': 9885,\n",
       " 'Marginal Tietê - Pista Central          A.Senna/Castelo Branco                  ': 2883,\n",
       " 'Marginal Tietê - Pista Central          Castelo/A.Senna                         ': 2974,\n",
       " 'Maria Coelho Aguiar, Av                 Bairro/Centro                           ': 746,\n",
       " 'Maria Coelho Aguiar, Av                 Centro/Bairro                           ': 2554,\n",
       " 'Maria Maluf, CV                         Anchieta/Imigrantes                     ': 4512,\n",
       " 'Maria Maluf, CV                         Imigrantes/Anchieta                     ': 5019,\n",
       " 'Maria Paula/Vd Jacareí/Vd 9 de Julho    único//                                 ': 2778,\n",
       " 'Matriz, R da                            unico//                                 ': 14,\n",
       " 'Max Feffer Túnel (Cidade Jardim)        Bairro/Centro                           ': 4793,\n",
       " 'Max Feffer Túnel (Cidade Jardim)        Centro/Bairro                           ': 2667,\n",
       " 'Melo Peixoto, R                         Bairro/Centro                           ': 1244,\n",
       " 'Melo Peixoto, R                         Centro/Bairro                           ': 1352,\n",
       " 'Melo Peixoto, R (F)                     Bairro/Centro                           ': 286,\n",
       " 'Melo Peixoto, R (F)                     Centro/Bairro                           ': 126,\n",
       " 'Mercúrio, Av                            único//                                 ': 3250,\n",
       " 'Miguel Estefano,VD                      Abraão de Morais/Cursino                ': 26,\n",
       " 'Miguel Estefano,VD                      Cursino/Abraão de Morais                ': 10,\n",
       " 'Miguel Yunes/Pte Vitorino Goulart       Interlagos/Marginal                     ': 6,\n",
       " 'Miguel Yunes/Pte Vitorino Goulart       Marginal/Interlagos                     ': 3,\n",
       " 'Morumbi, Av                             Campo Limpo/Santo Amaro                 ': 194,\n",
       " 'Morumbi, Av                             Morumbi/Santo Amaro                     ': 1134,\n",
       " 'Morumbi, Av                             Santo Amaro/Campo Limpo                 ': 196,\n",
       " 'Morumbi, Av                             Santo Amaro/Morumbi                     ': 358,\n",
       " 'Morumbi, Av. e Pte                      Aeroporto/Marginal                      ': 2175,\n",
       " 'Morumbi, Av. e Pte                      Marginal/Aeroporto                      ': 2632,\n",
       " 'M´Boi Mirim, Est                        Bairro/Centro                           ': 8,\n",
       " 'M´Boi Mirim, Est                        Centro/Bairro                           ': 1,\n",
       " 'Natanael,  R Mj (F)                     Estadio/Jardins                         ': 279,\n",
       " 'Nova Morumbi, Pte (F)                   unico//                                 ': 1026,\n",
       " 'Nove de Julho, Av                       Bairro/Centro                           ': 4115,\n",
       " 'Nove de Julho, Av                       Centro/Bairro                           ': 5088,\n",
       " 'Nove de Julho, Av (F)                   Bairro/Centro                           ': 2488,\n",
       " 'Nove de Julho, Av (F)                   Centro/Bairro                           ': 2439,\n",
       " 'Nove de Julho, Av - DEC PA  (F)         Bairro/Centro                           ': 297,\n",
       " 'Nove de Julho, Av - DEC PA  (F)         Centro/Bairro                           ': 719,\n",
       " 'Olivia Guedes Penteado, R               Bairro/Centro                           ': 2,\n",
       " 'Oscar Americano, R Eng                  Bairro/Centro                           ': 2037,\n",
       " 'Oscar Americano, R Eng                  Centro/Bairro                           ': 1767,\n",
       " 'Oscar Americano, R Eng  (F)             Bairro/Centro                           ': 445,\n",
       " 'Oscar Americano, R Eng  (F)             Centro/Bairro                           ': 62,\n",
       " 'Outeiro, Av NSra do                     Batista Botelho/Teotônio                ': 1,\n",
       " 'Pacaembu / Mj Natanael / Abraao Ribeiro Estádio/Marginal                        ': 1390,\n",
       " 'Pacaembu / Mj Natanael / Abraao Ribeiro Marginal/Estádio                        ': 4199,\n",
       " 'Pacaembu, Vd (F)                        Bairro/Centro                           ': 330,\n",
       " 'Pacaembu, Vd (F)                        Centro/Bairro                           ': 279,\n",
       " 'Pacheco e Chaves, Cap. Vd               Ipiranga/Vila Prudente                  ': 188,\n",
       " 'Pacheco e Chaves, Cap. Vd               Vila Prudente/Ipiranga                  ': 1791,\n",
       " 'Pacheco e Chaves, R Cap                 Bairro/Centro                           ': 310,\n",
       " 'Pacheco e Chaves, R Cap                 Centro/Bairro                           ': 36,\n",
       " 'Papini, Av Prof                         Bairro/Centro                           ': 5,\n",
       " 'Papini, Av Prof                         Centro/Bairro                           ': 20,\n",
       " 'Paulina, Vd Dona                        //unico                                 ': 2644,\n",
       " 'Paulina, Vd Dona  (F)                   único//                                 ': 1935,\n",
       " 'Paulista, Av                            Consolação/Paraiso                      ': 6247,\n",
       " 'Paulista, Av                            Paraiso/Consolação                      ': 9888,\n",
       " 'Paulo Eiró, R                           único//                                 ': 2,\n",
       " 'Paulo VI, Av                            Limão/Sumaré                            ': 72,\n",
       " 'Paulo VI, Av                            Sumaré/Limão                            ': 36,\n",
       " 'Pedro Alvares Cabral, Av                Pinheiros/Vila Mariana                  ': 680,\n",
       " 'Pedro Alvares Cabral, Av                Vila Mariana/Pinheiros                  ': 1231,\n",
       " 'Pedro Alvares Cabral, Av  (F)           Pinheiros/Vila Mariana                  ': 791,\n",
       " 'Pedro Alvares Cabral, Av  (F)           Vila Mariana/Pinheiros                  ': 1975,\n",
       " 'Pedro I, Av. Dom                        Bairro/Centro                           ': 13,\n",
       " 'Pedro I, Av. Dom                        Centro/Bairro                           ': 18,\n",
       " 'Pinedo, Av de                           unico//                                 ': 1,\n",
       " 'Piqueri, Pt                             Lapa/Piqueri                            ': 579,\n",
       " 'Piqueri, Pt                             Piqueri/Lapa                            ': 903,\n",
       " 'Piqueri, Pte (F)                        Lapa/Piqueri                            ': 278,\n",
       " 'Piqueri, Pte (F)                        Piqueri/Lapa                            ': 1054,\n",
       " 'Pirajussara, Av                         Bairro/Centro                           ': 17,\n",
       " 'Pirajussara, Av                         Centro/Bairro                           ': 53,\n",
       " 'Pompeia, Vd                             Marginal/Pompeia                        ': 2452,\n",
       " 'Pompeia, Vd                             Pompeia/Marginal                        ': 384,\n",
       " 'Queiroz Filho /Jaguaré, Pte             Bairro/Centro                           ': 554,\n",
       " 'Queiroz Filho /Jaguaré, Pte             Centro/Bairro                           ': 1276,\n",
       " 'Queiroz, Av. Sen.                       //unico                                 ': 956,\n",
       " 'Radial Leste - DEC BR                   Bairro/Centro                           ': 6210,\n",
       " 'Radial Leste - DEC BR                   Centro/Bairro                           ': 4474,\n",
       " 'Radial Leste - DEC MO                   Bairro/Centro                           ': 7150,\n",
       " 'Radial Leste - DEC MO                   Centro/Bairro                           ': 4722,\n",
       " 'Raimundo Pereira Magalhaes, Av          Bairro/Centro                           ': 47,\n",
       " 'Raimundo Pereira Magalhaes, Av          Centro/Bairro                           ': 5,\n",
       " 'Raimundo Pereira de Magalhães - Norte   Bairro/Centro                           ': 12,\n",
       " 'Raimundo Pereira de Magalhães - Norte   Centro/Bairro                           ': 3,\n",
       " 'Raimundo Pereira de Magalhães - Sul     Bairro/Centro                           ': 4,\n",
       " 'Raimundo Pereira de Magalhães - Sul     Centro/Bairro                           ': 5,\n",
       " 'Rangel Pestana, Av (F)                  unico//                                 ': 163,\n",
       " 'Rangel Pestana, Av DEC BR               //unico                                 ': 1134,\n",
       " 'Rangel Pestana, Av DEC CT               Bairro/Centro                           ': 548,\n",
       " 'Rangel Pestana, Av DEC CT               Centro/Bairro                           ': 66,\n",
       " 'Raposo Tavares, Via                     Capital/Interior                        ': 632,\n",
       " 'Raposo Tavares, Via                     Interior/Capital                        ': 3652,\n",
       " 'Reação, R                               único//                                 ': 1388,\n",
       " 'Rebouças/ Eusébio Matoso,  Av           Bairro/Centro                           ': 8167,\n",
       " 'Rebouças/ Eusébio Matoso,  Av           Centro/Bairro                           ': 8720,\n",
       " 'Remédios, Pte                           Lapa/Remédios                           ': 1471,\n",
       " 'Remédios, Pte                           Remédios/Lapa                           ': 1965,\n",
       " 'Republica da Armenia, Vd                único//                                 ': 4197,\n",
       " 'República do Líbano, Av                 Bairro/Centro                           ': 750,\n",
       " 'República do Líbano, Av                 Centro/Bairro                           ': 788,\n",
       " 'República do Líbano, Av  (F)            Bairro/Centro                           ': 248,\n",
       " 'República do Líbano, Av  (F)            Centro/Bairro                           ': 129,\n",
       " 'Ribeiro Lacerda, R                      Abraão de Morais/Cursino                ': 2,\n",
       " 'Ribeiro Lacerda, R                      Cursino/Abraão de Morais                ': 21,\n",
       " 'Ricardo Jafet, Av                       Bairro/Centro                           ': 159,\n",
       " 'Ricardo Jafet, Av                       Centro/Bairro                           ': 228,\n",
       " 'Rio Bonito, Av                          Centro/Bairro                           ': 1,\n",
       " 'Rio Branco,  Br do                      unico//                                 ': 122,\n",
       " 'Rio Branco, Av                          Bairro/Centro                           ': 195,\n",
       " 'Rio Branco, Av                          Centro/Bairro                           ': 342,\n",
       " 'Robert Kennedy, Av                      Bairro/Centro                           ': 164,\n",
       " 'Robert Kennedy, Av                      Centro/Bairro                           ': 37,\n",
       " 'Roberto Abreu Sodré, Vd                 Bairro/Centro                           ': 2243,\n",
       " 'Roberto Abreu Sodré, Vd                 Centro/Bairro                           ': 169,\n",
       " 'Roque Petroni Júnior, Av                Diadema/Marginal                        ': 1253,\n",
       " 'Roque Petroni Júnior, Av                Marginal/Diadema                        ': 683,\n",
       " 'Roque Petroni Júnior, Av (F)            Diadema/Marginal                        ': 881,\n",
       " 'Roque Petroni Júnior, Av (F)            Marginal/Diadema                        ': 496,\n",
       " 'Rudge, Av/Orlando Murgel, Vd            Bairro/Centro                           ': 484,\n",
       " 'Rudge, Av/Orlando Murgel, Vd            Centro/Bairro                           ': 541,\n",
       " 'Rudge, Av/Orlando Murgel, Vd (F)        Bairro/Centro                           ': 233,\n",
       " 'Rudge, Av/Orlando Murgel, Vd (F)        Centro/Bairro                           ': 232,\n",
       " 'S.Vicente, Av Marques de (F)            Barra Funda/Lapa                        ': 90,\n",
       " 'S.Vicente, Av Marques de (F)            Lapa/Barra Funda                        ': 526,\n",
       " 'Sabará, Av NSra do                      Bairro/Centro                           ': 6,\n",
       " 'Sabará, Av NSra do                      Centro/Bairro                           ': 1,\n",
       " 'Salim F Maluf, Av/Tatuapé, Pt (N USAR)  Marginal/Vila Prudente                  ': 1,\n",
       " 'Salim Farah Maluf, Av/Tatuapé, Pte      Marginal/Vila Prudente                  ': 5335,\n",
       " 'Salim Farah Maluf, Av/Tatuapé, Pte      Vila Prudente/Marginal                  ': 3669,\n",
       " 'Sapetuba, R                             único//                                 ': 1637,\n",
       " 'Sebastião Camargo, Túnel                unico//                                 ': 4718,\n",
       " 'Socorro, Pte                            Bairro/Centro                           ': 1365,\n",
       " 'Socorro, Pte                            Centro/Bairro                           ': 1640,\n",
       " 'Sumaré, Av                              Limão/Sumaré                            ': 149,\n",
       " 'Sumaré, Av                              Sumaré/Limão                            ': 255,\n",
       " 'Susana Rodrigues, R                     unico//                                 ': 444,\n",
       " 'São Vicente, Av Marq de                 Barra Funda/Lapa                        ': 856,\n",
       " 'São Vicente, Av Marq de                 Lapa/Barra Funda                        ': 1933,\n",
       " 'Sé, Pça da                              //unico                                 ': 205,\n",
       " 'Tabapua,R  (F)                          unico//                                 ': 196,\n",
       " 'Tabapuã, R                              //unico                                 ': 39,\n",
       " 'Tabapuã, R                              único//                                 ': 482,\n",
       " 'Tajurás, Av dos                         Bairro/Centro                           ': 2201,\n",
       " 'Tajurás, Av dos                         Centro/Bairro                           ': 297,\n",
       " 'Tancredo Neves, Av                      Anchieta/Imigrantes                     ': 395,\n",
       " 'Tancredo Neves, Av                      Imigrantes/Anchieta                     ': 336,\n",
       " 'Teodoro Sampaio, R                      unico//                                 ': 1651,\n",
       " 'Teotonio Vilela, Av Sen                 Bairro/Centro                           ': 41,\n",
       " 'Teotonio Vilela, Av Sen                 Centro/Bairro                           ': 7,\n",
       " 'Transamérica, Pte                       unico//                                 ': 1208,\n",
       " 'Trib de Justiça, Túnel                  Ibirapuera/Marginal                     ': 6386,\n",
       " 'Trib de Justiça, Túnel                  Marginal/Ibirapuera                     ': 3397,\n",
       " 'Trinta e Um de Março, Vd                unico//                                 ': 1540,\n",
       " 'Vale/P.Maia/Tirad/S.Dumont              Aeroporto/Santana                       ': 5988,\n",
       " 'Vale/P.Maia/Tirad/S.Dumont              Santana/Aeroporto                       ': 9089,\n",
       " 'Vale/P.Maia/Tirad/S.Dumont  (NÃO USAR)  Santana/Aeroporto                       ': 1,\n",
       " 'Valerio, Av São                         Bairro/Centro                           ': 1471,\n",
       " 'Valerio, Av São                         Centro/Bairro                           ': 24,\n",
       " 'Vicente Rao, Av Prof                    Diadema/Marginal                        ': 362,\n",
       " 'Vicente Rao, Av Prof                    Marginal/Diadema                        ': 245,\n",
       " 'Vicente Rao, Av Prof  (F)               Diadema/Marginal                        ': 5,\n",
       " 'Vicente Rao, Av Prof  (F)               Marginal/Diadema                        ': 2,\n",
       " 'Vila Guilherme, Pte                     Bairro/Centro                           ': 211,\n",
       " 'Vila Guilherme, Pte                     Centro/Bairro                           ': 92,\n",
       " 'Vila Matilde, Vd                        Penha/Vl Matilde                        ': 19,\n",
       " 'Vila Matilde, Vd                        Vl Matilde/Penha                        ': 32,\n",
       " 'Vinte Três/R Berta/M Guim (NÃO USAR)    Aeroporto/Santana                       ': 2,\n",
       " 'Vinte Três/R Berta/M Guimarães          Aeroporto/Santana                       ': 9678,\n",
       " 'Vinte Três/R Berta/M Guimarães          Santana/Aeroporto                       ': 10112,\n",
       " 'Vinte e Cinco de Março, Vd              único//                                 ': 140,\n",
       " 'Vital Brasil, Av                        Bairro/Centro                           ': 2983,\n",
       " 'Vital Brasil, Av                        Centro/Bairro                           ': 459,\n",
       " 'Vitor Manzini, Av                       Bairro/Centro                           ': 199,\n",
       " 'Vitor Manzini, Av                       Centro/Bairro                           ': 806,\n",
       " 'Washington Luis, Av                     Bairro/Centro                           ': 3511,\n",
       " 'Washington Luis, Av                     Centro/Bairro                           ': 2900,\n",
       " 'XXX                                     Campo Limpo/Morato                      ': 7,\n",
       " 'XXX                                     Morato/Campo Limpo                      ': 5,\n",
       " 'Xangai, Vd                              unico//                                 ': 84}"
      ]
     },
     "execution_count": 26,
     "metadata": {},
     "output_type": "execute_result"
    }
   ],
   "source": [
    "jam_count"
   ]
  },
  {
   "cell_type": "markdown",
   "metadata": {},
   "source": [
    "__jam_count__ is the dictionary listing all counts of traffic jams for each road."
   ]
  },
  {
   "cell_type": "markdown",
   "metadata": {},
   "source": [
    "The following graph plots the distribution of traffic jam counts between 2001 and 2019 for each and every road. It might seem more adapted to focus our renovations on the roads more likely to be impacted by traffic jams, and for that we may drop the roads with a small jam count."
   ]
  },
  {
   "cell_type": "code",
   "execution_count": 27,
   "metadata": {},
   "outputs": [],
   "source": [
    "sorted_jam_count = sorted(jam_count, key = jam_count.get)"
   ]
  },
  {
   "cell_type": "code",
   "execution_count": 28,
   "metadata": {},
   "outputs": [
    {
     "data": {
      "image/png": "[encoded data removed]",
      "text/plain": [
       "<Figure size 864x576 with 1 Axes>"
      ]
     },
     "metadata": {
      "needs_background": "light"
     },
     "output_type": "display_data"
    }
   ],
   "source": [
    "fig = plt.figure(figsize=(12,8))\n",
    "\n",
    "plt.plot(gs.sort(list(jam_count.values())))\n",
    "plt.xlabel(\"road n°\")\n",
    "plt.ylabel(\"number of traffic jams between 2001 and 2019\")\n",
    "plt.title(\"Number of traffic jams between 2001 and 2019 for each road in increasing order\")\n",
    "plt.show()"
   ]
  },
  {
   "cell_type": "code",
   "execution_count": 29,
   "metadata": {},
   "outputs": [],
   "source": [
    "list_jam_count = gs.sort(list(jam_count.values()))\n",
    "cdf = [list_jam_count[0]]\n",
    "for i in range(len(list_jam_count)):\n",
    "    cdf.append(cdf[i] + list_jam_count[i])\n",
    "\n",
    "cdf = cdf / cdf[-1]"
   ]
  },
  {
   "cell_type": "code",
   "execution_count": 30,
   "metadata": {},
   "outputs": [
    {
     "data": {
      "image/png": "[encoded data removed]",
      "text/plain": [
       "<Figure size 864x576 with 1 Axes>"
      ]
     },
     "metadata": {
      "needs_background": "light"
     },
     "output_type": "display_data"
    }
   ],
   "source": [
    "fig = plt.figure(figsize=(12,8))\n",
    "plt.plot(cdf)\n",
    "\n",
    "plt.xlabel(\"road n°\")\n",
    "plt.title(\"Cumulative distribution function of traffic jams in SP\")\n",
    "plt.show()"
   ]
  },
  {
   "cell_type": "markdown",
   "metadata": {},
   "source": [
    "The 180 most congestioned roads make up for 90% of all traffic jams in Sao Paulo between 2001 and 2019. That is where we will focus our renovation efforts."
   ]
  },
  {
   "cell_type": "code",
   "execution_count": 31,
   "metadata": {},
   "outputs": [],
   "source": [
    "roads_to_renovate = sorted_jam_count[-180:]"
   ]
  },
  {
   "cell_type": "markdown",
   "metadata": {},
   "source": [
    "# 3. Mathematical modeling"
   ]
  },
  {
   "cell_type": "markdown",
   "metadata": {},
   "source": [
    "In the following 2 sections, we establish a precise framework, listing the hypotheses and simplifications supporting our model. In particular:\n",
    "- 3.1. gives an introduction to the Gamma manifold and explains how each road can be represented by a point on it.\n",
    "- 3.2. justifies the use of information geometry to tackle the problem at hand, by seeing a renovation effort on a given road as a tangent vector based at its associated point."
   ]
  },
  {
   "cell_type": "markdown",
   "metadata": {},
   "source": [
    "## 3.1. Road representation: introduction to the Gamma manifold."
   ]
  },
  {
   "cell_type": "markdown",
   "metadata": {},
   "source": [
    "The modeling of the study relies heavily on the representation of a traffic jam as a random variable.\n",
    "In fact, the waiting time in a given traffic jam can be predicted by a Gamma distribution."
   ]
  },
  {
   "cell_type": "markdown",
   "metadata": {},
   "source": [
    "### 3.1.1. Hypotheses"
   ]
  },
  {
   "cell_type": "markdown",
   "metadata": {},
   "source": [
    "We consider that a traffic jam has a fixed exit rate, meaning that on average, in a given unit of time the same count of cars will exit the jam. The waiting time to exit the traffic jam once a car is ahead of the lane is independent of other cars and depends on the road only.\n",
    "\n",
    "In addition, switching lanes rarely helps, and if so, to a negligible extent; furthermore a car entering the traffic jam will almost always choose the least crowded lane (all drivers are a priori mentally sane). These two observations allow to reduce the modeling of a whole traffic jam to that of a single lane, although only in representation, because cars next to each other will have the same behavior. This means that in our modelling the width of the road is not taken into account, as mentioned in the introduction. \n",
    "\n",
    "Both of these hypotheses are central to the model."
   ]
  },
  {
   "cell_type": "markdown",
   "metadata": {},
   "source": [
    "### 3.1.2. Model"
   ]
  },
  {
   "cell_type": "markdown",
   "metadata": {},
   "source": [
    "In a traffic jam, you wait until every car in front of you has exited the traffic jam, meaning that the waiting time for a car entering the jam is merely the sum of the exit times of all the cars in front.\n",
    "\n",
    "As a $\\nu$-exponential process predicts the waiting time until one very first event (where $\\nu$ is a rate of a unit of time), a $(k,\\, \\nu)$-Gamma process will predict the waiting time until the $k$-th event: mathematically, it is the sum of $k$ i.i.d. $\\nu$-exponential processes. In the context of congestion time in a traffic jam, we are summing exit times, hence the connection between waiting time and Gamma disribution.\n",
    "\n",
    "Therefore, the congestion time of the jam follows a Gamma distribution associated to the road. Its parameters are:\n",
    "- $k$, the length of the car lane (jam size) in arbitrary units;\n",
    "- $\\nu$, the exit time rate of the traffic jam, i.e. the number of cars (in the same arbitrary unit) that exit the traffic jam in a given amount of time, so essentially the speed of the traffic jam.\n",
    "\n",
    "By arbitrary units we mean that there exists a number $n$ of cars, common to every road, such that $n$ cars will exit the jam every $\\frac{1}{\\nu}$ (depending on the road) unit of time on average. From this we draw that a road with car length $k$ is in fact as long as $kn$ cars. \n",
    "\n",
    "For a given road $r$, we note $T_r$ the congestion time that cars will have to wait in the case the traffic is jammed: $T_r \\rightsquigarrow G(k_r, \\nu_r)$, with distribution: $$\\forall t>0, \\, \\mathbb{f}(t) = \\frac{\\nu_r^{k_r}}{\\Gamma(k_r)} t^{k_r-1} e^{-\\nu_r t}.$$"
   ]
  },
  {
   "cell_type": "markdown",
   "metadata": {},
   "source": [
    "<center>\n",
    "    <img src='figures/car_lane.png' width=600px>\n",
    "</center>"
   ]
  },
  {
   "cell_type": "markdown",
   "metadata": {},
   "source": [
    "As a road $x_r$ can be represented by two parameters $k_r$ and $\\nu_r$, we can consider our space of study to be the space of such parameters (i.e. $\\mathbb{(R_+^*)^2}$).\n",
    "\n",
    "For the following, we denote Gamma distributions' parameters by $(\\kappa_r, \\gamma_r)$, where $\\kappa_r$=$k_r$ (expected jam size) and $\\gamma_r$=$\\frac{k_r}{\\nu_r}$ is the expected congestion time (mean of the Gamma distribution). The space of study is still $\\mathbb{(R_+^*)^2}$, and we are instantiating it in the next cell."
   ]
  },
  {
   "cell_type": "code",
   "execution_count": 32,
   "metadata": {},
   "outputs": [],
   "source": [
    "import matplotlib.pyplot as plt\n",
    "from geomstats.information_geometry.gamma import *\n",
    "\n",
    "space = GammaDistributions()"
   ]
  },
  {
   "cell_type": "markdown",
   "metadata": {},
   "source": [
    "For instance, on the following graph we are representing 3 roads."
   ]
  },
  {
   "cell_type": "code",
   "execution_count": 33,
   "metadata": {},
   "outputs": [
    {
     "data": {
      "image/png": "[encoded data removed]",
      "text/plain": [
       "<Figure size 864x576 with 1 Axes>"
      ]
     },
     "metadata": {
      "needs_background": "light"
     },
     "output_type": "display_data"
    }
   ],
   "source": [
    "road1 = gs.array([1.0,1.0])\n",
    "road2 = gs.array([2.0,1.0])\n",
    "road3 = gs.array([1.0,2.0])\n",
    "fig = plt.figure(figsize=(12,8))\n",
    "plt.scatter(*road1, label = 'road1')\n",
    "plt.scatter(*road2, label = 'road2')\n",
    "plt.scatter(*road3, label = 'road3')\n",
    "plt.xlabel(\"$\\\\kappa$ (expected jam size)\")\n",
    "plt.ylabel(\"$\\\\gamma$ (expected time spent in traffic)\")\n",
    "plt.title(\"3 roads subject to traffic jams, represented as points on the Gamma manifold.\")\n",
    "plt.legend()\n",
    "plt.xlim(0,5)\n",
    "plt.ylim(0,5)\n",
    "plt.show()"
   ]
  },
  {
   "cell_type": "markdown",
   "metadata": {},
   "source": [
    "Here:\n",
    "- road 1 is $(\\kappa_1=1,\\gamma_1=1)$;\n",
    "- road 2 is $(\\kappa_2=2,\\gamma_2=1)$;\n",
    "- road 3 is $(\\kappa_3=1,\\gamma_3=2)$.\n",
    "\n",
    "This means that cars on road 1 will spend half as much time as cars on road 3 in the case of a traffic jam, on average. On the other hand, cars on road 1 and road 2 will spend the same time in traffic on average, but the line is twice as long on road 2."
   ]
  },
  {
   "cell_type": "markdown",
   "metadata": {},
   "source": [
    "## 3.2. Mathematical representation of renovation efforts"
   ]
  },
  {
   "cell_type": "markdown",
   "metadata": {},
   "source": [
    "### 3.2.1. Hypotheses"
   ]
  },
  {
   "cell_type": "markdown",
   "metadata": {},
   "source": [
    "Renovating a road initially aims at reducing the expected time spent in traffic. This means that for a given road $x_r = (\\kappa_r, \\gamma_r)$, we want to reduce $\\gamma_r$ as efficiently as possible. But, the efficiency of the renovation in that regard heavily depends on the road: one can argue that it is more efficient to renovate a road where traffic jams are frequent than a road on which the traffic is almost fluid. This is where information geometry comes in handy: as a riemannian manifold, the metric of the Gamma manifold is point-dependent.\n",
    "\n",
    "By seeing renovation as an effort in reducing the expected time in traffic, we can model the advancement of the renovation as the geodesic departing from the point representation of the road, and with initial tangent vector in the direction and orientation $-\\gamma$. This reflects the fact that the advancement of the renovation will follow the most natural path, i.e. the distribution of the waiting time of the associated road will change as little as possible throughout the renovation. "
   ]
  },
  {
   "cell_type": "markdown",
   "metadata": {},
   "source": [
    "### 3.2.2. Model"
   ]
  },
  {
   "cell_type": "markdown",
   "metadata": {},
   "source": [
    "We decide to model a renovation effort of budget/effort $r_i$ on road $x_r$ as the tangent vector $r_i \\left(\\begin{array}{c} 0 \\\\ -1 \\end{array}\\right)_{x_r}$, where $\\left(\\begin{array}{c} 0 \\\\ -1 \\end{array}\\right)_{x}$ is the unit tangent vector at $x$ with direction and orientation $-\\gamma$. The amount of effort/resources invested in the renovation of a given road is directly represented by the norm of the tangent vector.\n",
    "\n",
    "Investing as much as $r_i$ renovation resources on road $x_r$ will result in having the renovated road $x_r' = \\exp_{x_r} \\left( r_i \\times \\left(\\begin{array}{c} 0 \\\\ -1 \\end{array}\\right)_{x_r} \\right)$, where $\\exp_{x}$ is the exponential map at $x$."
   ]
  },
  {
   "cell_type": "markdown",
   "metadata": {},
   "source": [
    "The following plot shows a comparison of similar renovations undertaken on the roads in the previous example."
   ]
  },
  {
   "cell_type": "code",
   "execution_count": 34,
   "metadata": {},
   "outputs": [
    {
     "data": {
      "image/png": "[encoded data removed]",
      "text/plain": [
       "<Figure size 864x576 with 1 Axes>"
      ]
     },
     "metadata": {
      "needs_background": "light"
     },
     "output_type": "display_data"
    },
    {
     "name": "stdout",
     "output_type": "stream",
     "text": [
      "Road 1 renovation: expected waiting time has decreased from 1.0 to 0.409, expected jam size has increased from 1.0 to 1.443.\n",
      "Road 2 renovation: expected waiting time has decreased from 1.0 to 0.536, expected jam size has increased from 2.0 to 2.995.\n",
      "Road 3 renovation: expected waiting time has decreased from 2.0 to 0.818, expected jam size has increased from 1.0 to 1.443.\n"
     ]
    }
   ],
   "source": [
    "fig = plt.figure(figsize=(12,8))\n",
    "\n",
    "t = gs.linspace(0,1,10)\n",
    "\n",
    "plt.scatter(*road1, label = 'road 1')\n",
    "plt.scatter(*road2, label = 'road 2')\n",
    "plt.scatter(*road3, label = 'road 3')\n",
    "\n",
    "effort = gs.array([0.0, -1.0])\n",
    "\n",
    "effort1 = space.metric.normalize(effort, road1)\n",
    "renovation1 = space.metric.geodesic(initial_point=road1, initial_tangent_vec=effort1)\n",
    "renovation1 = renovation1(t)\n",
    "plt.plot(*gs.transpose(renovation1), label = 'advancement of renovation effort on road 1')\n",
    "\n",
    "effort2 = space.metric.normalize(effort, road2)\n",
    "renovation2 = space.metric.geodesic(initial_point=road2, initial_tangent_vec=effort2)\n",
    "renovation2 = renovation2(t)\n",
    "plt.plot(*gs.transpose(renovation2), label = 'advancement of renovation effort on road 2')\n",
    "\n",
    "effort3 = space.metric.normalize(effort, road3)\n",
    "renovation3 = space.metric.geodesic(initial_point=road3, initial_tangent_vec=effort3)\n",
    "renovation3 = renovation3(t)\n",
    "plt.plot(*gs.transpose(renovation3), label = 'advancement of renovation effort on road 3')\n",
    "\n",
    "plt.xlabel(\"$\\\\kappa$ (expected jam size)\")\n",
    "plt.ylabel(\"$\\\\gamma$ (expected time spent in traffic)\")\n",
    "\n",
    "plt.title(\"Comparison of different renovation efforts\")\n",
    "\n",
    "plt.legend()\n",
    "plt.axis(\"equal\")\n",
    "\n",
    "plt.show()\n",
    "\n",
    "print(f\"Road 1 renovation: expected waiting time has decreased from {road1[1]} to {str(renovation1[-1,1])[:5]}, expected jam size has increased from {road1[0]} to {str(renovation1[-1,0])[:5]}.\")\n",
    "print(f\"Road 2 renovation: expected waiting time has decreased from {road2[1]} to {str(renovation2[-1,1])[:5]}, expected jam size has increased from {road2[0]} to {str(renovation2[-1,0])[:5]}.\")\n",
    "print(f\"Road 3 renovation: expected waiting time has decreased from {road3[1]} to {str(renovation3[-1,1])[:5]}, expected jam size has increased from {road3[0]} to {str(renovation3[-1,0])[:5]}.\")\n"
   ]
  },
  {
   "cell_type": "markdown",
   "metadata": {},
   "source": [
    "We observe that it is much more efficient to renovate road 3 rather than road 1 in terms of gained expected waiting time. This was expected given road 1 is much more fluid than road 3. In terms of relative time gain however, the result is the same: this is specific to Gamma distributions. In addition, renovating road 3 is more efficient than renovating road 2, either in absolute or relative time gain. We observe furthermore that investing similar efforts in renovating roads 3 and 2 result in different evolutions regarding the expected jam size: it increases by 44% in the first case and by as much as 50% in the second one. This becomes delicate especially considering the expected car line on road 2 was already long.\n",
    "\n",
    "We notice that renovations increase the expected jam size: this can be interpreted as the fact that a renovated roads allows drivers to go faster and the lane becomes longer, in a sense the traffic becomes more diluted. This can be observed in the following plot: renovations increase at once the expected jam size and the expected exit time rate, rendering the road open to much more traffic."
   ]
  },
  {
   "cell_type": "code",
   "execution_count": 35,
   "metadata": {},
   "outputs": [
    {
     "data": {
      "image/png": "[encoded data removed]",
      "text/plain": [
       "<Figure size 864x576 with 1 Axes>"
      ]
     },
     "metadata": {
      "needs_background": "light"
     },
     "output_type": "display_data"
    }
   ],
   "source": [
    "fig = plt.figure(figsize=(12,8))\n",
    "\n",
    "road1 = space.natural_to_standard(road1)\n",
    "road2 = space.natural_to_standard(road2)\n",
    "road3 = space.natural_to_standard(road3)\n",
    "\n",
    "plt.scatter(*road1, label = 'road 1')\n",
    "plt.scatter(*road2, label = 'road 2')\n",
    "plt.scatter(*road3, label = 'road 3')\n",
    "\n",
    "renovation1 = space.standard_to_natural(renovation1)\n",
    "renovation2 = space.standard_to_natural(renovation2)\n",
    "renovation3 = space.standard_to_natural(renovation3)\n",
    "\n",
    "plt.plot(*gs.transpose(renovation1), label = 'advancement of renovation effort on road 1')\n",
    "plt.plot(*gs.transpose(renovation2), label = 'advancement of renovation effort on road 2')\n",
    "plt.plot(*gs.transpose(renovation3), label = 'advancement of renovation effort on road 3')\n",
    "\n",
    "plt.xlabel(\"$\\\\kappa$ (expected jam size)\")\n",
    "plt.ylabel(\"$\\\\nu$ (expected exit time rate in traffic)\")\n",
    "\n",
    "plt.title(\"Comparison of different renovation efforts in natural coordinates\")\n",
    "\n",
    "plt.legend()\n",
    "plt.show()"
   ]
  },
  {
   "cell_type": "markdown",
   "metadata": {},
   "source": [
    "The fact that these results validate our observations and expected consequences of renovations legitimates the use of information geometry to model the situation. For instance, a euclidean modeling of the situation would make no sense: all renovations would have the same impact although applied to different roads, because the norm of a tangent vector (i.e. the renovation effort) would be independent of its base point (the road)."
   ]
  },
  {
   "cell_type": "markdown",
   "metadata": {},
   "source": [
    "Therefore, the key to optimizing Sao Paulo's traffic obviously lies in maximizing the efficiency of the renovation, with limited renovation resources."
   ]
  },
  {
   "cell_type": "markdown",
   "metadata": {},
   "source": [
    "## 3.3. Optimization problem"
   ]
  },
  {
   "cell_type": "markdown",
   "metadata": {},
   "source": [
    "The aim is to minimize the mean expected congestion time in Sao Paulo, weighted by the frequencies $f_i$ of traffic jams $1 \\leq i \\leq n$, under the constraint of a total quantity of resources $r$. This reads:\n",
    "\n",
    "\\begin{equation}\n",
    "\\begin{cases}\n",
    "\\min_{(r_i)}  \\sum_{i=1}^n f_i \\times \\exp_{x_i} \\left( r_i \\times \\left(\\begin{array}{c} 0 \\\\ -1 \\end{array}\\right)_{x_i} \\right)_{\\gamma} \\\\\n",
    "\\forall i \\in \\{1,...,n\\}, r_i \\geq 0 \\\\\n",
    "\\sum_{1 \\leq i \\leq n} r_i = r \\\\\n",
    "\\end{cases},\n",
    "\\end{equation}\n"
   ]
  },
  {
   "cell_type": "markdown",
   "metadata": {},
   "source": [
    "where:\n",
    "- $(x_i)$ are the roads;\n",
    "- $\\left(\\begin{array}{c} 0 \\\\ -1 \\end{array}\\right)_{x_i}$ is the unit tangent vector at $x_i$ with direction and orientation $-\\gamma$;\n",
    "- $\\exp_{x_i}$ is the exponential map at $x_i$;\n",
    "- for $x \\in G$ (the Gamma manifold), $x_{\\gamma}$ is its $\\gamma$ coordinate;\n",
    "- $r_i$ is the resource allocated for renovating road $i$."
   ]
  },
  {
   "cell_type": "markdown",
   "metadata": {},
   "source": [
    "#### Remark"
   ]
  },
  {
   "cell_type": "markdown",
   "metadata": {},
   "source": [
    "We could rewrite the problem in a simpler way analytically, making use of the following results:\n",
    "- the relative efficiency of renovation (i.e. the ratio of expected congestion times) does not depend on the original expected congestion time of the road ($\\gamma$);\n",
    "- similarly, the length of the car lane of the renovated road does not depend on the original expected congestion time of the road ($\\gamma$).\n",
    "\n",
    "However, we will not use these results to make way for a better computational solution of the problem.\n"
   ]
  },
  {
   "cell_type": "markdown",
   "metadata": {},
   "source": [
    "# 4. Dataset processing"
   ]
  },
  {
   "cell_type": "markdown",
   "metadata": {},
   "source": [
    "First, we associate to each of the roads eligible for renovation its parameters for a Gamma distribution, through a maximum likelihood fit of the durations of traffic jams: __jam_table__ gives, for each road $r$, a sample of size $n_r$ of all the traffic jams and their durations from 2001 to 2019."
   ]
  },
  {
   "cell_type": "code",
   "execution_count": 36,
   "metadata": {},
   "outputs": [],
   "source": [
    "names, kappas, gammas = [], [], []\n",
    "\n",
    "for road in roads_to_renovate:\n",
    "    frame = df.loc[df[\"name\"] == road]\n",
    "    sample = frame[\"duration\"]\n",
    "    try:\n",
    "        kappa, gamma = space.maximum_likelihood_fit(sample)\n",
    "        if not(gs.any(gs.isnan([kappa, gamma]))):\n",
    "            names.append(road)\n",
    "            kappas.append(kappa)\n",
    "            gammas.append(gamma)\n",
    "    except:\n",
    "        continue"
   ]
  },
  {
   "cell_type": "markdown",
   "metadata": {},
   "source": [
    "Having focused on the 180 most congestioned roads makes sense now, as the estimations for the Gamma parameters of the roads are much more relevant. Accounting for all the roads would result in having outliers in our set of roads, rendering the computation far more complex. In addition, roads with a negligible count of traffic jams in such a long time span do not necessarily call for renovation.\n",
    "\n",
    "That is why, for the following and for the problem at hand, we can consider the following simplification: the roads eligible for renovation represent SP's roads subject to traffic jams, i.e. the exact dataset we want to be working on."
   ]
  },
  {
   "cell_type": "code",
   "execution_count": 37,
   "metadata": {},
   "outputs": [],
   "source": [
    "dict_parameters = {\"name\": names, \"kappa\": kappas, \"gamma\": gammas}\n",
    "data = pd.DataFrame.from_dict(dict_parameters)"
   ]
  },
  {
   "cell_type": "markdown",
   "metadata": {},
   "source": [
    "To each of the roads eligible for renovation we associate a weight proportional to the number of traffic jams between 2001 and 2019."
   ]
  },
  {
   "cell_type": "code",
   "execution_count": 38,
   "metadata": {},
   "outputs": [],
   "source": [
    "good_points = list(data[\"name\"])\n",
    "weights = list(map(jam_count.get, good_points))\n",
    "weights = weights / gs.sum(weights)"
   ]
  },
  {
   "cell_type": "markdown",
   "metadata": {},
   "source": [
    "The 180 most congestioned roads of SP can be represented as follows on the Gamma manifold."
   ]
  },
  {
   "cell_type": "code",
   "execution_count": 39,
   "metadata": {},
   "outputs": [
    {
     "data": {
      "image/png": "[encoded data removed]",
      "text/plain": [
       "<Figure size 864x576 with 1 Axes>"
      ]
     },
     "metadata": {
      "needs_background": "light"
     },
     "output_type": "display_data"
    }
   ],
   "source": [
    "kappa, gamma = data[\"kappa\"], data[\"gamma\"]\n",
    "\n",
    "fig = plt.figure(figsize=(12,8))\n",
    "\n",
    "mean = gs.array([gs.sum(weights*kappa), gs.sum(weights*gamma)])\n",
    "\n",
    "plt.scatter(kappa, gamma, label='road eligible for renovation')\n",
    "plt.scatter(*mean, color = 'r', s=100, label='mean road eligible for renovation')\n",
    "plt.xlabel(\"$\\\\kappa$ (number of cars in arbitrary units)\")\n",
    "plt.ylabel(\"$\\\\gamma$ (expected time spent in traffic in hours)\")\n",
    "plt.title(\"Sao Paulo's roads most subject to traffic jams, as represented as points on the Gamma manifold.\")\n",
    "plt.legend()\n",
    "plt.show()"
   ]
  },
  {
   "cell_type": "markdown",
   "metadata": {},
   "source": [
    "We observe that the vast majority of traffic jams in SP can take from 2 to 6+ hours of congestion time. On the most impactful roads (eligible for renovation), the mean waiting time is 3h 24min."
   ]
  },
  {
   "cell_type": "markdown",
   "metadata": {},
   "source": [
    "# 5. Solving the problem at hand"
   ]
  },
  {
   "cell_type": "markdown",
   "metadata": {},
   "source": [
    "Arbitrarily (and for computational purposes), we are allocated a total of 10 resources to allocate on the renovations. It might seem like the amount of total resources should not matter that much as the original aim is simply knowing how to allocate the total quantity of resources between all the roads eligible for renovation, but renovations are not linear."
   ]
  },
  {
   "cell_type": "code",
   "execution_count": 40,
   "metadata": {},
   "outputs": [],
   "source": [
    "total_resources = 10"
   ]
  },
  {
   "cell_type": "code",
   "execution_count": 41,
   "metadata": {},
   "outputs": [],
   "source": [
    "points = gs.transpose(gs.stack([kappa, gamma]))\n",
    "n_points = len(points)"
   ]
  },
  {
   "cell_type": "markdown",
   "metadata": {},
   "source": [
    "We optimize the allocation of resources for renovation here:"
   ]
  },
  {
   "cell_type": "code",
   "execution_count": 42,
   "metadata": {},
   "outputs": [
    {
     "ename": "RuntimeError",
     "evalue": "Automatic differentiation is not supported with numpy backend. Use autograd, pytorch or tensorflow backend instead.\nChange backend via the command export GEOMSTATS_BACKEND=autograd in a terminal.",
     "output_type": "error",
     "traceback": [
      "\u001b[1;31m---------------------------------------------------------------------------\u001b[0m",
      "\u001b[1;31mRuntimeError\u001b[0m                              Traceback (most recent call last)",
      "\u001b[1;32mc:\\Users\\Jules\\Documents\\Geomstats\\notebooks\\18_real_world_applications__sao_paulo_traffic_optimization.ipynb Cell 71'\u001b[0m in \u001b[0;36m<cell line: 16>\u001b[1;34m()\u001b[0m\n\u001b[0;32m     <a href='vscode-notebook-cell:/c%3A/Users/Jules/Documents/Geomstats/notebooks/18_real_world_applications__sao_paulo_traffic_optimization.ipynb#ch0000070?line=12'>13</a>\u001b[0m     gammas \u001b[39m=\u001b[39m end_points[:,\u001b[39m1\u001b[39m]\n\u001b[0;32m     <a href='vscode-notebook-cell:/c%3A/Users/Jules/Documents/Geomstats/notebooks/18_real_world_applications__sao_paulo_traffic_optimization.ipynb#ch0000070?line=13'>14</a>\u001b[0m     \u001b[39mreturn\u001b[39;00m gs\u001b[39m.\u001b[39mmean(weights\u001b[39m*\u001b[39mgammas)\n\u001b[1;32m---> <a href='vscode-notebook-cell:/c%3A/Users/Jules/Documents/Geomstats/notebooks/18_real_world_applications__sao_paulo_traffic_optimization.ipynb#ch0000070?line=15'>16</a>\u001b[0m objective_with_grad \u001b[39m=\u001b[39m gs\u001b[39m.\u001b[39;49mautodiff\u001b[39m.\u001b[39;49mvalue_and_grad(objective, to_numpy\u001b[39m=\u001b[39;49m\u001b[39mTrue\u001b[39;49;00m)\n\u001b[0;32m     <a href='vscode-notebook-cell:/c%3A/Users/Jules/Documents/Geomstats/notebooks/18_real_world_applications__sao_paulo_traffic_optimization.ipynb#ch0000070?line=17'>18</a>\u001b[0m resources \u001b[39m=\u001b[39m total_resources \u001b[39m*\u001b[39m weights\n\u001b[0;32m     <a href='vscode-notebook-cell:/c%3A/Users/Jules/Documents/Geomstats/notebooks/18_real_world_applications__sao_paulo_traffic_optimization.ipynb#ch0000070?line=19'>20</a>\u001b[0m res \u001b[39m=\u001b[39m minimize(\n\u001b[0;32m     <a href='vscode-notebook-cell:/c%3A/Users/Jules/Documents/Geomstats/notebooks/18_real_world_applications__sao_paulo_traffic_optimization.ipynb#ch0000070?line=20'>21</a>\u001b[0m     objective_with_grad,\n\u001b[0;32m     <a href='vscode-notebook-cell:/c%3A/Users/Jules/Documents/Geomstats/notebooks/18_real_world_applications__sao_paulo_traffic_optimization.ipynb#ch0000070?line=21'>22</a>\u001b[0m     resources,\n\u001b[1;32m   (...)\u001b[0m\n\u001b[0;32m     <a href='vscode-notebook-cell:/c%3A/Users/Jules/Documents/Geomstats/notebooks/18_real_world_applications__sao_paulo_traffic_optimization.ipynb#ch0000070?line=28'>29</a>\u001b[0m     tol\u001b[39m=\u001b[39mgs\u001b[39m.\u001b[39matol,\n\u001b[0;32m     <a href='vscode-notebook-cell:/c%3A/Users/Jules/Documents/Geomstats/notebooks/18_real_world_applications__sao_paulo_traffic_optimization.ipynb#ch0000070?line=29'>30</a>\u001b[0m )\n",
      "File \u001b[1;32m~\\Documents\\geomstats\\geomstats\\_backend\\numpy\\autodiff.py:23\u001b[0m, in \u001b[0;36mvalue_and_grad\u001b[1;34m(*args, **kwargs)\u001b[0m\n\u001b[0;32m     21\u001b[0m \u001b[39mdef\u001b[39;00m \u001b[39mvalue_and_grad\u001b[39m(\u001b[39m*\u001b[39margs, \u001b[39m*\u001b[39m\u001b[39m*\u001b[39mkwargs):\n\u001b[0;32m     22\u001b[0m     \u001b[39m\"\"\"Return an error when using automatic differentiation with numpy.\"\"\"\u001b[39;00m\n\u001b[1;32m---> 23\u001b[0m     \u001b[39mraise\u001b[39;00m \u001b[39mRuntimeError\u001b[39;00m(\n\u001b[0;32m     24\u001b[0m         \u001b[39m\"\u001b[39m\u001b[39mAutomatic differentiation is not supported with numpy backend. \u001b[39m\u001b[39m\"\u001b[39m\n\u001b[0;32m     25\u001b[0m         \u001b[39m\"\u001b[39m\u001b[39mUse autograd, pytorch or tensorflow backend instead.\u001b[39m\u001b[39m\\n\u001b[39;00m\u001b[39m\"\u001b[39m\n\u001b[0;32m     26\u001b[0m         \u001b[39m\"\u001b[39m\u001b[39mChange backend via the command \u001b[39m\u001b[39m\"\u001b[39m\n\u001b[0;32m     27\u001b[0m         \u001b[39m\"\u001b[39m\u001b[39mexport GEOMSTATS_BACKEND=autograd in a terminal.\u001b[39m\u001b[39m\"\u001b[39m\n\u001b[0;32m     28\u001b[0m     )\n",
      "\u001b[1;31mRuntimeError\u001b[0m: Automatic differentiation is not supported with numpy backend. Use autograd, pytorch or tensorflow backend instead.\nChange backend via the command export GEOMSTATS_BACKEND=autograd in a terminal."
     ]
    }
   ],
   "source": [
    "original_SP = gs.sum(gs.einsum(\"...,...j->...j\", weights, points), axis=0)\n",
    "\n",
    "def rebuilding(point, resources):\n",
    "    n_points = point.shape[0] if len(point.shape)>1 else 1\n",
    "    vec = gs.tile([gs.array([0.0,-1.0])], (n_points, 1))\n",
    "    norm = resources * total_resources\n",
    "    tangent_vec = gs.einsum(\"...,...j->...j\", norm, vec)\n",
    "    end_point = space.metric.exp(tangent_vec, point, n_steps=100)\n",
    "    return end_point\n",
    "\n",
    "def objective(resources):\n",
    "    end_points = rebuilding(points, resources)\n",
    "    gammas = end_points[:,1]\n",
    "    return gs.mean(weights*gammas)\n",
    "\n",
    "objective_with_grad = gs.autodiff.value_and_grad(objective, to_numpy=True)\n",
    "\n",
    "resources = total_resources * weights\n",
    "\n",
    "res = minimize(\n",
    "    objective_with_grad,\n",
    "    resources,\n",
    "    method=\"SLSQP\",\n",
    "    constraints=({'type': 'ineq', 'fun': lambda x: total_resources - gs.sum(x)},\n",
    "    {'type': 'ineq', 'fun': lambda x: x.min()},\n",
    "    ),\n",
    "    jac=True,\n",
    "    options={\"disp\": False, \"maxiter\": 100},\n",
    "    tol=gs.atol,\n",
    ")\n",
    "\n",
    "resources = res.x\n",
    "\n",
    "new_points = rebuilding(points, resources)\n",
    "\n",
    "fig = plt.figure(figsize=(16,12))\n",
    "\n",
    "plt.scatter(points[:,0], points[:,1], label = 'original points', s=20)\n",
    "\n",
    "plt.scatter(*original_SP, label = 'original SP', s=50)\n",
    "\n",
    "plt.scatter(new_points[:,0], new_points[:,1], label = 'points after renovation', s=20)\n",
    "\n",
    "for i in range(n_points):\n",
    "    plt.arrow(points[i,0], points[i,1], (new_points - points)[i,0], (new_points - points)[i,1], head_width=.01, linestyle =\"\", length_includes_head = True)\n",
    "    percentage = resources[i] * 100 / total_resources\n",
    "    if percentage > 2:\n",
    "        plt.text(points[i,0], points[i,1], f\"{str(percentage)[:5]} %\")\n",
    "    \n",
    "new_SP = gs.sum(gs.einsum(\"...,...j->...j\", weights, new_points), axis=0)\n",
    "\n",
    "plt.scatter(*new_SP, label = 'SP after renovation', s=50)\n",
    "\n",
    "plt.arrow(*original_SP, *(new_SP - original_SP), head_width=.05, linestyle = \"-\", length_includes_head = True)\n",
    "\n",
    "plt.xlabel(\"$\\\\kappa$ (expected jam size)\")\n",
    "plt.ylabel(\"$\\\\gamma$ (expected time spent in traffic in hours)\")\n",
    "\n",
    "plt.title(\"Optimization of SP's traffic\")\n",
    "\n",
    "plt.legend()\n",
    "\n",
    "plt.show()"
   ]
  },
  {
   "cell_type": "markdown",
   "metadata": {},
   "source": [
    "Above, the percentages represent the proportion of the total resources that have been allocated to the renovation of each road: they are visible if greater than 1%."
   ]
  },
  {
   "cell_type": "code",
   "execution_count": null,
   "metadata": {},
   "outputs": [],
   "source": [
    "original_size, original_time = original_SP\n",
    "new_size, new_time = new_SP\n",
    "\n",
    "relative_time_reduction = (original_time - new_time) / original_time\n",
    "\n",
    "original_variance, new_variance = original_time**2 / original_size, new_time**2 / new_size\n",
    "relative_variance_reduction = (original_variance - new_variance) / original_variance\n",
    "\n",
    "print(f\"Mean expected congestion time has been reduced by as much as {str(relative_time_reduction*100)[:5]} % in Sao Paulo :)\")\n",
    "print(f\"Variance in congestion time has been reduced by as much as {str(relative_variance_reduction*100)[:5]} % in Sao Paulo :)\")"
   ]
  },
  {
   "cell_type": "markdown",
   "metadata": {},
   "source": [
    "# Conclusion"
   ]
  },
  {
   "cell_type": "markdown",
   "metadata": {},
   "source": [
    "We have managed to substantially reduce the mean expected congestion time in SP by as much as 25%, not at great expense of the expected jam sizes! We also happen to have halved the variance of the mean congestion time, rendering long traffic jams rarer. This is a great success!"
   ]
  }
 ],
 "metadata": {
  "backends": [
   "autograd"
  ],
  "interpreter": {
   "hash": "bb13ff0fdb59d83d23981f704716babf0aa4691da0c52572c8d02d981125b795"
  },
  "kernelspec": {
   "display_name": "Python 3.10.4 64-bit",
   "language": "python",
   "name": "python3"
  },
  "language_info": {
   "codemirror_mode": {
    "name": "ipython",
    "version": 3
   },
   "file_extension": ".py",
   "mimetype": "text/x-python",
   "name": "python",
   "nbconvert_exporter": "python",
   "pygments_lexer": "ipython3",
   "version": "3.10.4"
  },
  "orig_nbformat": 4
 },
 "nbformat": 4,
 "nbformat_minor": 2
}
