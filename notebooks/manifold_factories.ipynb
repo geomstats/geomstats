{
 "metadata": {
  "language_info": {
   "codemirror_mode": {
    "name": "ipython",
    "version": 3
   },
   "file_extension": ".py",
   "mimetype": "text/x-python",
   "name": "python",
   "nbconvert_exporter": "python",
   "pygments_lexer": "ipython3",
   "version": "3.7.0-final"
  },
  "orig_nbformat": 2,
  "kernelspec": {
   "name": "python37064bitgeomstatscondaccca478d4a004a629ff0bfbce4e7e8c7",
   "display_name": "Python 3.7.0 64-bit ('geomstats': conda)"
  }
 },
 "nbformat": 4,
 "nbformat_minor": 2,
 "cells": [
  {
   "source": [
    "This Notebook is here to present the **manifold factories** and how to use them with **metrics**. For a real use case, you can also look at *special_euclidean.py* in the geometry module."
   ],
   "cell_type": "markdown",
   "metadata": {}
  },
  {
   "cell_type": "code",
   "execution_count": 1,
   "metadata": {},
   "outputs": [
    {
     "output_type": "stream",
     "name": "stderr",
     "text": [
      "INFO: Using numpy backend\n"
     ]
    }
   ],
   "source": [
    "import logging\n",
    "\n",
    "import geomstats.backend as gs\n",
    "from geomstats.geometry.manifold import AbstractManifoldFactory, Manifold\n",
    "from geomstats.geometry.connection import Connection\n",
    "\n",
    "gs.random.seed(2020)\n",
    "#logging.getLogger().setLevel('DEBUG')"
   ]
  },
  {
   "source": [
    "Let's say we have a family of manifolds called **tata** which can have some type of metrics .\n",
    "\n",
    "depending of some parameter, we know that we want to have a specific manifold of this family."
   ],
   "cell_type": "markdown",
   "metadata": {}
  },
  {
   "cell_type": "code",
   "execution_count": 2,
   "metadata": {},
   "outputs": [],
   "source": [
    "# first let's create the factory\n",
    "class TataManifoldFactory(AbstractManifoldFactory):\n",
    "    \"\"\"Factory for Tata Manifolds.\"\"\"\n",
    "\n",
    "    metrics_creators = {} # These are class variables\n",
    "    manifolds_creators = {} "
   ]
  },
  {
   "cell_type": "code",
   "execution_count": 3,
   "metadata": {},
   "outputs": [],
   "source": [
    "# Now that we have a factory for our type of manifolds, we can create different types associated with this factory\n",
    "\n",
    "@TataManifoldFactory.register(color='blue')\n",
    "class BlueTataManifold(Manifold):\n",
    "    def belongs(self, point, atol=gs.atol):\n",
    "        return True\n",
    "\n",
    "@TataManifoldFactory.register(color='yellow')\n",
    "class YellowTataManifold(Manifold):\n",
    "    def belongs(self, point, atol=gs.atol):\n",
    "        return True\n",
    "\n",
    "@TataManifoldFactory.register(dim=3, color='blue')\n",
    "class MatrixBlueTataManifold(Manifold):\n",
    "    def belongs(self, point, atol=gs.atol):\n",
    "        return True"
   ]
  },
  {
   "cell_type": "code",
   "execution_count": 4,
   "metadata": {},
   "outputs": [
    {
     "output_type": "stream",
     "name": "stdout",
     "text": [
      "<__main__.BlueTataManifold object at 0x7efb8566a400>\n<__main__.YellowTataManifold object at 0x7efb8566a470>\n<__main__.MatrixBlueTataManifold object at 0x7efb8566a4e0>\nNot Happy! no manifold with key containing [('color', 'grey'), ('dim', 2)] .keys ars dict_keys([(('color', 'blue'),), (('color', 'yellow'),), (('color', 'blue'), ('dim', 3))])\n"
     ]
    }
   ],
   "source": [
    "# let's now test what happens when we try to create some manifold\n",
    "manifold_b = TataManifoldFactory.create(dim=2, color='blue')\n",
    "print(manifold_b)\n",
    "\n",
    "manifold_y = TataManifoldFactory.create(dim=2, color='yellow')\n",
    "print(manifold_y)\n",
    "\n",
    "manifold_mat_b = TataManifoldFactory.create(dim=3, color='blue')\n",
    "print(manifold_mat_b)\n",
    "\n",
    "try:\n",
    "    manifold_bad = TataManifoldFactory.create(dim=2, color='grey')\n",
    "except Exception as e:\n",
    "   print(f\"Not Happy! {e}\")\n",
    "\n",
    "\n"
   ]
  },
  {
   "source": [
    "We can see that the type of manifold created is what we would expect. \n",
    "\n",
    "For the next step, let's add some metrics registered to our factory.\n",
    "We will have a first metric with a custom name and a second one without a name."
   ],
   "cell_type": "markdown",
   "metadata": {}
  },
  {
   "cell_type": "code",
   "execution_count": 5,
   "metadata": {},
   "outputs": [],
   "source": [
    "# TODO metrics args and kwargs\n",
    "\n",
    "@TataManifoldFactory.registerMetric(name='TheName')\n",
    "class FirstTataMetric(Connection):\n",
    "    def __init__(self):\n",
    "        super().__init__(dim=2)\n",
    "\n",
    "    def dummy_method(self, my_arg, my_kwarg=None):\n",
    "        return f\"First, dummy method. my manifold is {self.manifold}\"\n",
    "\n",
    "@TataManifoldFactory.registerMetric()\n",
    "class SecondTataMetric(Connection):\n",
    "    def __init__(self):\n",
    "        super().__init__(dim=2)\n",
    "\n",
    "    def dummy_method(self, my_arg, my_kwarg=None):\n",
    "        return f\"Second, dummy method, args: {my_arg} , kwargs: {my_kwarg}\"\n"
   ]
  },
  {
   "source": [
    "Now we will create a new manifold with an instance of these two metrics associated to it."
   ],
   "cell_type": "markdown",
   "metadata": {}
  },
  {
   "cell_type": "code",
   "execution_count": 6,
   "metadata": {},
   "outputs": [
    {
     "output_type": "stream",
     "name": "stdout",
     "text": [
      "the available metrics are: dict_keys(['TheName', 'SecondTataMetric'])\nmy newly created manifold is associated with the following metrics: [<__main__.FirstTataMetric object at 0x7efb8566a278>, <__main__.SecondTataMetric object at 0x7efb8566a358>]\n"
     ]
    }
   ],
   "source": [
    "print(f\"the available metrics are: {TataManifoldFactory.metric_keys()}\")\n",
    "\n",
    "manifold_with_one_metric = TataManifoldFactory.create(dim=2, color='yellow', metrics_names='TheName')\n",
    "manifold_with_metrics = TataManifoldFactory.create(dim=2, color='yellow', metrics_names=['TheName', 'SecondTataMetric'])\n",
    "print(f\"my newly created manifold is associated with the following metrics: {manifold_with_metrics.metrics}\")"
   ]
  },
  {
   "cell_type": "code",
   "execution_count": 7,
   "metadata": {},
   "outputs": [
    {
     "output_type": "stream",
     "name": "stderr",
     "text": [
      "WARNING: IDontExist not in metrics keys: dict_keys(['TheName', 'SecondTataMetric'])\n"
     ]
    }
   ],
   "source": [
    "# we can see what is happening, when we give a bad name\n",
    "manifold_with_bad_metric = TataManifoldFactory.create(dim=2, color='yellow', metrics_names='IDontExist')"
   ]
  },
  {
   "cell_type": "code",
   "execution_count": 12,
   "metadata": {},
   "outputs": [
    {
     "output_type": "execute_result",
     "data": {
      "text/plain": [
       "{'FirstTataMetric': 'First, dummy method. my manifold is <__main__.YellowTataManifold object at 0x7f89a63913c8>',\n",
       " 'SecondTataMetric': 'Second, dummy method, args: 4 , kwargs: YES'}"
      ]
     },
     "metadata": {},
     "execution_count": 12
    }
   ],
   "source": [
    "# we can now call a method on all the metrics of this manifold with some args and/or some kwargs.\n",
    "# When there is multiple metrics, the result is a dictionnary with the metrics names as keys.\n",
    "manifold_with_metrics.call_method_on_metrics('dummy_method', 4, my_kwarg='YES')"
   ]
  },
  {
   "cell_type": "code",
   "execution_count": 13,
   "metadata": {},
   "outputs": [
    {
     "output_type": "execute_result",
     "data": {
      "text/plain": [
       "'First, dummy method. my manifold is <__main__.YellowTataManifold object at 0x7f89a63954a8>'"
      ]
     },
     "metadata": {},
     "execution_count": 13
    }
   ],
   "source": [
    "# If there is only one metric, the result of the method is directly returned.\n",
    "manifold_with_one_metric.call_method_on_metrics('dummy_method', 4, my_kwarg='YES')"
   ]
  },
  {
   "cell_type": "code",
   "execution_count": null,
   "metadata": {},
   "outputs": [],
   "source": []
  }
 ]
}