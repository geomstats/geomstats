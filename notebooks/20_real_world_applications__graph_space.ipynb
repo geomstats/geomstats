{
 "cells": [
  {
   "cell_type": "markdown",
   "id": "221598f3",
   "metadata": {},
   "source": [
    "## Graph Space\n",
    "$\\textbf{Lead Author: Anna Calissano}$\n"
   ]
  },
  {
   "cell_type": "markdown",
   "id": "e8ede5d2",
   "metadata": {},
   "source": [
    "Dear Learner,\n",
    "\n",
    "in this notebook we are going to see gpca and regression in graph space in action."
   ]
  },
  {
   "cell_type": "code",
   "execution_count": 1,
   "id": "522f03d7",
   "metadata": {},
   "outputs": [
    {
     "name": "stderr",
     "output_type": "stream",
     "text": [
      "INFO: Using numpy backend\n"
     ]
    }
   ],
   "source": [
    "import matplotlib.pyplot as plt\n",
    "import networkx as nx\n",
    "\n",
    "import geomstats.backend as gs\n",
    "\n",
    "import geomstats.datasets.utils as data_utils\n",
    "\n",
    "from geomstats.geometry.stratified.graph_space import GraphSpace\n",
    "\n",
    "from geomstats.learning.aac import AAC\n",
    "\n",
    "gs.random.seed(2020)"
   ]
  },
  {
   "cell_type": "markdown",
   "id": "32b1acd0",
   "metadata": {},
   "source": [
    "# Mammals Grooming\n",
    "\n",
    "## Motivation and Dataset\n",
    "This case study focuses on how the social interaction between baboons changes after an alpha or beta male is knocked-out from the community. Social interaction is here defined as grooming interaction between members of the group. The dataset consists of a set of $26$ social interaction networks between baboons, where nodes are baboons and edges are the number of grooming interactions between baboons. The networks are naturally unlabelled because the baboons in each network are different, belonging to different groups. Data are available at Rossi et al. (2015), while more details about the case study are available at Franz et al. (2015). Notice that the original dataset was filtered, keeping only the networks with less than $20$ baboons. "
   ]
  },
  {
   "cell_type": "code",
   "execution_count": 2,
   "id": "4a44da66",
   "metadata": {},
   "outputs": [],
   "source": [
    "mammals = data_utils.load_mammals()"
   ]
  },
  {
   "cell_type": "markdown",
   "id": "5f895fb8",
   "metadata": {},
   "source": [
    "We visualize one mammals group:"
   ]
  },
  {
   "cell_type": "code",
   "execution_count": 3,
   "id": "ca8458a6",
   "metadata": {},
   "outputs": [
    {
     "data": {
      "text/plain": [
       "9.0"
      ]
     },
     "execution_count": 3,
     "metadata": {},
     "output_type": "execute_result"
    }
   ],
   "source": [
    "mammals.max()"
   ]
  },
  {
   "cell_type": "code",
   "execution_count": 4,
   "id": "039f23fc",
   "metadata": {},
   "outputs": [
    {
     "data": {
      "text/plain": [
       "<matplotlib.collections.LineCollection at 0x7fb6a638b730>"
      ]
     },
     "execution_count": 4,
     "metadata": {},
     "output_type": "execute_result"
    },
    {
     "data": {
      "image/png": "[encoded data removed]",
      "text/plain": [
       "<Figure size 432x288 with 1 Axes>"
      ]
     },
     "metadata": {},
     "output_type": "display_data"
    }
   ],
   "source": [
    "mammals_obs = nx.from_numpy_array(mammals[5])\n",
    "pos = nx.kamada_kawai_layout(mammals_obs)\n",
    "edges, weights = zip(*nx.get_edge_attributes(mammals_obs,'weight').items())\n",
    "\n",
    "pos = nx.spring_layout(mammals_obs)\n",
    "nx.draw_networkx_nodes(mammals_obs, pos, node_color='b', node_size=6)\n",
    "nx.draw_networkx_edges(mammals_obs, pos, edgelist=edges, edge_color=weights, \n",
    "                       width=2.0, edge_cmap=plt.cm.Blues, edge_vmin=0., edge_vmax=10.)"
   ]
  },
  {
   "cell_type": "markdown",
   "id": "c07ba721",
   "metadata": {},
   "source": [
    "### Frechet Mean\n",
    "We compute the Frechet Mean of the set. We first initialize the graph space with the correct number of nodes (the adjacency matrices have been already padded with zeros), then we intialize the space metric and the parameters for the geodesic alignment. "
   ]
  },
  {
   "cell_type": "code",
   "execution_count": 5,
   "id": "289c529b",
   "metadata": {},
   "outputs": [],
   "source": [
    "graph_space = GraphSpace(n_nodes=mammals.shape[1])\n",
    "graph_space.metric.set_aligner('FAQ')\n",
    "\n",
    "aac_fm = AAC(estimate='frechet_mean', metric=graph_space.metric, max_iter = 300)"
   ]
  },
  {
   "cell_type": "code",
   "execution_count": 6,
   "id": "35c1120e",
   "metadata": {},
   "outputs": [],
   "source": [
    "aac_fm.fit(mammals);"
   ]
  },
  {
   "cell_type": "markdown",
   "id": "e67673b9",
   "metadata": {},
   "source": [
    "Let's visualize the mean:"
   ]
  },
  {
   "cell_type": "code",
   "execution_count": 7,
   "id": "fe07aafc",
   "metadata": {},
   "outputs": [
    {
     "data": {
      "image/png": "[encoded data removed]",
      "text/plain": [
       "<Figure size 432x288 with 1 Axes>"
      ]
     },
     "metadata": {},
     "output_type": "display_data"
    }
   ],
   "source": [
    "mammals_fm = nx.from_numpy_array(aac_fm.estimate_)\n",
    "edges,weights = zip(*nx.get_edge_attributes(mammals_fm,'weight').items())\n",
    "\n",
    "nx.draw_networkx_nodes(mammals_fm, pos, node_color='b', node_size=6)\n",
    "nx.draw_networkx_edges(mammals_fm, pos, edgelist=edges, edge_color=weights,\n",
    "                       width=2.0, edge_cmap=plt.cm.Blues, edge_vmin=0., edge_vmax=10.);"
   ]
  },
  {
   "cell_type": "markdown",
   "id": "1e77de2f",
   "metadata": {},
   "source": [
    "### Generalized Geodesic Principal Component Analysis (GGPCA)\n",
    "We compute the principal components:"
   ]
  },
  {
   "cell_type": "code",
   "execution_count": 8,
   "id": "0b6228cb",
   "metadata": {},
   "outputs": [
    {
     "data": {
      "text/plain": [
       "<geomstats.geometry.stratified.graph_space.PointToGeodesicAligner at 0x7fb69e36a160>"
      ]
     },
     "execution_count": 8,
     "metadata": {},
     "output_type": "execute_result"
    }
   ],
   "source": [
    "graph_space.metric.set_point_to_geodesic_aligner(\n",
    "    aligner='default', s_min=mammals.min()-1, s_max=mammals.max() +1, n_points=5\n",
    ")"
   ]
  },
  {
   "cell_type": "code",
   "execution_count": 9,
   "id": "c778e6fd",
   "metadata": {},
   "outputs": [],
   "source": [
    "aac_ggpca = AAC(estimate='ggpca', metric=graph_space.metric, max_iter=5)\n",
    "aac_ggpca.fit(mammals);"
   ]
  },
  {
   "cell_type": "markdown",
   "id": "00b5fb14",
   "metadata": {},
   "source": [
    "To visualize the GGPCA we plot the data along the geodesic:"
   ]
  },
  {
   "cell_type": "code",
   "execution_count": 10,
   "id": "7b5e505b",
   "metadata": {},
   "outputs": [
    {
     "data": {
      "text/plain": [
       "(2, 18, 18)"
      ]
     },
     "execution_count": 10,
     "metadata": {},
     "output_type": "execute_result"
    }
   ],
   "source": [
    "aac_ggpca.components_.shape"
   ]
  },
  {
   "cell_type": "markdown",
   "id": "99624e6c",
   "metadata": {},
   "source": [
    "Let's visualized the pricipal components:"
   ]
  },
  {
   "cell_type": "code",
   "execution_count": 11,
   "id": "cae60e9c",
   "metadata": {
    "scrolled": true
   },
   "outputs": [
    {
     "data": {
      "text/plain": [
       "array([0.24219421, 0.13730204])"
      ]
     },
     "execution_count": 11,
     "metadata": {},
     "output_type": "execute_result"
    }
   ],
   "source": [
    "aac_ggpca.explained_variance_ratio_"
   ]
  },
  {
   "cell_type": "code",
   "execution_count": 12,
   "id": "781ac691",
   "metadata": {},
   "outputs": [],
   "source": [
    "X_last = graph_space.permute(mammals, graph_space.metric.point_to_geodesic_aligner.perm_)"
   ]
  },
  {
   "cell_type": "markdown",
   "id": "6125772c",
   "metadata": {},
   "source": [
    "\n",
    "The first geodesic principal components reflect the variability in terms of isolated nodes, the second principal component in terms of density. The example is able to show how the GGPCA in the Graph Space setting is capturing social interaction changes that the original paper Rossi et al. (2015) is not able to capture with standard Euclidean methods. This example is also naturally unlabelled, due to the different baboons in different groups (i.e. different nodes in different networks).\n"
   ]
  },
  {
   "cell_type": "markdown",
   "id": "a2912d1d",
   "metadata": {},
   "source": [
    "# GGRegression Fifa 2018 Player Passing Networks\n",
    "\n",
    "## Motivation and Dataset\n",
    "In this last case study, we studied the football players passing network (PPN) (i.e., the number of times two players\n",
    "pass each other the ball throughout the match) as a function of the final match score. The analysis and visualization\n",
    "of the players passing networks has becoming popular in the last years to understand the players network, the teams performance and strategy, and the final score. Using open source database in Stats Bomb, we collect all\n",
    "the PPN of each team in each match for the whole Fifa 2018 World Championship. The dataset contains observations\n",
    "about the 64 matches played (from 14/06/2018 to 15/07/2018) between 32 teams from all over the world."
   ]
  },
  {
   "cell_type": "code",
   "execution_count": 13,
   "id": "499c81c1",
   "metadata": {},
   "outputs": [],
   "source": [
    "ppn, scores = data_utils.load_football()"
   ]
  },
  {
   "cell_type": "code",
   "execution_count": 14,
   "id": "0d55820f",
   "metadata": {},
   "outputs": [
    {
     "data": {
      "text/plain": [
       "<matplotlib.collections.LineCollection at 0x7fb69e24eca0>"
      ]
     },
     "execution_count": 14,
     "metadata": {},
     "output_type": "execute_result"
    },
    {
     "data": {
      "image/png": "[encoded data removed]",
      "text/plain": [
       "<Figure size 432x288 with 1 Axes>"
      ]
     },
     "metadata": {},
     "output_type": "display_data"
    }
   ],
   "source": [
    "ppn_obs = nx.from_numpy_array(ppn[5])\n",
    "pos = nx.kamada_kawai_layout(ppn_obs)\n",
    "edges, weights = zip(*nx.get_edge_attributes(ppn_obs,'weight').items())\n",
    "\n",
    "pos = nx.spring_layout(ppn_obs)\n",
    "nx.draw_networkx_nodes(ppn_obs, pos, node_color='b', node_size=6)\n",
    "nx.draw_networkx_edges(ppn_obs, pos, edgelist=edges, edge_color=weights, width=2.0,\n",
    "                       edge_cmap=plt.cm.Blues, edge_vmin=0., edge_vmax=10.)"
   ]
  },
  {
   "cell_type": "code",
   "execution_count": 15,
   "id": "74eba5b2",
   "metadata": {},
   "outputs": [
    {
     "name": "stderr",
     "output_type": "stream",
     "text": [
      "WARNING: Maximum number of iterations 20 reached. The estimate may be inaccurate\n"
     ]
    }
   ],
   "source": [
    "graph_space = GraphSpace(n_nodes=ppn.shape[1])\n",
    "graph_space.metric.set_aligner('FAQ')\n",
    "\n",
    "aac_reg = AAC(estimate='regression', metric=graph_space.metric)\n",
    "aac_reg.fit(X=gs.expand_dims(scores, axis=1), y=ppn);"
   ]
  },
  {
   "cell_type": "markdown",
   "id": "077c2b94",
   "metadata": {},
   "source": [
    "### References:\n",
    " \n",
    "Franz, M., Altmann, J., & Alberts, S. C. (2015). Knockouts of high-ranking males have limited impact on baboon social networks. Current Zoology, 61(1), 107-113.\n",
    "\n",
    "S. S. Ltd, Statsbomb open data, https://github.com/statsbomb/open-data (2018).\n",
    "\n",
    "Rossi, R., & Ahmed, N. (2015, March). The network data repository with interactive graph analytics and visualization. In Twenty-ninth AAAI conference on artificial intelligence.\n"
   ]
  }
 ],
 "metadata": {
  "backends": [
   "numpy"
  ],
  "kernelspec": {
   "display_name": "Python 3 (ipykernel)",
   "language": "python",
   "name": "python3"
  },
  "language_info": {
   "codemirror_mode": {
    "name": "ipython",
    "version": 3
   },
   "file_extension": ".py",
   "mimetype": "text/x-python",
   "name": "python",
   "nbconvert_exporter": "python",
   "pygments_lexer": "ipython3",
   "version": "3.9.15"
  }
 },
 "nbformat": 4,
 "nbformat_minor": 5
}
