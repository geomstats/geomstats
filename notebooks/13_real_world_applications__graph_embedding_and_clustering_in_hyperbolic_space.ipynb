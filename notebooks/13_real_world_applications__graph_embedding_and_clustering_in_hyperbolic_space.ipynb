{
 "cells": [
  {
   "cell_type": "markdown",
   "metadata": {},
   "source": [
    "# Hyperbolic Embedding of Graphs and Clustering"
   ]
  },
  {
   "cell_type": "markdown",
   "metadata": {},
   "source": [
    "Lead authors: Thomas Gerald and Hadi Zaatiti.\n",
    "\n",
    "## Introduction"
   ]
  },
  {
   "cell_type": "markdown",
   "metadata": {},
   "source": [
    "From social networks to parse trees, knowledge graphs to protein interaction networks, Graph-Structured Data is endemic to a wide variety of natural and engineered systems. Often, understanding the structure and/or dynamics of these graphs yields insight into the systems under investigation. Take, for example, the problems of finding key influencers or distinct communities within social networks. \n",
    "\n",
    "The goal of graph embedding is to find a way of representing the graph in a space which more readily lends itself to analysis/investigation. One approach is to identify points in a vector space with nodes of the graph in such a way that important relations between nodes are preserved via relations between their corresponding points.\n",
    "\n",
    "There are a wide variety of methods which approach this problem in different ways and for different aims, say for clustering or for link prediction. Recently, the embedding of Graph Structured Data (GSD) on manifolds has received considerable attention. In particular, much work has shown that hyperbolic spaces are beneficial for a wide variety of tasks with GSD [[ND2017]](#References). This tutorial shows how to learn such embeddings using the Poincaré Ball manifold and the well-known 'Karate Club' social network dataset with `geomstats`. This data and several others can be found in the `datasets.data` module of the project's github repository. "
   ]
  },
  {
   "cell_type": "markdown",
   "metadata": {},
   "source": [
    "![KarateEmbedding](figures/karate_embedding_iterations.gif \"segment\")\n",
    "*Learning a Poincaré disk embedding of the Karate club graph dataset*"
   ]
  },
  {
   "cell_type": "markdown",
   "metadata": {},
   "source": [
    "We start by importing standard tools for logging and visualization, allowing us to draw the embedding of the GSD on the manifold. Next, we import the manifold of interest, visualization tools, and other methods from `geomstats`."
   ]
  },
  {
   "cell_type": "code",
   "execution_count": 1,
   "metadata": {
    "pycharm": {
     "name": "#%%\n"
    }
   },
   "outputs": [
    {
     "name": "stderr",
     "output_type": "stream",
     "text": [
      "INFO: Using numpy backend\n"
     ]
    }
   ],
   "source": [
    "import logging\n",
    "\n",
    "import matplotlib.pyplot as plt\n",
    "\n",
    "import geomstats.backend as gs\n",
    "import geomstats.visualization as visualization\n",
    "from geomstats.datasets.utils import load_karate_graph\n",
    "from geomstats.geometry.poincare_ball import PoincareBall"
   ]
  },
  {
   "cell_type": "markdown",
   "metadata": {},
   "source": [
    "## Parameters and Initialization\n",
    "\n",
    "We define the following parameters needed for embedding:\n",
    "\n",
    "| Parameter | Description   |\n",
    "|:------|:------|\n",
    "|   random.seed  | An initial manually set number for generating pseudorandom numbers|\n",
    "| dim | Dimensions of the manifold used for embedding |\n",
    "|max_epochs|Number of iterations for learning the embedding |\n",
    "|lr| Learning rate|\n",
    "|n_negative| Number of negative samples|\n",
    "|context_size| Size of the considered context for each node of the graph|\n",
    "\n",
    "Let us discuss a few things about the parameters of the above table.\n",
    "The number of dimensions should be high (i.e., 10+) for large datasets \n",
    "(i.e., where the number of nodes/edges is significantly large). \n",
    "In this tutorial we consider a dataset that is quite small with only 34 nodes. The Poincaré disk of only two dimensions is therefore sufficient to\n",
    "capture the complexity of the graph and provide a faithful representation.\n",
    "Some parameters are hard to know in advance, such as `max_epochs` and `lr`. These should be tuned specifically for each dataset.\n",
    "Visualization can help with tuning the parameters. Also, one can perform a grid search to find values of these parameters which maximize some performance function. In learning embeddings, one can consider performance metrics such as\n",
    "a measure for cluster seperability or normalized mutual \n",
    "information (NMI) or others.\n",
    "Similarly, the number of negative samples and context size can also be thought of as hyperparameters and will\n",
    "be further discussed in the sequel. An instance of the `Graph` class is created\n",
    " and set to the Karate club dataset."
   ]
  },
  {
   "cell_type": "code",
   "execution_count": 2,
   "metadata": {},
   "outputs": [],
   "source": [
    "gs.random.seed(1234)\n",
    "dim = 2\n",
    "max_epochs = 100\n",
    "lr = 0.05\n",
    "n_negative = 2\n",
    "context_size = 1\n",
    "karate_graph = load_karate_graph()"
   ]
  },
  {
   "cell_type": "markdown",
   "metadata": {},
   "source": [
    "The Zachary karate club network was collected from\n",
    "the members of a university karate club by Wayne Zachary\n",
    "in 1977. Each node represents a member of the club,\n",
    "and each edge represents an undirected relation between\n",
    "two members. An often discussed problem using this dataset\n",
    "is to find the two groups of people into which the\n",
    "karate club split after an argument between two teachers.\n",
    "<img src=\"figures/karate_graph.png\" width=\"60%\">\n",
    "Some information about the dataset is displayed to provide\n",
    "insight into its complexity."
   ]
  },
  {
   "cell_type": "code",
   "execution_count": 3,
   "metadata": {
    "pycharm": {
     "name": "#%%\n"
    }
   },
   "outputs": [
    {
     "name": "stderr",
     "output_type": "stream",
     "text": [
      "INFO: Number of vertices: 34\n",
      "INFO: Mean edge-vertex ratio: 4.588235294117647\n"
     ]
    }
   ],
   "source": [
    "nb_vertices_by_edges = [len(e_2) for _, e_2 in karate_graph.edges.items()]\n",
    "logging.info(\"Number of vertices: %s\", len(karate_graph.edges))\n",
    "logging.info(\n",
    "    \"Mean edge-vertex ratio: %s\",\n",
    "    (sum(nb_vertices_by_edges, 0) / len(karate_graph.edges)),\n",
    ")"
   ]
  },
  {
   "cell_type": "markdown",
   "metadata": {},
   "source": [
    "Denote $V$ as the set of nodes and $E \\subset V\\times V$ the set \n",
    "of edges. The goal of embedding GSD is to provide a faithful and exploitable representation \n",
    "of the graph structure. It is mainly achieved by preserving  *first-order* proximity \n",
    "that enforces nodes sharing edges to be close to each other. It can additionally \n",
    "preserve *second-order* proximity that enforces two nodes sharing the same context \n",
    "(i.e., nodes that share neighbors but are not necessarily directly connected) to be close. \n",
    "Let $\\mathbb{B}^m$ be the Poincaré Ball of dimension $m$ equipped with the distance function $d$.\n",
    "The below figure shows geodesics between pairs of points on $\\mathbb{B}^2$. Geodesics are\n",
    "the shortest path between two points. The distance function $d$ of two points is\n",
    "the length of the geodesic that links them.\n",
    "\n",
    "<img src=\"figures/geodesics.png\" width=\"40%\">\n"
   ]
  },
  {
   "cell_type": "markdown",
   "metadata": {
    "pycharm": {
     "name": "#%% md\n"
    }
   },
   "source": [
    "Declaring an instance of the `PoincareBall` manifold of two dimensions in `geomstats` is straightforward:"
   ]
  },
  {
   "cell_type": "code",
   "execution_count": 4,
   "metadata": {
    "pycharm": {
     "name": "#%%\n"
    }
   },
   "outputs": [],
   "source": [
    "hyperbolic_manifold = PoincareBall(2)"
   ]
  },
  {
   "cell_type": "markdown",
   "metadata": {},
   "source": [
    "*first* and *second-order* proximities can be achieved by optimising the following loss functions:"
   ]
  },
  {
   "cell_type": "markdown",
   "metadata": {},
   "source": [
    "## Loss function.\n",
    "\n",
    "To preserve first and second-order proximities we adopt a loss function similar to (Nickel, 2017) and consider the negative sampling approach as in (Mikolov, 2013) :\n",
    "\n",
    "$$     \\mathcal{L} = - \\sum_{v_i\\in V} \\sum_{v_j \\in C_i} \\bigg[ log(\\sigma(-d^2(\\phi_i, \\phi_j'))) + \\sum_{v_k\\sim \\mathcal{P}_n} log(\\sigma(d^2(\\phi_i, \\phi_k')))  \\bigg]$$\n",
    "\n",
    "where $\\sigma(x)=\\frac{1}{1+e^{-x}}$ is the sigmoid function and $\\phi_i \\in \\mathbb{B}^m$ \n",
    "is the embedding of the $i$-th node of $V$, $C_i$ the nodes in the context of the \n",
    "$i$-th node, $\\phi_j'\\in \\mathbb{B}^m$ the embedding of $v_j\\in C_i$ and \n",
    "$\\mathcal{P}_n$ the negative sampling distribution over $V$: \n",
    "$\\mathcal{P}_n(v)=\\frac{deg(v)^{3/4}}{\\sum_{v_i\\in V}deg(v_i)^{3/4}}$. \n",
    "Intuitively one can see that to minimizing $L$, the distance between $v_i$ and $v_j$ should get smaller, while the one between\n",
    "$v_i$ and $v_k$ would get larger.\n",
    "<img src=\"figures/notations.png\" width=\"40%\">"
   ]
  },
  {
   "cell_type": "markdown",
   "metadata": {
    "pycharm": {
     "name": "#%% md\n"
    }
   },
   "source": [
    "## Riemannian optimization.\n",
    "Following the idea of (Ganea, 2018)  we use the following formula to optimize $L$:\n",
    "\n",
    "$$ \\phi^{t+1} = \\text{Exp}_{\\phi^t} \\left( -lr \\frac{\\partial L}{\\partial \\phi} \\right) $$\n",
    "\n",
    "where $\\phi$ is a parameter of $L$, $t\\in\\{1,2,\\cdots\\}$ is the epoch iteration number \n",
    "and $lr$ is the learning rate. The formula consists of first computing the usual gradient of the loss function\n",
    "giving the direction in which the parameter should move. \n",
    "The Riemannian exponential map $\\text{Exp}$ is a function that takes a base point $\\phi^t$ and some \n",
    "direction vector $T$ and returns the point $\\phi^{t+1}$ such that $\\phi^{t+1}$ belongs to the geodesic\n",
    "initiated from $\\phi{t}$ in the direction of $T$ and the length of the geoedesic curve between $\\phi^t$ and $\\phi^{t+1}$ is of 1 unit. \n",
    "The Riemannian exponential map is implemented as a method of the `PoincareBallMetric` class in the `geometry` module of `geomstats`.\n",
    "\n",
    "Therefore to minimize $L$ we will need to compute its gradient. Several steps are required to do so,\n",
    "1. Compute the gradient of the squared distance\n",
    "2. Compute the gradient of the log sigmoid\n",
    "3. Compute the gradient of the composision of 1. and 2."
   ]
  },
  {
   "cell_type": "markdown",
   "metadata": {},
   "source": [
    "For 1., we use the formula proposed by (Arnaudon, 2013) which uses the Riemannian logarithmic map to compute the gradient of the distance.\n",
    "This is implemented as"
   ]
  },
  {
   "cell_type": "code",
   "execution_count": 5,
   "metadata": {
    "pycharm": {
     "name": "#%%\n"
    }
   },
   "outputs": [],
   "source": [
    "def grad_squared_distance(point_a, point_b):\n",
    "    \"\"\"Gradient of squared hyperbolic distance.\n",
    "\n",
    "    Gradient of the squared distance based on the\n",
    "    Ball representation according to point_a\n",
    "\n",
    "    Parameters\n",
    "    ----------\n",
    "    point_a : array-like, shape=[n_samples, dim]\n",
    "        First point in hyperbolic space.\n",
    "    point_b : array-like, shape=[n_samples, dim]\n",
    "        Second point in hyperbolic space.\n",
    "\n",
    "    Returns\n",
    "    -------\n",
    "    dist : array-like, shape=[n_samples, 1]\n",
    "        Geodesic squared distance between the two points.\n",
    "    \"\"\"\n",
    "    log_map = PoincareBall(2).metric.log(point_b, point_a)\n",
    "\n",
    "    return -2 * log_map"
   ]
  },
  {
   "cell_type": "markdown",
   "metadata": {
    "pycharm": {
     "name": "#%% md\n"
    }
   },
   "source": [
    "For 2. define the `log_sigmoid` corresponding as follows:"
   ]
  },
  {
   "cell_type": "code",
   "execution_count": 6,
   "metadata": {
    "pycharm": {
     "name": "#%%\n"
    }
   },
   "outputs": [],
   "source": [
    "def log_sigmoid(vector):\n",
    "    \"\"\"Logsigmoid function.\n",
    "\n",
    "    Apply log sigmoid function\n",
    "\n",
    "    Parameters\n",
    "    ----------\n",
    "    vector : array-like, shape=[n_samples, dim]\n",
    "\n",
    "    Returns\n",
    "    -------\n",
    "    result : array-like, shape=[n_samples, dim]\n",
    "    \"\"\"\n",
    "    return gs.log((1 / (1 + gs.exp(-vector))))"
   ]
  },
  {
   "cell_type": "markdown",
   "metadata": {
    "pycharm": {
     "name": "#%% md\n"
    }
   },
   "source": [
    "The gradient of the logarithm of sigmoid function is implemented as:"
   ]
  },
  {
   "cell_type": "code",
   "execution_count": 7,
   "metadata": {
    "pycharm": {
     "name": "#%% \n"
    }
   },
   "outputs": [],
   "source": [
    "def grad_log_sigmoid(vector):\n",
    "    \"\"\"Gradient of log sigmoid function.\n",
    "\n",
    "    Parameters\n",
    "    ----------\n",
    "    vector : array-like, shape=[n_samples, dim]\n",
    "\n",
    "    Returns\n",
    "    -------\n",
    "    gradient : array-like, shape=[n_samples, dim]\n",
    "    \"\"\"\n",
    "    return 1 / (1 + gs.exp(vector))"
   ]
  },
  {
   "cell_type": "markdown",
   "metadata": {},
   "source": [
    "For 3., apply the composition rule to obtain the gradient of $L$. The following function given $\\phi_i$, $\\phi'_j$ and $\\phi'_k$ returns the total value of $L$ and its gradient vector at $\\phi_i$. For the value of $L$ the loss function formula is simply applied. For the gradient, we apply the composition of `grad_log_sigmoid` with `grad_squared_distance` while paying attention to the signs."
   ]
  },
  {
   "cell_type": "code",
   "execution_count": 8,
   "metadata": {
    "pycharm": {
     "name": "#%%\n"
    }
   },
   "outputs": [],
   "source": [
    "def loss(example_embedding, context_embedding, negative_embedding, manifold):\n",
    "    \"\"\"Compute loss and grad.\n",
    "\n",
    "    Compute loss and grad given embedding of the current example,\n",
    "    embedding of the context and negative sampling embedding.\n",
    "    \"\"\"\n",
    "    n_edges, dim = negative_embedding.shape[0], example_embedding.shape[-1]\n",
    "    example_embedding = gs.expand_dims(example_embedding, 0)\n",
    "    context_embedding = gs.expand_dims(context_embedding, 0)\n",
    "    positive_distance = manifold.metric.squared_dist(\n",
    "        example_embedding, context_embedding\n",
    "    )\n",
    "    positive_loss = log_sigmoid(-positive_distance)\n",
    "\n",
    "    reshaped_example_embedding = gs.repeat(example_embedding, n_edges, axis=0)\n",
    "    negative_distance = manifold.metric.squared_dist(\n",
    "        reshaped_example_embedding, negative_embedding\n",
    "    )\n",
    "    negative_loss = log_sigmoid(negative_distance)\n",
    "\n",
    "    total_loss = -(positive_loss + negative_loss.sum())\n",
    "\n",
    "    positive_log_sigmoid_grad = -grad_log_sigmoid(-positive_distance)\n",
    "\n",
    "    positive_distance_grad = grad_squared_distance(example_embedding, context_embedding)\n",
    "\n",
    "    positive_grad = (\n",
    "        gs.repeat(positive_log_sigmoid_grad, dim, axis=-1) * positive_distance_grad\n",
    "    )\n",
    "\n",
    "    negative_distance_grad = grad_squared_distance(\n",
    "        reshaped_example_embedding, negative_embedding\n",
    "    )\n",
    "\n",
    "    negative_distance = gs.to_ndarray(negative_distance, to_ndim=2, axis=-1)\n",
    "    negative_log_sigmoid_grad = grad_log_sigmoid(negative_distance)\n",
    "\n",
    "    negative_grad = negative_log_sigmoid_grad * negative_distance_grad\n",
    "    example_grad = -(positive_grad + negative_grad.sum(axis=0))\n",
    "\n",
    "    return total_loss, example_grad"
   ]
  },
  {
   "cell_type": "markdown",
   "metadata": {
    "pycharm": {
     "name": "#%% md\n"
    }
   },
   "source": [
    "## Capturing the graph structure\n",
    "At this point we have the necessary bricks to compute the resulting gradient of $L$. We are ready to prepare\n",
    "the nodes $v_i$, $v_j$ and $v_k$ and initialise their embeddings $\\phi_i$, $\\phi^{'}_j$ and $\\phi^{'}_k$.\n",
    "First, initialize an array that will hold embeddings $\\phi_i$ of each node $v_i\\in V$ with random points belonging to the Poincaré disk. "
   ]
  },
  {
   "cell_type": "code",
   "execution_count": 9,
   "metadata": {
    "pycharm": {
     "name": "#%%\n"
    }
   },
   "outputs": [],
   "source": [
    "embeddings = gs.random.normal(size=(karate_graph.n_nodes, dim))\n",
    "embeddings = embeddings * 0.2"
   ]
  },
  {
   "cell_type": "markdown",
   "metadata": {
    "pycharm": {
     "name": "#%% md\n"
    }
   },
   "source": [
    "Next, to prepare the context nodes $v_j$ for each node $v_i$, we compute random walks initialised from each $v_i$ \n",
    "up to some length (5 by default). The latter is done via a special function within the `Graph` class. The nodes $v_j$ will be later picked from the random walk of $v_i$.\n",
    "\n"
   ]
  },
  {
   "cell_type": "code",
   "execution_count": 10,
   "metadata": {
    "pycharm": {
     "name": "#%%\n"
    }
   },
   "outputs": [],
   "source": [
    "random_walks = karate_graph.random_walk()"
   ]
  },
  {
   "cell_type": "markdown",
   "metadata": {
    "pycharm": {
     "name": "#%% md\n"
    }
   },
   "source": [
    "Negatively sampled nodes $v_k$ are chosen according to the previously defined probability distribution function\n",
    "$\\mathcal{P}_n(v_k)$ implemented as"
   ]
  },
  {
   "cell_type": "code",
   "execution_count": 11,
   "metadata": {
    "pycharm": {
     "name": "#%%\n"
    }
   },
   "outputs": [],
   "source": [
    "negative_table_parameter = 5\n",
    "negative_sampling_table = []\n",
    "\n",
    "for i, nb_v in enumerate(nb_vertices_by_edges):\n",
    "    negative_sampling_table += (\n",
    "        [i] * int((nb_v ** (3.0 / 4.0))) * negative_table_parameter\n",
    "    )\n",
    "\n",
    "negative_sampling_table = gs.array(negative_sampling_table)"
   ]
  },
  {
   "cell_type": "markdown",
   "metadata": {
    "pycharm": {
     "name": "#%% md\n"
    }
   },
   "source": [
    "## Numerically optimizing the loss function\n",
    "Optimising the loss function is performed numerically over the number of epochs. \n",
    "At each iteration, we will compute the gradient of $L$. Then the graph nodes are moved in the direction\n",
    "pointed by the gradient. The movement of the nodes is performed by following geodesics in the gradient direction.\n",
    "The key to obtain an embedding representing accurately the dataset, is to move the nodes smoothly rather\n",
    "than brutal movements. This is done by tuning the learning rate, such as at each epoch\n",
    "all the nodes made small movements."
   ]
  },
  {
   "cell_type": "markdown",
   "metadata": {
    "pycharm": {
     "name": "#%% md\n"
    }
   },
   "source": [
    "A *first level* loop iterates over the epochs, the table `total_loss` will record the value of $L$ at each iteration\n",
    "and help us track the minimization of $L$."
   ]
  },
  {
   "cell_type": "markdown",
   "metadata": {
    "pycharm": {
     "name": "#%% md\n"
    }
   },
   "source": [
    "A *second level* nested loop iterates over each path in the previously computed random walks. Observing these walks, notice that nodes having \n",
    "many edges appear more often. Such nodes\n",
    "can be considered as important crossroads and will therefore be subject to a greater number of embedding updates. \n",
    "This is one of the main reasons why random walks have proven to be effective\n",
    "in capturing the structure of graphs. The context of each $v_i$ will be the set of nodes $v_j$ belonging \n",
    "to the random walk from $v_i$. The `context_size` specified earlier will limit the length of the walk to be considered. Similarly, we use\n",
    "the same `context_size` to limit the number of negative samples. We find $\\phi_i$ from the `embeddings` array.\n"
   ]
  },
  {
   "cell_type": "markdown",
   "metadata": {
    "pycharm": {
     "name": "#%% md\n"
    }
   },
   "source": [
    "\n",
    "A *third level* nested loop will iterate on each $v_j$ and $v_k$. From within, we find $\\phi'_j$ and $\\phi'_k$ then call the `loss` function to compute the gradient.\n",
    "Then the Riemannian exponential map is applied to find the new value of $\\phi_i$ as we mentioned before."
   ]
  },
  {
   "cell_type": "code",
   "execution_count": 12,
   "metadata": {
    "pycharm": {
     "name": "#%%\n"
    }
   },
   "outputs": [
    {
     "name": "stderr",
     "output_type": "stream",
     "text": [
      "INFO: iteration 0 loss_value 1.819745\n",
      "INFO: iteration 1 loss_value 1.757333\n",
      "INFO: iteration 2 loss_value 1.727391\n",
      "INFO: iteration 3 loss_value 1.678591\n",
      "INFO: iteration 4 loss_value 1.629264\n",
      "INFO: iteration 5 loss_value 1.539738\n",
      "INFO: iteration 6 loss_value 1.474939\n",
      "INFO: iteration 7 loss_value 1.423268\n",
      "INFO: iteration 8 loss_value 1.383663\n",
      "INFO: iteration 9 loss_value 1.378133\n",
      "INFO: iteration 10 loss_value 1.327572\n",
      "INFO: iteration 11 loss_value 1.327438\n",
      "INFO: iteration 12 loss_value 1.275998\n",
      "INFO: iteration 13 loss_value 1.265022\n",
      "INFO: iteration 14 loss_value 1.284490\n",
      "INFO: iteration 15 loss_value 1.271861\n",
      "INFO: iteration 16 loss_value 1.280157\n",
      "INFO: iteration 17 loss_value 1.272947\n",
      "INFO: iteration 18 loss_value 1.273112\n",
      "INFO: iteration 19 loss_value 1.258863\n",
      "INFO: iteration 20 loss_value 1.243420\n",
      "INFO: iteration 21 loss_value 1.229514\n",
      "INFO: iteration 22 loss_value 1.273961\n",
      "INFO: iteration 23 loss_value 1.262166\n",
      "INFO: iteration 24 loss_value 1.259846\n",
      "INFO: iteration 25 loss_value 1.262707\n",
      "INFO: iteration 26 loss_value 1.265081\n",
      "INFO: iteration 27 loss_value 1.243761\n",
      "INFO: iteration 28 loss_value 1.268464\n",
      "INFO: iteration 29 loss_value 1.246803\n",
      "INFO: iteration 30 loss_value 1.246640\n",
      "INFO: iteration 31 loss_value 1.242071\n",
      "INFO: iteration 32 loss_value 1.209406\n",
      "INFO: iteration 33 loss_value 1.263587\n",
      "INFO: iteration 34 loss_value 1.281416\n",
      "INFO: iteration 35 loss_value 1.265381\n",
      "INFO: iteration 36 loss_value 1.280565\n",
      "INFO: iteration 37 loss_value 1.245407\n",
      "INFO: iteration 38 loss_value 1.263434\n",
      "INFO: iteration 39 loss_value 1.230449\n",
      "INFO: iteration 40 loss_value 1.240522\n",
      "INFO: iteration 41 loss_value 1.239126\n",
      "INFO: iteration 42 loss_value 1.246178\n",
      "INFO: iteration 43 loss_value 1.222999\n",
      "INFO: iteration 44 loss_value 1.284980\n",
      "INFO: iteration 45 loss_value 1.257932\n",
      "INFO: iteration 46 loss_value 1.225560\n",
      "INFO: iteration 47 loss_value 1.231305\n",
      "INFO: iteration 48 loss_value 1.262679\n",
      "INFO: iteration 49 loss_value 1.230800\n",
      "INFO: iteration 50 loss_value 1.267129\n",
      "INFO: iteration 51 loss_value 1.277193\n",
      "INFO: iteration 52 loss_value 1.233882\n",
      "INFO: iteration 53 loss_value 1.242276\n",
      "INFO: iteration 54 loss_value 1.253025\n",
      "INFO: iteration 55 loss_value 1.251747\n",
      "INFO: iteration 56 loss_value 1.252117\n",
      "INFO: iteration 57 loss_value 1.252727\n",
      "INFO: iteration 58 loss_value 1.251796\n",
      "INFO: iteration 59 loss_value 1.252610\n",
      "INFO: iteration 60 loss_value 1.240764\n",
      "INFO: iteration 61 loss_value 1.248037\n",
      "INFO: iteration 62 loss_value 1.248934\n",
      "INFO: iteration 63 loss_value 1.260462\n",
      "INFO: iteration 64 loss_value 1.258608\n",
      "INFO: iteration 65 loss_value 1.243336\n",
      "INFO: iteration 66 loss_value 1.255250\n",
      "INFO: iteration 67 loss_value 1.256547\n",
      "INFO: iteration 68 loss_value 1.230852\n",
      "INFO: iteration 69 loss_value 1.271497\n",
      "INFO: iteration 70 loss_value 1.241716\n",
      "INFO: iteration 71 loss_value 1.262636\n",
      "INFO: iteration 72 loss_value 1.237087\n",
      "INFO: iteration 73 loss_value 1.248709\n",
      "INFO: iteration 74 loss_value 1.266595\n",
      "INFO: iteration 75 loss_value 1.241017\n",
      "INFO: iteration 76 loss_value 1.253866\n",
      "INFO: iteration 77 loss_value 1.254891\n",
      "INFO: iteration 78 loss_value 1.266350\n",
      "INFO: iteration 79 loss_value 1.242843\n",
      "INFO: iteration 80 loss_value 1.278382\n",
      "INFO: iteration 81 loss_value 1.265075\n",
      "INFO: iteration 82 loss_value 1.244734\n",
      "INFO: iteration 83 loss_value 1.248023\n",
      "INFO: iteration 84 loss_value 1.243780\n",
      "INFO: iteration 85 loss_value 1.264483\n",
      "INFO: iteration 86 loss_value 1.279735\n",
      "INFO: iteration 87 loss_value 1.277543\n",
      "INFO: iteration 88 loss_value 1.228955\n",
      "INFO: iteration 89 loss_value 1.239178\n",
      "INFO: iteration 90 loss_value 1.244183\n",
      "INFO: iteration 91 loss_value 1.274318\n",
      "INFO: iteration 92 loss_value 1.246705\n",
      "INFO: iteration 93 loss_value 1.248959\n",
      "INFO: iteration 94 loss_value 1.224612\n",
      "INFO: iteration 95 loss_value 1.236104\n",
      "INFO: iteration 96 loss_value 1.249129\n",
      "INFO: iteration 97 loss_value 1.243088\n",
      "INFO: iteration 98 loss_value 1.274817\n",
      "INFO: iteration 99 loss_value 1.238233\n"
     ]
    }
   ],
   "source": [
    "for epoch in range(max_epochs):\n",
    "    total_loss = []\n",
    "    for path in random_walks:\n",
    "        for example_index, one_path in enumerate(path):\n",
    "            context_index = path[\n",
    "                max(0, example_index - context_size) : min(\n",
    "                    example_index + context_size, len(path)\n",
    "                )\n",
    "            ]\n",
    "            negative_index = gs.random.randint(\n",
    "                negative_sampling_table.shape[0], size=(len(context_index), n_negative)\n",
    "            )\n",
    "            negative_index = negative_sampling_table[negative_index]\n",
    "\n",
    "            example_embedding = embeddings[one_path]\n",
    "            for one_context_i, one_negative_i in zip(context_index, negative_index):\n",
    "                context_embedding = embeddings[one_context_i]\n",
    "                negative_embedding = embeddings[one_negative_i]\n",
    "                total_loss_, g_ex = loss(\n",
    "                    example_embedding,\n",
    "                    context_embedding,\n",
    "                    negative_embedding,\n",
    "                    hyperbolic_manifold,\n",
    "                )\n",
    "                total_loss.append(total_loss_)\n",
    "\n",
    "                example_to_update = embeddings[one_path]\n",
    "                embeddings[one_path] = hyperbolic_manifold.metric.exp(\n",
    "                    -lr * g_ex, example_to_update\n",
    "                )\n",
    "    logging.info(\n",
    "        \"iteration %d loss_value %f\", epoch, sum(total_loss, 0) / len(total_loss)\n",
    "    )"
   ]
  },
  {
   "cell_type": "markdown",
   "metadata": {},
   "source": [
    "## Plotting results\n",
    "Once the `max_epochs` iterations of epochs is achieved, we can plot the resulting `embeddings` array and the true labels shown\n",
    "as two colors. At 100 epochs we can see that the two group of nodes with different labels are moving away from each other\n",
    "on the manifold. If one increases the `max_epochs`, then further separability is achieved."
   ]
  },
  {
   "cell_type": "code",
   "execution_count": 13,
   "metadata": {
    "pycharm": {
     "name": "#%%\n"
    }
   },
   "outputs": [
    {
     "data": {
      "image/png": "[encoded data removed]",
      "text/plain": [
       "<Figure size 800x800 with 1 Axes>"
      ]
     },
     "metadata": {},
     "output_type": "display_data"
    }
   ],
   "source": [
    "import matplotlib.patches as mpatches\n",
    "\n",
    "colors = {1: \"b\", 2: \"r\"}\n",
    "group_1 = mpatches.Patch(color=colors[1], label=\"Group 1\")\n",
    "group_2 = mpatches.Patch(color=colors[2], label=\"Group 2\")\n",
    "\n",
    "circle = visualization.PoincareDisk(coords_type=\"ball\")\n",
    "\n",
    "fig, ax = plt.subplots(figsize=(8, 8))\n",
    "ax.axes.xaxis.set_visible(False)\n",
    "ax.axes.yaxis.set_visible(False)\n",
    "circle.set_ax(ax)\n",
    "circle.draw(ax=ax)\n",
    "for i_embedding, embedding in enumerate(embeddings):\n",
    "    x = embedding[0]\n",
    "    y = embedding[1]\n",
    "    pt_id = i_embedding\n",
    "    plt.scatter(x, y, c=colors[karate_graph.labels[pt_id][0]], s=150)\n",
    "    ax.annotate(pt_id, (x, y))\n",
    "\n",
    "plt.tick_params(which=\"both\")\n",
    "plt.title(\"Poincare Ball Embedding of the Karate Club Network\")\n",
    "plt.legend(handles=[group_1, group_2])\n",
    "plt.show()"
   ]
  },
  {
   "cell_type": "markdown",
   "metadata": {},
   "source": [
    "In `geomstats`, several unsupervized clustering algorithms on manifolds are implemented such as $K$-means and Expectation-Maximization. \n",
    "\n",
    "Let us apply $K$-means to learn the node belonging of the two groups and see how well we predicted the true\n",
    "labels.\n",
    "Lets first import $K$-means"
   ]
  },
  {
   "cell_type": "code",
   "execution_count": 14,
   "metadata": {
    "pycharm": {
     "name": "#%%\n"
    }
   },
   "outputs": [],
   "source": [
    "from geomstats.learning.kmeans import RiemannianKMeans"
   ]
  },
  {
   "cell_type": "markdown",
   "metadata": {
    "pycharm": {
     "name": "#%% md\n"
    }
   },
   "source": [
    "Set the number of groups to 2."
   ]
  },
  {
   "cell_type": "code",
   "execution_count": 15,
   "metadata": {
    "pycharm": {
     "name": "#%%\n"
    }
   },
   "outputs": [],
   "source": [
    "n_clusters = 2"
   ]
  },
  {
   "cell_type": "markdown",
   "metadata": {
    "pycharm": {
     "name": "#%% md\n"
    }
   },
   "source": [
    "Initialize an instance of $K$-means."
   ]
  },
  {
   "cell_type": "code",
   "execution_count": 16,
   "metadata": {
    "pycharm": {
     "name": "#%%\n"
    }
   },
   "outputs": [],
   "source": [
    "kmeans = RiemannianKMeans(\n",
    "    hyperbolic_manifold,\n",
    "    n_clusters=n_clusters,\n",
    "    init=\"random\",\n",
    ")"
   ]
  },
  {
   "cell_type": "markdown",
   "metadata": {
    "pycharm": {
     "name": "#%% md\n"
    }
   },
   "source": [
    "Fit the embedded nodes"
   ]
  },
  {
   "cell_type": "code",
   "execution_count": 17,
   "metadata": {
    "pycharm": {
     "name": "#%%\n"
    }
   },
   "outputs": [],
   "source": [
    "kmeans.fit(X=embeddings)\n",
    "cluster_centers = kmeans.cluster_centers_\n",
    "labels = kmeans.labels_"
   ]
  },
  {
   "cell_type": "markdown",
   "metadata": {
    "pycharm": {
     "name": "#%% md\n"
    }
   },
   "source": [
    "And plot the resulting labels provided by $K$-means"
   ]
  },
  {
   "cell_type": "code",
   "execution_count": 18,
   "metadata": {
    "pycharm": {
     "name": "#%%\n"
    },
    "scrolled": false,
    "tags": [
     "nbsphinx-thumbnail"
    ]
   },
   "outputs": [
    {
     "data": {
      "image/png": "[encoded data removed]",
      "text/plain": [
       "<Figure size 800x800 with 1 Axes>"
      ]
     },
     "metadata": {},
     "output_type": "display_data"
    }
   ],
   "source": [
    "colors = [\"g\", \"c\", \"m\"]\n",
    "circle = visualization.PoincareDisk(coords_type=\"ball\")\n",
    "fig2, ax2 = plt.subplots(figsize=(8, 8))\n",
    "circle.set_ax(ax2)\n",
    "circle.draw(ax=ax2)\n",
    "ax2.axes.xaxis.set_visible(False)\n",
    "ax2.axes.yaxis.set_visible(False)\n",
    "group_1_predicted = mpatches.Patch(color=colors[0], label=\"Predicted Group 1\")\n",
    "group_2_predicted = mpatches.Patch(color=colors[1], label=\"Predicted Group 2\")\n",
    "group_centers = mpatches.Patch(color=colors[2], label=\"Cluster centers\")\n",
    "\n",
    "for i in range(n_clusters):\n",
    "    for i_embedding, embedding in enumerate(embeddings):\n",
    "        x = embedding[0]\n",
    "        y = embedding[1]\n",
    "        pt_id = i_embedding\n",
    "        if labels[i_embedding] == 0:\n",
    "            color = colors[0]\n",
    "        else:\n",
    "            color = colors[1]\n",
    "        plt.scatter(x, y, c=color, s=150)\n",
    "        ax2.annotate(pt_id, (x, y))\n",
    "\n",
    "for i_centroid, centroid in enumerate(cluster_centers):\n",
    "    x = centroid[0]\n",
    "    y = centroid[1]\n",
    "    plt.scatter(\n",
    "        x,\n",
    "        y,\n",
    "        c=colors[2],\n",
    "        marker=\"*\",\n",
    "        s=150,\n",
    "    )\n",
    "\n",
    "plt.title(\"K-means applied to Karate club embedding\")\n",
    "plt.legend(handles=[group_1_predicted, group_2_predicted, group_centers])\n",
    "plt.show()"
   ]
  },
  {
   "cell_type": "markdown",
   "metadata": {
    "pycharm": {
     "name": "#%% md\n"
    }
   },
   "source": [
    "By comparing the $K$-means labels and the true labels, notice how $K$-means \n",
    "accurately finds the two groups of nodes (not perfectly, e.g., nodes 2 and 8). We therefore achieved good performances in\n",
    "predicting the belonging of each member of the Karate club to one of the two groups."
   ]
  },
  {
   "cell_type": "markdown",
   "metadata": {
    "pycharm": {
     "name": "#%% md\n"
    }
   },
   "source": [
    "## References"
   ]
  },
  {
   "cell_type": "markdown",
   "metadata": {
    "pycharm": {
     "name": "#%% md\n"
    }
   },
   "source": [
    ".. [ABY2013] Arnaudon, Marc, Frédéric Barbaresco, and Le Yang. \"Riemannian medians and means with applications to radar signal processing.\" IEEE Journal of Selected Topics in Signal Processing 7.4 (2013): 595-604.\n",
    "\n",
    ".. [GBH2018] Ganea, Octavian, Gary Bécigneul, and Thomas Hofmann. \"Hyperbolic neural networks.\" Advances in neural information processing systems. 2018.\n",
    "\n",
    ".. [M2013] Mikolov, Tomas, et al. \"Distributed representations of words and phrases and their compositionality.\" Advances in neural information processing systems. 2013.\n",
    "\n",
    ".. [ND2017] Nickel, Maximillian, and Douwe Kiela. \"Poincaré embeddings for learning hierarchical representations.\" Advances in neural information processing systems. 2017.\n"
   ]
  }
 ],
 "metadata": {
  "backends": [
   "numpy",
   "autograd",
   "pytorch"
  ],
  "celltoolbar": "Edit Metadata",
  "cite2c": {
   "citations": {
    "7875465/9CMMEH2F": {
     "author": [
      {
       "family": "Mikolov",
       "given": "Tomas"
      },
      {
       "family": "Sutskever",
       "given": "Ilya"
      },
      {
       "family": "Chen",
       "given": "Kai"
      },
      {
       "family": "Corrado",
       "given": "Greg S"
      },
      {
       "family": "Dean",
       "given": "Jeff"
      }
     ],
     "container-title": "Advances in Neural Information Processing Systems 26 (NIPS)",
     "id": "7875465/9CMMEH2F",
     "issued": {
      "year": 2013
     },
     "page": "3111–3119",
     "page-first": "3111",
     "publisher": "Curran Associates, Inc.",
     "title": "Distributed Representations of Words and Phrases and their Compositionality",
     "type": "chapter"
    },
    "7875465/9DR2QEF9": {
     "author": [
      {
       "family": "Ganea",
       "given": "Octavian"
      },
      {
       "family": "Becigneul",
       "given": "Gary"
      },
      {
       "family": "Hofmann",
       "given": "Thomas"
      }
     ],
     "container-title": "Advances in Neural Information Processing Systems 31 (NIPS)",
     "id": "7875465/9DR2QEF9",
     "issued": {
      "year": 2018
     },
     "page": "5345–5355",
     "page-first": "5345",
     "publisher": "Curran Associates, Inc.",
     "title": "Hyperbolic Neural Networks",
     "type": "paper-conference"
    },
    "7875465/KRA9K53S": {
     "author": [
      {
       "family": "Nickel",
       "given": "Maximillian"
      },
      {
       "family": "Kiela",
       "given": "Douwe"
      }
     ],
     "container-title": "Advances in Neural Information Processing Systems 30 (NIPS)",
     "id": "7875465/KRA9K53S",
     "issued": {
      "year": 2017
     },
     "page": "6338–6347",
     "page-first": "6338",
     "publisher": "Curran Associates, Inc.",
     "title": "Poincaré Embeddings for Learning Hierarchical Representations",
     "type": "chapter"
    },
    "7875465/TLSACAEQ": {
     "author": [
      {
       "family": "Arnaudon",
       "given": "Marc"
      },
      {
       "family": "Barbaresco",
       "given": "Frédéric"
      },
      {
       "family": "Yang",
       "given": "Le"
      }
     ],
     "container-title": "Journal of Selected Topics in Signal Processing",
     "id": "7875465/TLSACAEQ",
     "issue": "4",
     "issued": {
      "year": 2013
     },
     "page": "595–604",
     "page-first": "595",
     "title": "Riemannian Medians and Means With Applications to Radar Signal Processing",
     "type": "article-journal",
     "volume": "7"
    }
   }
  },
  "kernelspec": {
   "display_name": "Python 3 (ipykernel)",
   "language": "python",
   "name": "python3"
  },
  "language_info": {
   "codemirror_mode": {
    "name": "ipython",
    "version": 3
   },
   "file_extension": ".py",
   "mimetype": "text/x-python",
   "name": "python",
   "nbconvert_exporter": "python",
   "pygments_lexer": "ipython3",
   "version": "3.11.3"
  }
 },
 "nbformat": 4,
 "nbformat_minor": 4
}
