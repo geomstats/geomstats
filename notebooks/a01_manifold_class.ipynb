{
 "cells": [
  {
   "cell_type": "markdown",
   "id": "3f5744d0",
   "metadata": {},
   "source": [
    "Welcome to notebook 2! In this notebook, we will discuss manifolds and the manifold class. Geomstats is a software which analyzes data on manifolds, so naturally the manifold class is quite important.\n",
    "\n",
    "You will learn:\n",
    "\n",
    "    1) What is a manifold?\n",
    "    2) Why do we care about manifolds\n",
    "    3) What does the manifold class do?\n",
    "    4) How is the manifold class structured?\n",
    "        5) What is an open set?\n",
    "        6) What is a closed set?\n",
    "        7) What is a tangent space?"
   ]
  },
  {
   "cell_type": "markdown",
   "id": "93bce39a",
   "metadata": {},
   "source": [
    "# What is a manifold?"
   ]
  },
  {
   "attachments": {},
   "cell_type": "markdown",
   "id": "8d5f9e3d",
   "metadata": {},
   "source": [
    "In layman's terms, a $\\textbf{manifold}$ is a geometric object that looks exactly the same (has exactly the same properties) no matter what tiny little piece of it you focus on. When you are first learning, it can be helpful to think of a manifold as a surface. This surface can have any dimension and any shape as long as it is smooth (in the sense of being continuous and differentiable). For example, a hypersphere is a two dimensional manifold, and we will often use this manifold in examples. This is not a particularly precise definition, but it can be helpful starting point for building intuition. "
   ]
  },
  {
   "cell_type": "markdown",
   "id": "f32ff5f1",
   "metadata": {},
   "source": [
    "Now, we will look into how to define a manifold more precisely and in more mathematical terms. A manifold can be described mathematically in several different ways. We will use the most intuative definition in these notebooks:\n",
    "\n",
    "A nonempty subset M $\\subseteq \\mathbb{R}^{N}$ is a d-dimensional manifold if and only if following condition (or one of the other another manifold conditions not covered in this notebook) holds:\n",
    "\n",
    "For every $p \\in M$, there exists an open set $U \\in \\mathbb{R}^{N}$ and a smooth map $f: U \\to \\mathbb{R}^{N-d}$ that is a submersion at p, such that $U \\cap M = f^{-1}$({0})."
   ]
  },
  {
   "attachments": {},
   "cell_type": "markdown",
   "id": "54bd80e4",
   "metadata": {},
   "source": [
    "In other words, a manifold can be understood as the set of points that verify a constraint defined by an implicit equation, given by the function $f$. Let's consider the example of a hypersphere:"
   ]
  },
  {
   "cell_type": "markdown",
   "id": "1de65d9e",
   "metadata": {},
   "source": [
    "#### Hypersphere example:"
   ]
  },
  {
   "cell_type": "markdown",
   "id": "e22a217b",
   "metadata": {},
   "source": [
    "A $\\textbf{hypersphere}$ is any of a set of objects resulting from the generalization of a two-dimensional circle and a three-dimensional sphere to n dimensions. In n-dimensional space, a hypersphere is the set of all points that are a given distance, called the radius, from a given point, called the center. For example, a hypersphere in 3-dimensions describes all the points that lie on the surface of a sphere."
   ]
  },
  {
   "attachments": {},
   "cell_type": "markdown",
   "id": "f3ee402a",
   "metadata": {},
   "source": [
    "(image here) surface of a sphere"
   ]
  },
  {
   "cell_type": "markdown",
   "id": "a1b92a45",
   "metadata": {},
   "source": [
    "$\\textbf{How do we know that a hypersphere is a manifold?}$ Well, we know from the definition of a hypersphere that a hypersphere is the set of all points that are a given distance from the center of your coordinate system. For example in 3-dimensions, the surface $S$ of a sphere with radius 1 can be described by the relation: \n",
    "\n",
    "$|x|^{2} = 1$\n",
    "\n",
    "This simply says that all the points must be a distance of 1 away from the center.\n",
    "\n",
    "We can now define a function \n",
    "\n",
    "$f(x) = |x|^{2} - 1$\n",
    "\n",
    "We know that this function $f(x)$ will alwasy equal zero for all points that lie on the surface $S$ becaue in order for a point to fall on the surface $S$ the condition $|x|^{2} = 1$ must be true. In other words,\n",
    "\n",
    "$x \\in S \\iff f(x) = 0$\n",
    "\n",
    "which tells us that \n",
    "\n",
    "$x \\in S \\iff x \\in f^{-1}$({0})\n",
    "\n",
    "This last line matches the definition of a manifold: $M = f^{-1}$({0}) where $M$ is the set of points $x$ that satisfy the condition $|x|^{2} = 1$. Therefore, the set of points that satisfy the condition $|x|^{2} = 1$ form a manifold."
   ]
  },
  {
   "cell_type": "markdown",
   "id": "691b9801",
   "metadata": {},
   "source": [
    "#### More examples of manifolds:"
   ]
  },
  {
   "cell_type": "markdown",
   "id": "12a7ed6f",
   "metadata": {},
   "source": [
    "A hyperphere is one type of manifold, but there are many other types of manifolds that are commonly used and seen in nature. We will show a few examples here to help you build intuition about what a manifold is and what a manifold can look like."
   ]
  },
  {
   "cell_type": "markdown",
   "id": "cb27cf08",
   "metadata": {},
   "source": [
    "(pictures) show examples of manifolds that were in the book."
   ]
  },
  {
   "cell_type": "markdown",
   "id": "0378d980",
   "metadata": {},
   "source": [
    "# Why do we care about manifolds?"
   ]
  },
  {
   "cell_type": "markdown",
   "id": "5c000e2b",
   "metadata": {},
   "source": [
    "$\\textbf{Manifolds are important because data in nature \"naturally falls on manifolds\"$, and as we discussed in the introduction section, Knowing the manifold that a data set belongs to may give you more predictive power and a better understanding of the data's evolution. \n",
    "\n",
    "$\\textbf{What does it mean for data to \"naturally fall on a manifold\"?}$ In nature, data are often subject to constraints, and these constraints force the data to lie on manifolds. For example, consider the position of cities on the earth."
   ]
  },
  {
   "cell_type": "markdown",
   "id": "31a3b96a",
   "metadata": {},
   "source": [
    "(picture of cities on earth)"
   ]
  },
  {
   "cell_type": "markdown",
   "id": "3a65d22d",
   "metadata": {},
   "source": [
    "The cities are subject to the following constraints: 1) they cannot fly above the surface of the earth because gravity holds them down and 2) they cannot sink down into the earth because the surface of the earth holds them up. Therefore, they are constrianed to move (or not move) on the surface of a 3-dimensional sphere. This space that they are confined to exist in should sound familiar-- it is the space of a 3-dimensional hypersphere!"
   ]
  },
  {
   "cell_type": "markdown",
   "id": "50ac1718",
   "metadata": {},
   "source": [
    "Other data falls on manifolds in similar ways: the data is subject to certain constraints, which forces it to fall on a manifold."
   ]
  },
  {
   "cell_type": "markdown",
   "id": "7c2ae9b8",
   "metadata": {},
   "source": [
    "# What does the manifold class do?"
   ]
  },
  {
   "cell_type": "markdown",
   "id": "e386facc",
   "metadata": {},
   "source": [
    "The manifold class contains information about ___ different types of manifolds, and contains all the properties of a manifold."
   ]
  },
  {
   "cell_type": "markdown",
   "id": "8ec7d522",
   "metadata": {},
   "source": [
    "# How is the manifold class structured?"
   ]
  },
  {
   "cell_type": "markdown",
   "id": "9e75a6b2",
   "metadata": {},
   "source": [
    "The hierarchal structure of the manifold class is as follows:"
   ]
  },
  {
   "cell_type": "markdown",
   "id": "7ec1517a",
   "metadata": {},
   "source": [
    "(show structure of manifold class as is in textbook)"
   ]
  },
  {
   "cell_type": "markdown",
   "id": "e26a3113",
   "metadata": {},
   "source": [
    "As discussed in the previous section, the primary purpose of the manifold class is to hold information about various types of manifolds. Rules that are universally true for all manifolds are implemented in methods in the parent class $Manifold$. Rules that are true for some types of manifolds are implemented in the subclasses of $Manifold$: LevelSet, OpenSet, FiberBundle, ProductManifold, VectorSpace, MatrixLieAlgebra, and MatrixLieGroup. Specific types of manifolds are described in methods within these subclasses.\n",
    "\n",
    "In this notebook, we will focus on describing the subclasses pertenant to the geometry module of geomstats: LevelSet, OpenSet, FiberBundle, ProductManifold and VectorSpace\n",
    "\n",
    "In the following subsections, we will discuss the methods and ideas implemented in the parent class and its subclasses"
   ]
  },
  {
   "cell_type": "markdown",
   "id": "15b8d933",
   "metadata": {},
   "source": [
    "### The parent class: Manifold"
   ]
  },
  {
   "cell_type": "markdown",
   "id": "17933607",
   "metadata": {},
   "source": [
    "### LevelSet"
   ]
  },
  {
   "cell_type": "markdown",
   "id": "8aa19ead",
   "metadata": {},
   "source": [
    "### OpenSet"
   ]
  },
  {
   "cell_type": "markdown",
   "id": "94c37b3a",
   "metadata": {},
   "source": [
    "An open set is a specific type of manifold. (?)"
   ]
  },
  {
   "cell_type": "markdown",
   "id": "2349934d",
   "metadata": {},
   "source": [
    "### FiberBundle"
   ]
  },
  {
   "cell_type": "markdown",
   "id": "d894f3e4",
   "metadata": {},
   "source": [
    "### ProductManifold"
   ]
  },
  {
   "cell_type": "markdown",
   "id": "491e05c1",
   "metadata": {},
   "source": [
    "### VectorSpace"
   ]
  }
 ],
 "metadata": {
  "kernelspec": {
   "display_name": "Python 3 (ipykernel)",
   "language": "python",
   "name": "python3"
  },
  "language_info": {
   "codemirror_mode": {
    "name": "ipython",
    "version": 3
   },
   "file_extension": ".py",
   "mimetype": "text/x-python",
   "name": "python",
   "nbconvert_exporter": "python",
   "pygments_lexer": "ipython3",
   "version": "3.8.12"
  }
 },
 "nbformat": 4,
 "nbformat_minor": 5
}
