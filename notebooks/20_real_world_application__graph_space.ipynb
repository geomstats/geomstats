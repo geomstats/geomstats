{
 "cells": [
  {
   "cell_type": "markdown",
   "id": "221598f3",
   "metadata": {},
   "source": [
    "## Graph Space\n",
    "$\\textbf{Lead Author: Anna Calissano}$\n"
   ]
  },
  {
   "cell_type": "markdown",
   "id": "e8ede5d2",
   "metadata": {},
   "source": [
    "Dear Learner,\n",
    "\n",
    "in this notebook we are going to see gpca and regression in graph space in action."
   ]
  },
  {
   "cell_type": "code",
   "execution_count": 1,
   "id": "522f03d7",
   "metadata": {},
   "outputs": [
    {
     "name": "stderr",
     "output_type": "stream",
     "text": [
      "INFO: Using numpy backend\n"
     ]
    }
   ],
   "source": [
    "import os\n",
    "import sys\n",
    "import warnings\n",
    "\n",
    "import matplotlib.pyplot as plt\n",
    "import networkx as nx\n",
    "\n",
    "import geomstats.backend as gs\n",
    "\n",
    "import geomstats.datasets.utils as data_utils\n",
    "\n",
    "from geomstats.geometry.stratified.graph_space import (\n",
    "    GraphSpace,\n",
    "    GraphSpaceMetric,\n",
    ")\n",
    "from geomstats.learning.aac import AAC\n",
    "\n",
    "gs.random.seed(2020)\n",
    "\n",
    "warnings.filterwarnings(\"ignore\")"
   ]
  },
  {
   "cell_type": "markdown",
   "id": "32b1acd0",
   "metadata": {},
   "source": [
    "# Mammals Grooming\n",
    "\n",
    "## Motivation and Dataset\n",
    "This case study focuses on how the social interaction between baboons changes after an alpha or beta male is knocked-out from the community. Social interaction is here defined as grooming interaction between members of the group. The dataset consists of a set of $26$ social interaction networks between baboons, where nodes are baboons and edges are the number of grooming interactions between baboons. The networks are naturally unlabelled because the baboons in each network are different, belonging to different groups. Data are available at Rossi et al. (2015), while more details about the case study are available at Franz et al. (2015). Notice that the original dataset was filtered, keeping only the networks with less than $20$ baboons. "
   ]
  },
  {
   "cell_type": "code",
   "execution_count": 2,
   "id": "4a44da66",
   "metadata": {},
   "outputs": [],
   "source": [
    "mammals = data_utils.load_mammals()"
   ]
  },
  {
   "cell_type": "markdown",
   "id": "5f895fb8",
   "metadata": {},
   "source": [
    "We visualize one mammals group:"
   ]
  },
  {
   "cell_type": "code",
   "execution_count": 3,
   "id": "ca8458a6",
   "metadata": {},
   "outputs": [
    {
     "data": {
      "text/plain": [
       "9.0"
      ]
     },
     "execution_count": 3,
     "metadata": {},
     "output_type": "execute_result"
    }
   ],
   "source": [
    "mammals.max()"
   ]
  },
  {
   "cell_type": "code",
   "execution_count": 4,
   "id": "039f23fc",
   "metadata": {},
   "outputs": [
    {
     "data": {
      "text/plain": [
       "<matplotlib.collections.LineCollection at 0x1858a3b7d30>"
      ]
     },
     "execution_count": 4,
     "metadata": {},
     "output_type": "execute_result"
    },
    {
     "data": {
      "image/png": "[encoded data removed]",
      "text/plain": [
       "<Figure size 432x288 with 1 Axes>"
      ]
     },
     "metadata": {},
     "output_type": "display_data"
    }
   ],
   "source": [
    "mammals_obs = nx.from_numpy_matrix(mammals[5])\n",
    "pos = nx.kamada_kawai_layout(mammals_obs)\n",
    "edges, weights = zip(*nx.get_edge_attributes(mammals_obs,'weight').items())\n",
    "\n",
    "pos = nx.spring_layout(mammals_obs)\n",
    "nx.draw_networkx_nodes(mammals_obs, pos, node_color='b', node_size=6)\n",
    "nx.draw_networkx_edges(mammals_obs, pos, edgelist=edges, edge_color=weights, \n",
    "                       width=2.0, edge_cmap=plt.cm.Blues, edge_vmin=0., edge_vmax=10.)"
   ]
  },
  {
   "cell_type": "markdown",
   "id": "c07ba721",
   "metadata": {},
   "source": [
    "### Frechet Mean\n",
    "We compute the Frechet Mean of the set. We first initialize the graph space with the correct number of nodes (the adjacency matrices have been already padded with zeros), then we intialize the space metric and the parameters for the geodesic alignment. "
   ]
  },
  {
   "cell_type": "code",
   "execution_count": 5,
   "id": "289c529b",
   "metadata": {},
   "outputs": [],
   "source": [
    "graph_space = GraphSpace(n_nodes=mammals.shape[1])\n",
    "graph_space_metric = GraphSpaceMetric(space=graph_space)\n",
    "\n",
    "graph_space_metric.set_aligner('FAQ')\n",
    "aac_fm=AAC(estimate='frechet_mean', metric=graph_space_metric, max_iter = 300)"
   ]
  },
  {
   "cell_type": "code",
   "execution_count": 6,
   "id": "35c1120e",
   "metadata": {},
   "outputs": [
    {
     "name": "stderr",
     "output_type": "stream",
     "text": [
      "WARNING: Maximum number of iterations 300 reached. The estimate may be inaccurate\n"
     ]
    },
    {
     "data": {
      "text/html": [
       "<style>#sk-container-id-1 {color: black;background-color: white;}#sk-container-id-1 pre{padding: 0;}#sk-container-id-1 div.sk-toggleable {background-color: white;}#sk-container-id-1 label.sk-toggleable__label {cursor: pointer;display: block;width: 100%;margin-bottom: 0;padding: 0.3em;box-sizing: border-box;text-align: center;}#sk-container-id-1 label.sk-toggleable__label-arrow:before {content: \"▸\";float: left;margin-right: 0.25em;color: #696969;}#sk-container-id-1 label.sk-toggleable__label-arrow:hover:before {color: black;}#sk-container-id-1 div.sk-estimator:hover label.sk-toggleable__label-arrow:before {color: black;}#sk-container-id-1 div.sk-toggleable__content {max-height: 0;max-width: 0;overflow: hidden;text-align: left;background-color: #f0f8ff;}#sk-container-id-1 div.sk-toggleable__content pre {margin: 0.2em;color: black;border-radius: 0.25em;background-color: #f0f8ff;}#sk-container-id-1 input.sk-toggleable__control:checked~div.sk-toggleable__content {max-height: 200px;max-width: 100%;overflow: auto;}#sk-container-id-1 input.sk-toggleable__control:checked~label.sk-toggleable__label-arrow:before {content: \"▾\";}#sk-container-id-1 div.sk-estimator input.sk-toggleable__control:checked~label.sk-toggleable__label {background-color: #d4ebff;}#sk-container-id-1 div.sk-label input.sk-toggleable__control:checked~label.sk-toggleable__label {background-color: #d4ebff;}#sk-container-id-1 input.sk-hidden--visually {border: 0;clip: rect(1px 1px 1px 1px);clip: rect(1px, 1px, 1px, 1px);height: 1px;margin: -1px;overflow: hidden;padding: 0;position: absolute;width: 1px;}#sk-container-id-1 div.sk-estimator {font-family: monospace;background-color: #f0f8ff;border: 1px dotted black;border-radius: 0.25em;box-sizing: border-box;margin-bottom: 0.5em;}#sk-container-id-1 div.sk-estimator:hover {background-color: #d4ebff;}#sk-container-id-1 div.sk-parallel-item::after {content: \"\";width: 100%;border-bottom: 1px solid gray;flex-grow: 1;}#sk-container-id-1 div.sk-label:hover label.sk-toggleable__label {background-color: #d4ebff;}#sk-container-id-1 div.sk-serial::before {content: \"\";position: absolute;border-left: 1px solid gray;box-sizing: border-box;top: 0;bottom: 0;left: 50%;z-index: 0;}#sk-container-id-1 div.sk-serial {display: flex;flex-direction: column;align-items: center;background-color: white;padding-right: 0.2em;padding-left: 0.2em;position: relative;}#sk-container-id-1 div.sk-item {position: relative;z-index: 1;}#sk-container-id-1 div.sk-parallel {display: flex;align-items: stretch;justify-content: center;background-color: white;position: relative;}#sk-container-id-1 div.sk-item::before, #sk-container-id-1 div.sk-parallel-item::before {content: \"\";position: absolute;border-left: 1px solid gray;box-sizing: border-box;top: 0;bottom: 0;left: 50%;z-index: -1;}#sk-container-id-1 div.sk-parallel-item {display: flex;flex-direction: column;z-index: 1;position: relative;background-color: white;}#sk-container-id-1 div.sk-parallel-item:first-child::after {align-self: flex-end;width: 50%;}#sk-container-id-1 div.sk-parallel-item:last-child::after {align-self: flex-start;width: 50%;}#sk-container-id-1 div.sk-parallel-item:only-child::after {width: 0;}#sk-container-id-1 div.sk-dashed-wrapped {border: 1px dashed gray;margin: 0 0.4em 0.5em 0.4em;box-sizing: border-box;padding-bottom: 0.4em;background-color: white;}#sk-container-id-1 div.sk-label label {font-family: monospace;font-weight: bold;display: inline-block;line-height: 1.2em;}#sk-container-id-1 div.sk-label-container {text-align: center;}#sk-container-id-1 div.sk-container {/* jupyter's `normalize.less` sets `[hidden] { display: none; }` but bootstrap.min.css set `[hidden] { display: none !important; }` so we also need the `!important` here to be able to override the default hidden behavior on the sphinx rendered scikit-learn.org. See: https://github.com/scikit-learn/scikit-learn/issues/21755 */display: inline-block !important;position: relative;}#sk-container-id-1 div.sk-text-repr-fallback {display: none;}</style><div id=\"sk-container-id-1\" class=\"sk-top-container\"><div class=\"sk-text-repr-fallback\"><pre>_AACFrechetMean(max_iter=300,\n",
       "                metric=&lt;geomstats.geometry.stratified.graph_space.GraphSpaceMetric object at 0x000001858A4267C0&gt;,\n",
       "                total_space_estimator_kwargs={})</pre><b>In a Jupyter environment, please rerun this cell to show the HTML representation or trust the notebook. <br />On GitHub, the HTML representation is unable to render, please try loading this page with nbviewer.org.</b></div><div class=\"sk-container\" hidden><div class=\"sk-item\"><div class=\"sk-estimator sk-toggleable\"><input class=\"sk-toggleable__control sk-hidden--visually\" id=\"sk-estimator-id-1\" type=\"checkbox\" checked><label for=\"sk-estimator-id-1\" class=\"sk-toggleable__label sk-toggleable__label-arrow\">_AACFrechetMean</label><div class=\"sk-toggleable__content\"><pre>_AACFrechetMean(max_iter=300,\n",
       "                metric=&lt;geomstats.geometry.stratified.graph_space.GraphSpaceMetric object at 0x000001858A4267C0&gt;,\n",
       "                total_space_estimator_kwargs={})</pre></div></div></div></div></div>"
      ],
      "text/plain": [
       "_AACFrechetMean(max_iter=300,\n",
       "                metric=<geomstats.geometry.stratified.graph_space.GraphSpaceMetric object at 0x000001858A4267C0>,\n",
       "                total_space_estimator_kwargs={})"
      ]
     },
     "execution_count": 6,
     "metadata": {},
     "output_type": "execute_result"
    }
   ],
   "source": [
    "aac_fm.fit(mammals)"
   ]
  },
  {
   "cell_type": "markdown",
   "id": "e67673b9",
   "metadata": {},
   "source": [
    "Let's visualize the mean:"
   ]
  },
  {
   "cell_type": "code",
   "execution_count": 7,
   "id": "fe07aafc",
   "metadata": {},
   "outputs": [
    {
     "data": {
      "text/plain": [
       "<matplotlib.collections.LineCollection at 0x1858a4baa30>"
      ]
     },
     "execution_count": 7,
     "metadata": {},
     "output_type": "execute_result"
    },
    {
     "data": {
      "image/png": "[encoded data removed]",
      "text/plain": [
       "<Figure size 432x288 with 1 Axes>"
      ]
     },
     "metadata": {},
     "output_type": "display_data"
    }
   ],
   "source": [
    "mammals_fm = nx.from_numpy_array(aac_fm.estimate_)\n",
    "edges,weights = zip(*nx.get_edge_attributes(mammals_fm,'weight').items())\n",
    "\n",
    "nx.draw_networkx_nodes(mammals_fm, pos, node_color='b', node_size=6)\n",
    "nx.draw_networkx_edges(mammals_fm, pos, edgelist=edges, edge_color=weights,\n",
    "                       width=2.0, edge_cmap=plt.cm.Blues, edge_vmin=0., edge_vmax=10.)"
   ]
  },
  {
   "cell_type": "markdown",
   "id": "1e77de2f",
   "metadata": {},
   "source": [
    "### Generalized Geodesic Principal Component Analysis (GGPCA)\n",
    "We compute the principal components:"
   ]
  },
  {
   "cell_type": "code",
   "execution_count": 8,
   "id": "0b6228cb",
   "metadata": {},
   "outputs": [
    {
     "data": {
      "text/plain": [
       "<geomstats.geometry.stratified.graph_space.PointToGeodesicAligner at 0x1858a4b5d30>"
      ]
     },
     "execution_count": 8,
     "metadata": {},
     "output_type": "execute_result"
    }
   ],
   "source": [
    "graph_space_metric.set_point_to_geodesic_aligner(aligner='default', s_min=mammals.min()-1, s_max=mammals.max() +1,\n",
    "                                   n_points=5)"
   ]
  },
  {
   "cell_type": "code",
   "execution_count": 9,
   "id": "c778e6fd",
   "metadata": {},
   "outputs": [
    {
     "data": {
      "text/html": [
       "<style>#sk-container-id-2 {color: black;background-color: white;}#sk-container-id-2 pre{padding: 0;}#sk-container-id-2 div.sk-toggleable {background-color: white;}#sk-container-id-2 label.sk-toggleable__label {cursor: pointer;display: block;width: 100%;margin-bottom: 0;padding: 0.3em;box-sizing: border-box;text-align: center;}#sk-container-id-2 label.sk-toggleable__label-arrow:before {content: \"▸\";float: left;margin-right: 0.25em;color: #696969;}#sk-container-id-2 label.sk-toggleable__label-arrow:hover:before {color: black;}#sk-container-id-2 div.sk-estimator:hover label.sk-toggleable__label-arrow:before {color: black;}#sk-container-id-2 div.sk-toggleable__content {max-height: 0;max-width: 0;overflow: hidden;text-align: left;background-color: #f0f8ff;}#sk-container-id-2 div.sk-toggleable__content pre {margin: 0.2em;color: black;border-radius: 0.25em;background-color: #f0f8ff;}#sk-container-id-2 input.sk-toggleable__control:checked~div.sk-toggleable__content {max-height: 200px;max-width: 100%;overflow: auto;}#sk-container-id-2 input.sk-toggleable__control:checked~label.sk-toggleable__label-arrow:before {content: \"▾\";}#sk-container-id-2 div.sk-estimator input.sk-toggleable__control:checked~label.sk-toggleable__label {background-color: #d4ebff;}#sk-container-id-2 div.sk-label input.sk-toggleable__control:checked~label.sk-toggleable__label {background-color: #d4ebff;}#sk-container-id-2 input.sk-hidden--visually {border: 0;clip: rect(1px 1px 1px 1px);clip: rect(1px, 1px, 1px, 1px);height: 1px;margin: -1px;overflow: hidden;padding: 0;position: absolute;width: 1px;}#sk-container-id-2 div.sk-estimator {font-family: monospace;background-color: #f0f8ff;border: 1px dotted black;border-radius: 0.25em;box-sizing: border-box;margin-bottom: 0.5em;}#sk-container-id-2 div.sk-estimator:hover {background-color: #d4ebff;}#sk-container-id-2 div.sk-parallel-item::after {content: \"\";width: 100%;border-bottom: 1px solid gray;flex-grow: 1;}#sk-container-id-2 div.sk-label:hover label.sk-toggleable__label {background-color: #d4ebff;}#sk-container-id-2 div.sk-serial::before {content: \"\";position: absolute;border-left: 1px solid gray;box-sizing: border-box;top: 0;bottom: 0;left: 50%;z-index: 0;}#sk-container-id-2 div.sk-serial {display: flex;flex-direction: column;align-items: center;background-color: white;padding-right: 0.2em;padding-left: 0.2em;position: relative;}#sk-container-id-2 div.sk-item {position: relative;z-index: 1;}#sk-container-id-2 div.sk-parallel {display: flex;align-items: stretch;justify-content: center;background-color: white;position: relative;}#sk-container-id-2 div.sk-item::before, #sk-container-id-2 div.sk-parallel-item::before {content: \"\";position: absolute;border-left: 1px solid gray;box-sizing: border-box;top: 0;bottom: 0;left: 50%;z-index: -1;}#sk-container-id-2 div.sk-parallel-item {display: flex;flex-direction: column;z-index: 1;position: relative;background-color: white;}#sk-container-id-2 div.sk-parallel-item:first-child::after {align-self: flex-end;width: 50%;}#sk-container-id-2 div.sk-parallel-item:last-child::after {align-self: flex-start;width: 50%;}#sk-container-id-2 div.sk-parallel-item:only-child::after {width: 0;}#sk-container-id-2 div.sk-dashed-wrapped {border: 1px dashed gray;margin: 0 0.4em 0.5em 0.4em;box-sizing: border-box;padding-bottom: 0.4em;background-color: white;}#sk-container-id-2 div.sk-label label {font-family: monospace;font-weight: bold;display: inline-block;line-height: 1.2em;}#sk-container-id-2 div.sk-label-container {text-align: center;}#sk-container-id-2 div.sk-container {/* jupyter's `normalize.less` sets `[hidden] { display: none; }` but bootstrap.min.css set `[hidden] { display: none !important; }` so we also need the `!important` here to be able to override the default hidden behavior on the sphinx rendered scikit-learn.org. See: https://github.com/scikit-learn/scikit-learn/issues/21755 */display: inline-block !important;position: relative;}#sk-container-id-2 div.sk-text-repr-fallback {display: none;}</style><div id=\"sk-container-id-2\" class=\"sk-top-container\"><div class=\"sk-text-repr-fallback\"><pre>_AACGGPCA(max_iter=5,\n",
       "          metric=&lt;geomstats.geometry.stratified.graph_space.GraphSpaceMetric object at 0x000001858A4267C0&gt;)</pre><b>In a Jupyter environment, please rerun this cell to show the HTML representation or trust the notebook. <br />On GitHub, the HTML representation is unable to render, please try loading this page with nbviewer.org.</b></div><div class=\"sk-container\" hidden><div class=\"sk-item\"><div class=\"sk-estimator sk-toggleable\"><input class=\"sk-toggleable__control sk-hidden--visually\" id=\"sk-estimator-id-2\" type=\"checkbox\" checked><label for=\"sk-estimator-id-2\" class=\"sk-toggleable__label sk-toggleable__label-arrow\">_AACGGPCA</label><div class=\"sk-toggleable__content\"><pre>_AACGGPCA(max_iter=5,\n",
       "          metric=&lt;geomstats.geometry.stratified.graph_space.GraphSpaceMetric object at 0x000001858A4267C0&gt;)</pre></div></div></div></div></div>"
      ],
      "text/plain": [
       "_AACGGPCA(max_iter=5,\n",
       "          metric=<geomstats.geometry.stratified.graph_space.GraphSpaceMetric object at 0x000001858A4267C0>)"
      ]
     },
     "execution_count": 9,
     "metadata": {},
     "output_type": "execute_result"
    }
   ],
   "source": [
    "aac_ggpca = AAC(estimate='ggpca', metric=graph_space_metric, max_iter=5)\n",
    "aac_ggpca.fit(mammals)"
   ]
  },
  {
   "cell_type": "markdown",
   "id": "00b5fb14",
   "metadata": {},
   "source": [
    "To visualize the GGPCA we plot the data along the geodesic:"
   ]
  },
  {
   "cell_type": "code",
   "execution_count": 10,
   "id": "7b5e505b",
   "metadata": {},
   "outputs": [
    {
     "data": {
      "text/plain": [
       "(2, 18, 18)"
      ]
     },
     "execution_count": 10,
     "metadata": {},
     "output_type": "execute_result"
    }
   ],
   "source": [
    "aac_ggpca.components_.shape"
   ]
  },
  {
   "cell_type": "markdown",
   "id": "99624e6c",
   "metadata": {},
   "source": [
    "Let's visualized the pricipal components:"
   ]
  },
  {
   "cell_type": "code",
   "execution_count": 11,
   "id": "cae60e9c",
   "metadata": {},
   "outputs": [
    {
     "data": {
      "text/plain": [
       "array([0.26419311, 0.14383405])"
      ]
     },
     "execution_count": 11,
     "metadata": {},
     "output_type": "execute_result"
    }
   ],
   "source": [
    "aac_ggpca.explained_variance_ratio_"
   ]
  },
  {
   "cell_type": "code",
   "execution_count": 12,
   "id": "781ac691",
   "metadata": {},
   "outputs": [],
   "source": [
    "X_last = graph_space.permute(mammals, aac_ggpca.metric.point_to_geodesic_aligner.perm_)"
   ]
  },
  {
   "cell_type": "markdown",
   "id": "6125772c",
   "metadata": {},
   "source": [
    "\n",
    "The first geodesic principal components reflect the variability in terms of isolated nodes, the second principal component in terms of density. The example is able to show how the GGPCA in the Graph Space setting is capturing social interaction changes that the original paper Rossi et al. (2015) is not able to capture with standard Euclidean methods. This example is also naturally unlabelled, due to the different baboons in different groups (i.e. different nodes in different networks).\n"
   ]
  },
  {
   "cell_type": "markdown",
   "id": "a2912d1d",
   "metadata": {},
   "source": [
    "# GGRegression Fifa 2018 Player Passing Networks\n",
    "\n",
    "## Motivation and Dataset\n",
    "In this last case study, we studied the football players passing network (PPN) (i.e., the number of times two players\n",
    "pass each other the ball throughout the match) as a function of the final match score. The analysis and visualization\n",
    "of the players passing networks has becoming popular in the last years to understand the players network, the teams performance and strategy, and the final score. Using open source database in Stats Bomb, we collect all\n",
    "the PPN of each team in each match for the whole Fifa 2018 World Championship. The dataset contains observations\n",
    "about the 64 matches played (from 14/06/2018 to 15/07/2018) between 32 teams from all over the world."
   ]
  },
  {
   "cell_type": "code",
   "execution_count": 13,
   "id": "499c81c1",
   "metadata": {},
   "outputs": [],
   "source": [
    "ppn, scores = data_utils.load_football()"
   ]
  },
  {
   "cell_type": "code",
   "execution_count": 14,
   "id": "0d55820f",
   "metadata": {},
   "outputs": [
    {
     "data": {
      "text/plain": [
       "<matplotlib.collections.LineCollection at 0x1858da553a0>"
      ]
     },
     "execution_count": 14,
     "metadata": {},
     "output_type": "execute_result"
    },
    {
     "data": {
      "image/png": "[encoded data removed]",
      "text/plain": [
       "<Figure size 432x288 with 1 Axes>"
      ]
     },
     "metadata": {},
     "output_type": "display_data"
    }
   ],
   "source": [
    "ppn_obs = nx.from_numpy_matrix(ppn[5])\n",
    "pos = nx.kamada_kawai_layout(ppn_obs)\n",
    "edges, weights = zip(*nx.get_edge_attributes(ppn_obs,'weight').items())\n",
    "\n",
    "pos = nx.spring_layout(ppn_obs)\n",
    "nx.draw_networkx_nodes(ppn_obs, pos, node_color='b', node_size=6)\n",
    "nx.draw_networkx_edges(ppn_obs, pos, edgelist=edges, edge_color=weights, width=2.0,\n",
    "                       edge_cmap=plt.cm.Blues, edge_vmin=0., edge_vmax=10.)"
   ]
  },
  {
   "cell_type": "code",
   "execution_count": 15,
   "id": "74eba5b2",
   "metadata": {},
   "outputs": [
    {
     "name": "stderr",
     "output_type": "stream",
     "text": [
      "WARNING: Maximum number of iterations 20 reached. The estimate may be inaccurate\n"
     ]
    },
    {
     "data": {
      "text/html": [
       "<style>#sk-container-id-3 {color: black;background-color: white;}#sk-container-id-3 pre{padding: 0;}#sk-container-id-3 div.sk-toggleable {background-color: white;}#sk-container-id-3 label.sk-toggleable__label {cursor: pointer;display: block;width: 100%;margin-bottom: 0;padding: 0.3em;box-sizing: border-box;text-align: center;}#sk-container-id-3 label.sk-toggleable__label-arrow:before {content: \"▸\";float: left;margin-right: 0.25em;color: #696969;}#sk-container-id-3 label.sk-toggleable__label-arrow:hover:before {color: black;}#sk-container-id-3 div.sk-estimator:hover label.sk-toggleable__label-arrow:before {color: black;}#sk-container-id-3 div.sk-toggleable__content {max-height: 0;max-width: 0;overflow: hidden;text-align: left;background-color: #f0f8ff;}#sk-container-id-3 div.sk-toggleable__content pre {margin: 0.2em;color: black;border-radius: 0.25em;background-color: #f0f8ff;}#sk-container-id-3 input.sk-toggleable__control:checked~div.sk-toggleable__content {max-height: 200px;max-width: 100%;overflow: auto;}#sk-container-id-3 input.sk-toggleable__control:checked~label.sk-toggleable__label-arrow:before {content: \"▾\";}#sk-container-id-3 div.sk-estimator input.sk-toggleable__control:checked~label.sk-toggleable__label {background-color: #d4ebff;}#sk-container-id-3 div.sk-label input.sk-toggleable__control:checked~label.sk-toggleable__label {background-color: #d4ebff;}#sk-container-id-3 input.sk-hidden--visually {border: 0;clip: rect(1px 1px 1px 1px);clip: rect(1px, 1px, 1px, 1px);height: 1px;margin: -1px;overflow: hidden;padding: 0;position: absolute;width: 1px;}#sk-container-id-3 div.sk-estimator {font-family: monospace;background-color: #f0f8ff;border: 1px dotted black;border-radius: 0.25em;box-sizing: border-box;margin-bottom: 0.5em;}#sk-container-id-3 div.sk-estimator:hover {background-color: #d4ebff;}#sk-container-id-3 div.sk-parallel-item::after {content: \"\";width: 100%;border-bottom: 1px solid gray;flex-grow: 1;}#sk-container-id-3 div.sk-label:hover label.sk-toggleable__label {background-color: #d4ebff;}#sk-container-id-3 div.sk-serial::before {content: \"\";position: absolute;border-left: 1px solid gray;box-sizing: border-box;top: 0;bottom: 0;left: 50%;z-index: 0;}#sk-container-id-3 div.sk-serial {display: flex;flex-direction: column;align-items: center;background-color: white;padding-right: 0.2em;padding-left: 0.2em;position: relative;}#sk-container-id-3 div.sk-item {position: relative;z-index: 1;}#sk-container-id-3 div.sk-parallel {display: flex;align-items: stretch;justify-content: center;background-color: white;position: relative;}#sk-container-id-3 div.sk-item::before, #sk-container-id-3 div.sk-parallel-item::before {content: \"\";position: absolute;border-left: 1px solid gray;box-sizing: border-box;top: 0;bottom: 0;left: 50%;z-index: -1;}#sk-container-id-3 div.sk-parallel-item {display: flex;flex-direction: column;z-index: 1;position: relative;background-color: white;}#sk-container-id-3 div.sk-parallel-item:first-child::after {align-self: flex-end;width: 50%;}#sk-container-id-3 div.sk-parallel-item:last-child::after {align-self: flex-start;width: 50%;}#sk-container-id-3 div.sk-parallel-item:only-child::after {width: 0;}#sk-container-id-3 div.sk-dashed-wrapped {border: 1px dashed gray;margin: 0 0.4em 0.5em 0.4em;box-sizing: border-box;padding-bottom: 0.4em;background-color: white;}#sk-container-id-3 div.sk-label label {font-family: monospace;font-weight: bold;display: inline-block;line-height: 1.2em;}#sk-container-id-3 div.sk-label-container {text-align: center;}#sk-container-id-3 div.sk-container {/* jupyter's `normalize.less` sets `[hidden] { display: none; }` but bootstrap.min.css set `[hidden] { display: none !important; }` so we also need the `!important` here to be able to override the default hidden behavior on the sphinx rendered scikit-learn.org. See: https://github.com/scikit-learn/scikit-learn/issues/21755 */display: inline-block !important;position: relative;}#sk-container-id-3 div.sk-text-repr-fallback {display: none;}</style><div id=\"sk-container-id-3\" class=\"sk-top-container\"><div class=\"sk-text-repr-fallback\"><pre>_AACRegressor(metric=&lt;geomstats.geometry.stratified.graph_space.GraphSpaceMetric object at 0x000001858A567F40&gt;,\n",
       "              total_space_estimator_kwargs={})</pre><b>In a Jupyter environment, please rerun this cell to show the HTML representation or trust the notebook. <br />On GitHub, the HTML representation is unable to render, please try loading this page with nbviewer.org.</b></div><div class=\"sk-container\" hidden><div class=\"sk-item\"><div class=\"sk-estimator sk-toggleable\"><input class=\"sk-toggleable__control sk-hidden--visually\" id=\"sk-estimator-id-3\" type=\"checkbox\" checked><label for=\"sk-estimator-id-3\" class=\"sk-toggleable__label sk-toggleable__label-arrow\">_AACRegressor</label><div class=\"sk-toggleable__content\"><pre>_AACRegressor(metric=&lt;geomstats.geometry.stratified.graph_space.GraphSpaceMetric object at 0x000001858A567F40&gt;,\n",
       "              total_space_estimator_kwargs={})</pre></div></div></div></div></div>"
      ],
      "text/plain": [
       "_AACRegressor(metric=<geomstats.geometry.stratified.graph_space.GraphSpaceMetric object at 0x000001858A567F40>,\n",
       "              total_space_estimator_kwargs={})"
      ]
     },
     "execution_count": 15,
     "metadata": {},
     "output_type": "execute_result"
    }
   ],
   "source": [
    "graph_space = GraphSpace(n_nodes=ppn.shape[1])\n",
    "graph_space_metric = GraphSpaceMetric(space=graph_space)\n",
    "graph_space_metric.set_aligner('FAQ')\n",
    "\n",
    "aac_reg = AAC(estimate='regression', metric=graph_space_metric)\n",
    "aac_reg.fit(X=gs.expand_dims(scores, axis=1), y=ppn)"
   ]
  },
  {
   "cell_type": "markdown",
   "id": "077c2b94",
   "metadata": {},
   "source": [
    "### References:\n",
    " \n",
    "Franz, M., Altmann, J., & Alberts, S. C. (2015). Knockouts of high-ranking males have limited impact on baboon social networks. Current Zoology, 61(1), 107-113.\n",
    "\n",
    "S. S. Ltd, Statsbomb open data, https://github.com/statsbomb/open-data (2018).\n",
    "\n",
    "Rossi, R., & Ahmed, N. (2015, March). The network data repository with interactive graph analytics and visualization. In Twenty-ninth AAAI conference on artificial intelligence.\n"
   ]
  }
 ],
 "metadata": {
  "backends": [
   "numpy"
  ],
  "kernelspec": {
   "display_name": "Python 3 (ipykernel)",
   "language": "python",
   "name": "python3"
  },
  "language_info": {
   "codemirror_mode": {
    "name": "ipython",
    "version": 3
   },
   "file_extension": ".py",
   "mimetype": "text/x-python",
   "name": "python",
   "nbconvert_exporter": "python",
   "pygments_lexer": "ipython3",
   "version": "3.9.6"
  }
 },
 "nbformat": 4,
 "nbformat_minor": 5
}
