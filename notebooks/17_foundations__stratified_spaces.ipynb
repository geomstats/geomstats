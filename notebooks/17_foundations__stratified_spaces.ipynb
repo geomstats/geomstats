{
 "cells": [
  {
   "cell_type": "markdown",
   "id": "ada6ec81",
   "metadata": {},
   "source": [
    "# Stratified spaces\n",
    "\n",
    "$\\textbf{Lead Author: Anna Calissano}$"
   ]
  },
  {
   "cell_type": "markdown",
   "id": "3af12b42",
   "metadata": {},
   "source": [
    "Dear learner, \n",
    "the aim of the current notebook is to introduce stratified spaces and its implementation within geomstats. "
   ]
  },
  {
   "cell_type": "markdown",
   "id": "4c0d7eda",
   "metadata": {},
   "source": [
    "## Spider"
   ]
  },
  {
   "cell_type": "markdown",
   "id": "5c26e954",
   "metadata": {},
   "source": [
    "The $k$-Spider consists of $k$ copies of the positive real line $\\mathbb{R}_{\\geq 0}$ glued together at the origin. Within geomstats, we defined the following:\n",
    "1. Spider Point: a point object defining the ray and the value\n",
    "2. Spider: the space defined by the number of rays\n",
    "3. Spider Geometry: by chosing a metric on the rays, we can define a metric on the whole space"
   ]
  },
  {
   "cell_type": "markdown",
   "id": "eb5abd16",
   "metadata": {},
   "source": [
    "<img src=\"figures/tripod.png\" width=\"200px\"/>"
   ]
  },
  {
   "cell_type": "code",
   "execution_count": 1,
   "id": "72158cdb",
   "metadata": {},
   "outputs": [
    {
     "name": "stderr",
     "output_type": "stream",
     "text": [
      "INFO: Using numpy backend\n"
     ]
    }
   ],
   "source": [
    "import geomstats.backend as gs\n",
    "from geomstats.geometry.stratified.spider import Spider\n",
    "\n",
    "gs.random.seed(2020)"
   ]
  },
  {
   "cell_type": "markdown",
   "id": "6dc7f1cd",
   "metadata": {},
   "source": [
    "We can define a spider with $k=3$ rays (strata) and sample two points from it."
   ]
  },
  {
   "cell_type": "code",
   "execution_count": 2,
   "id": "85659a76",
   "metadata": {},
   "outputs": [
    {
     "data": {
      "text/plain": [
       "3"
      ]
     },
     "execution_count": 2,
     "metadata": {},
     "output_type": "execute_result"
    }
   ],
   "source": [
    "spider = Spider(n_rays=3, equip=True)\n",
    "\n",
    "spider.n_rays"
   ]
  },
  {
   "cell_type": "code",
   "execution_count": 3,
   "id": "475990f8",
   "metadata": {},
   "outputs": [
    {
     "data": {
      "text/plain": [
       "[r0: 10.028180271833065, r0: 11.079704435029091]"
      ]
     },
     "execution_count": 3,
     "metadata": {},
     "output_type": "execute_result"
    }
   ],
   "source": [
    "spider_points = spider.random_point(n_samples=2)\n",
    "\n",
    "spider_points"
   ]
  },
  {
   "cell_type": "markdown",
   "id": "ac7750b6",
   "metadata": {},
   "source": [
    "The points are represented into the SpiderPoint format, where the first input is the stratum and the second input is the value along the stratum."
   ]
  },
  {
   "cell_type": "code",
   "execution_count": 4,
   "id": "f59ca8e4",
   "metadata": {},
   "outputs": [
    {
     "name": "stdout",
     "output_type": "stream",
     "text": [
      "0\n",
      "[10.02818027]\n"
     ]
    }
   ],
   "source": [
    "print(spider_points[0].stratum)\n",
    "print(spider_points[0].coord)"
   ]
  },
  {
   "cell_type": "markdown",
   "id": "b62044c5",
   "metadata": {},
   "source": [
    "Given a metric $d_{rays}$ on the strata (the rays), we can extend it to the whole space by $$d_{Spider}(s_1,s_2)=d_{rays}(s_1,0) + d_{rays}(0,s_2)$$"
   ]
  },
  {
   "cell_type": "markdown",
   "id": "aeb317b1",
   "metadata": {},
   "source": [
    "Given two points on the Spider, we can compute the distance between the two points as well as the geodesic between the two."
   ]
  },
  {
   "cell_type": "code",
   "execution_count": 5,
   "id": "a6126dd3",
   "metadata": {},
   "outputs": [
    {
     "data": {
      "text/plain": [
       "array(1.05152416)"
      ]
     },
     "execution_count": 5,
     "metadata": {},
     "output_type": "execute_result"
    }
   ],
   "source": [
    "spider.metric.dist(spider_points[0], spider_points[1])"
   ]
  },
  {
   "cell_type": "code",
   "execution_count": 6,
   "id": "7881d1da",
   "metadata": {
    "scrolled": true
   },
   "outputs": [
    {
     "name": "stdout",
     "output_type": "stream",
     "text": [
      "[r0: 10.028180271833065] [r0: 10.55394235343108] [r0: 11.079704435029091]\n"
     ]
    }
   ],
   "source": [
    "spider_geodesic_func = spider.metric.geodesic(spider_points[0], spider_points[1])\n",
    "\n",
    "print(spider_geodesic_func(0), spider_geodesic_func(0.5), spider_geodesic_func(1))"
   ]
  },
  {
   "cell_type": "markdown",
   "id": "76023d66",
   "metadata": {},
   "source": [
    "## Graph Space"
   ]
  },
  {
   "cell_type": "markdown",
   "id": "3358a89e",
   "metadata": {},
   "source": [
    "Graph Space is a space defined to describe set of graphs with a finite number of nodes which can be both node labelled or node unlabelled. \n",
    "\n",
    "Inspired by: A. Calissano, A. Feragen, S. Vantini, Populations of unlabeled networks: Graph space geometry and geodesic principal components, MOX Report (2020)\n",
    "\n",
    "\n",
    "We consider graphs as triples  $G=(V,E,a)$, where the node set $V$ has at most $n$ elements, and the edge set $E \\subset V^2$ has maximal size \n",
    "$n^2$. The nodes and edges are attributed with elements of an attribute space $A$, which is considered to be Euclidean, via an attribute \n",
    "map $a \\colon E \\rightarrow A$. Here, the map $a$ allows us to describe attributes on both edges and nodes, as we use self loop edges (diagonal \n",
    "elements in the graphs adjacency matrix) to assign attributes to nodes. \n",
    "A graph with scalar attributes is completely specified by a weighted adjacency matrix of dimension $n\\times n$, residing in a space \n",
    "$X=\\mathbb{R}^{n^2}$ of flattened adjacency matrices. If the attributes are vectors of dimension $d$, the graph is represented by a tensor of \n",
    "dimension $n\\times n\\times d$, residing in a space $X=\\mathbb{R}^{n\\times n\\times d}$."
   ]
  },
  {
   "cell_type": "code",
   "execution_count": 7,
   "id": "8452b3d8",
   "metadata": {},
   "outputs": [],
   "source": [
    "import matplotlib.pyplot as plt\n",
    "import networkx as nx\n",
    "\n",
    "from geomstats.geometry.stratified.graph_space import GraphSpace"
   ]
  },
  {
   "cell_type": "markdown",
   "id": "fa02c396",
   "metadata": {},
   "source": [
    "### Graph\n",
    "Consider a graph with $n=3$ nodes and $A=\\mathbb{R}$ scalar attributes on nodes and edges. It is represented by its adjacency matrix."
   ]
  },
  {
   "cell_type": "code",
   "execution_count": 8,
   "id": "fd8f3042",
   "metadata": {
    "scrolled": true
   },
   "outputs": [],
   "source": [
    "graph_point = gs.array([[10, 3, 1], [3, 2, 4], [1, 4, 5]])"
   ]
  },
  {
   "cell_type": "markdown",
   "id": "0f89275b",
   "metadata": {},
   "source": [
    "To simplify the visualization and the access to different methods, the graph can be turned into a networkx graph."
   ]
  },
  {
   "cell_type": "code",
   "execution_count": 9,
   "id": "edee3873",
   "metadata": {},
   "outputs": [
    {
     "data": {
      "image/png": "[encoded data removed]",
      "text/plain": [
       "<Figure size 640x480 with 1 Axes>"
      ]
     },
     "metadata": {},
     "output_type": "display_data"
    }
   ],
   "source": [
    "graph_point_nx = nx.from_numpy_array(graph_point)\n",
    "edges, weights = zip(*nx.get_edge_attributes(graph_point_nx, \"weight\").items())\n",
    "pos = nx.spring_layout(graph_point_nx)\n",
    "nx.draw(\n",
    "    graph_point_nx,\n",
    "    pos,\n",
    "    node_color=\"b\",\n",
    "    edgelist=edges,\n",
    "    edge_color=weights,\n",
    "    width=5.0,\n",
    "    edge_cmap=plt.cm.Blues,\n",
    ")"
   ]
  },
  {
   "cell_type": "markdown",
   "id": "d565bc0b",
   "metadata": {},
   "source": [
    "### Set of Graphs: GraphSpace\n",
    "Graphs can have different numbers of nodes and different node labels or order. We assume the existence across the populations of at most $n$ distinct nodes and we add fictionally null nodes to smaller networks, so that all graphs can be described by a fixed-size adjacency matrix. Graph Space is initalized by the maximal number of nodes in the set. "
   ]
  },
  {
   "cell_type": "code",
   "execution_count": 10,
   "id": "050724e5",
   "metadata": {},
   "outputs": [],
   "source": [
    "total_space = GraphSpace(n_nodes=4)"
   ]
  },
  {
   "cell_type": "markdown",
   "id": "f442a08f",
   "metadata": {},
   "source": [
    "Within GraphSpace, we can sample points from random adjacency matrices, we can check if the points belongs and we can return a set of adjacency matrices."
   ]
  },
  {
   "cell_type": "code",
   "execution_count": 11,
   "id": "5748f785",
   "metadata": {},
   "outputs": [
    {
     "data": {
      "text/plain": [
       "array([ True,  True])"
      ]
     },
     "execution_count": 11,
     "metadata": {},
     "output_type": "execute_result"
    }
   ],
   "source": [
    "points = total_space.random_point(2)\n",
    "\n",
    "total_space.belongs(points)"
   ]
  },
  {
   "cell_type": "markdown",
   "id": "a7cba4c8",
   "metadata": {},
   "source": [
    "### Labelled or Unlabelled?\n",
    "Graphs can be considered labelled or unlabelled, meaning that the observation in the set can share the same nodes (labelled) or not (unlabelled). We can describe both cases into Graph Space by using a little trick.\n",
    "\n",
    "To deal with unlabelled nodes, alignment two graphs corresponds to finding optimal permutations of their nodes. By allowing node permutation, a concept of equivalence class is introduced (i.e., every network is associated to the set of \n",
    "networks obtained by permuting the original one). In geometrical terms, this can be described as a quotient space obtained by applying a permutation \n",
    "action to the set of adjacency matrix. \n",
    "\n",
    "In details, the group of node permutations $T$ can be represented via permutation matrices, acting on $X$ \n",
    "through matrix multiplication. The binary operation: \n",
    "\n",
    "$$\\cdot \\colon T \\times X \\rightarrow X, (T,x)\\mapsto Tx $$\n",
    "\n",
    "thus defines an action of the group $T$ on $X$. The obtained quotient space $X/T$ is called graph space, and \n",
    "each element of $X/T$ is an unlabelled graph $G$, represented as an equivalence class $[x]=Tx$ which contains all the flattened adjacency matrices \n",
    "in $X$ which can be obtained from $x$ by permuting nodes. The map $\\pi \\colon X \\to X/T$ given by $\\pi(x) = [x]$ can be thought of as a \n",
    "projection of the Euclidean total space $X$ onto the graph space $X/T$, and the total space $X$ plays a similar role relative to graph space, \n",
    "as the tangent space does for manifolds, by providing a Euclidean space in which approximate computations can be carried out and projected back onto \n",
    "the space of interest -- in our case the graph space $X/T$.\n",
    "\n",
    "\n",
    "To deal with labelled nodes, we restrict the set of permutation matrices to the identity: $T=\\{I\\}$"
   ]
  },
  {
   "cell_type": "markdown",
   "id": "ac7b3838",
   "metadata": {},
   "source": [
    "### Graph Space Metric\n",
    "\n",
    "To define a metric on graph space, we need to choose a metric on the total space.\n",
    "Any metric $d_X$ on $X$ defines a quotient pseudo-metric\n",
    "\n",
    "$$d_{X/T}([x_1],[x_2])=\\min_{t\\in T}d_X(x_1,t^Tx_2t)$$\n",
    "\n",
    "on $X/T$. Since the permutation group $T$ is finite, $d_{X/T}$ is a metric, and the graph space $X/T$ is a geodesic space. In the implementation, we suppose that the default metric in the total space is the Frobenius metric between adjacency matrix."
   ]
  },
  {
   "cell_type": "markdown",
   "id": "b420d7ca",
   "metadata": {},
   "source": [
    "In `geomstats`, we can equip the total space with a group action, and then get the corresponding quotient structure:"
   ]
  },
  {
   "cell_type": "code",
   "execution_count": 12,
   "id": "22aa982f",
   "metadata": {},
   "outputs": [],
   "source": [
    "total_space.equip_with_group_action()  # permutations by default\n",
    "total_space.equip_with_quotient();"
   ]
  },
  {
   "cell_type": "markdown",
   "id": "a7c79820",
   "metadata": {},
   "source": [
    "The graph space becomes then available under `total_space.quotient` and is equipped with a quotient metric."
   ]
  },
  {
   "cell_type": "code",
   "execution_count": 13,
   "id": "b9d9554c",
   "metadata": {},
   "outputs": [],
   "source": [
    "graph_space = total_space.quotient"
   ]
  },
  {
   "cell_type": "markdown",
   "id": "f1af545d",
   "metadata": {},
   "source": [
    "Let's compare the difference between distances in the total and graph spaces:"
   ]
  },
  {
   "cell_type": "code",
   "execution_count": 14,
   "id": "d0d87f62",
   "metadata": {},
   "outputs": [
    {
     "name": "stdout",
     "output_type": "stream",
     "text": [
      "dist quotient <= dist total:\n",
      "1.3431542528099538 <= 1.4460818164862586\n"
     ]
    }
   ],
   "source": [
    "point_a, point_b = points\n",
    "\n",
    "dist_total = total_space.metric.dist(point_a, point_b)\n",
    "dist_quotient = graph_space.metric.dist(point_a, point_b)\n",
    "\n",
    "print(f\"dist quotient <= dist total:\\n{dist_quotient} <= {dist_total}\")"
   ]
  },
  {
   "cell_type": "markdown",
   "id": "bea5cc08",
   "metadata": {},
   "source": [
    "### Graph to Graph Alignment\n",
    "\n",
    "The metric on Graph Space relies on the optimization along the quotient fibers. In this context the optimization problem is known as graph matching (or network alignment) and corresponds in finding a match between the two sets of nodes which minimizes the distance between the corresponding adjacency matrices. The distance function needs an aligner input, which solves the minimization problem by returning the second input graph optimally aligned. One of the available aligners are:\n",
    "\n",
    "1. 'FAQ': the Fast Quadratic Assignment Matching implemented in `scipy.optimize.quadratic` assignment which is the state of the art in the matching literature based on the Frobenius norm."
   ]
  },
  {
   "cell_type": "markdown",
   "id": "3f87b520",
   "metadata": {},
   "source": [
    "The aligner algorithm can be set in the object `total_space.aligner`, which connects the total and the quotient spaces (it has a similar role as `FiberBundle`, but with less structure)."
   ]
  },
  {
   "cell_type": "markdown",
   "id": "94abfdb2",
   "metadata": {},
   "source": [
    "We can align a set of points using the following function, which returns the permuted graphs:"
   ]
  },
  {
   "cell_type": "code",
   "execution_count": 15,
   "id": "26f349ca",
   "metadata": {
    "scrolled": true
   },
   "outputs": [
    {
     "data": {
      "text/plain": [
       "array([[[-0.34330033, -0.35911276,  0.25708028,  0.23632492],\n",
       "        [-0.14433691, -0.15890698,  0.16680305, -0.28289936],\n",
       "        [ 0.06142698, -0.37582122, -0.18026352,  0.45321387],\n",
       "        [-0.36264321,  0.0694131 ,  0.47566548,  0.00336706]],\n",
       "\n",
       "       [[ 0.16766421, -0.4658085 , -0.04388063, -0.34414864],\n",
       "        [-0.02395103, -0.33029756,  0.39625834, -0.12660624],\n",
       "        [-0.12030707,  0.35831659,  0.14606105,  0.0834617 ],\n",
       "        [ 0.16835003, -0.32220738,  0.34924802, -0.05762742]]])"
      ]
     },
     "execution_count": 15,
     "metadata": {},
     "output_type": "execute_result"
    }
   ],
   "source": [
    "aligned_points = total_space.aligner.align(point=points, base_point=points)\n",
    "\n",
    "aligned_points"
   ]
  },
  {
   "cell_type": "markdown",
   "id": "880735ce",
   "metadata": {},
   "source": [
    "The permutations of the nodes computed by the `align` function are saved in the `perm_` attribute. Notice that only the last run output is saved."
   ]
  },
  {
   "cell_type": "code",
   "execution_count": 16,
   "id": "adc454c6",
   "metadata": {},
   "outputs": [
    {
     "data": {
      "text/plain": [
       "array([[0, 1, 2, 3],\n",
       "       [0, 1, 2, 3]])"
      ]
     },
     "execution_count": 16,
     "metadata": {},
     "output_type": "execute_result"
    }
   ],
   "source": [
    "total_space.aligner.perm_"
   ]
  },
  {
   "cell_type": "markdown",
   "id": "e8b43262",
   "metadata": {},
   "source": [
    "### Graph to Geodesic Alignment\n",
    "In different algorithms for graphs, we need to align a graph to a geodesic. Given a point $[X] \\in X/T$, a $\\gamma : \\mathbb{R} \\rightarrow X$, a domain $[s_{min}, s_{max}] \\in \\mathbb{R}$, the alignment with respect to a geodesic is performed as follow:\n",
    "\n",
    "1. Sample $s_i\\in [s_{min}, s_{max}]$\n",
    "2. Compute $\\gamma(s_i)$\n",
    "3. Compute $d_i = min_{t\\in T}d_X(\\gamma(s_i), t^TXt)$ is minimum\n",
    "4. Select the $t^TXt$ corresponding to the $d_i$ minimum \n",
    "\n",
    "The algorithm is described in: Huckemann, S., Hotz, T., & Munk, A. (2010). Intrinsic shape analysis: Geodesic PCA for Riemannian manifolds modulo isometric Lie group actions. Statistica Sinica, 1-58. "
   ]
  },
  {
   "cell_type": "markdown",
   "id": "5f309ece",
   "metadata": {},
   "source": [
    "To perform the alignment between the geodesic and the point, we need to to define which methodology to adopt. This is specified in the `set_point_to_geodesic` function."
   ]
  },
  {
   "cell_type": "code",
   "execution_count": 17,
   "id": "fef23c78",
   "metadata": {},
   "outputs": [
    {
     "data": {
      "text/plain": [
       "<geomstats.geometry.stratified.graph_space.PointToGeodesicAligner at 0x7540f0c8c190>"
      ]
     },
     "execution_count": 17,
     "metadata": {},
     "output_type": "execute_result"
    }
   ],
   "source": [
    "total_space.aligner.set_point_to_geodesic_aligner(\"default\", s_min=-1.0, s_max=1.0)"
   ]
  },
  {
   "cell_type": "code",
   "execution_count": 18,
   "id": "9be2c5c8",
   "metadata": {
    "scrolled": true
   },
   "outputs": [
    {
     "data": {
      "text/plain": [
       "array([[ 0.09464325, -0.22793224,  0.18702875, -0.35236845],\n",
       "       [-0.13903918, -0.25412397,  0.29427821, -0.13448654],\n",
       "       [ 0.13459113,  0.03203312,  0.00102791,  0.07366849],\n",
       "       [ 0.19856109, -0.33860977,  0.30828458, -0.18459316]])"
      ]
     },
     "execution_count": 18,
     "metadata": {},
     "output_type": "execute_result"
    }
   ],
   "source": [
    "geodesic_func = graph_space.metric.geodesic(points[0], points[1])\n",
    "\n",
    "total_space.aligner.align_point_to_geodesic(geodesic=geodesic_func, point=points[1])"
   ]
  }
 ],
 "metadata": {
  "backends": [
   "numpy"
  ],
  "kernelspec": {
   "display_name": "Python 3 (ipykernel)",
   "language": "python",
   "name": "python3"
  },
  "language_info": {
   "codemirror_mode": {
    "name": "ipython",
    "version": 3
   },
   "file_extension": ".py",
   "mimetype": "text/x-python",
   "name": "python",
   "nbconvert_exporter": "python",
   "pygments_lexer": "ipython3",
   "version": "3.11.5"
  }
 },
 "nbformat": 4,
 "nbformat_minor": 5
}
