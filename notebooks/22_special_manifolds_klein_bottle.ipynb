{
 "cells": [
  {
   "cell_type": "markdown",
   "id": "8801649c",
   "metadata": {},
   "source": [
    "# Special Manifolds: Klein Bottle\n",
    "\n",
    "## By Juliane Braunsmann, Rami Dabit, and Terry Wang"
   ]
  },
  {
   "cell_type": "markdown",
   "id": "6a2b412c",
   "metadata": {},
   "source": [
    "UCSB ECE 194N/594N Nina Miolane\n",
    "\n",
    "***"
   ]
  },
  {
   "cell_type": "markdown",
   "id": "84294520",
   "metadata": {},
   "source": [
    "## I. Introduction\n",
    "\n",
    "The Klein bottle is a two-dimensional manifold named after German mathematician Felix Klein who first described it in 1882. Though it looks like a traditional bottle in three-dimensional Euclidian space, it can only be embedded in $\\mathbb{R}^{4}$ rather than $\\mathbb{R}^{3}$, and cannot hold any volume due to it being one-sided. If someone were to walk along the surface of the bottle, their geodesic could trace back to the origin while flipping them upside down as it is both closed and non-orientable. Similar the torus or sphere, the Klein bottle has no \"inside\" and would result in two strips if cut open.\n",
    "\n",
    "<img src=https://i.imgur.com/gwJMEzM.png width=\"250\">"
   ]
  },
  {
   "cell_type": "markdown",
   "id": "af34be94",
   "metadata": {},
   "source": [
    "Beginning with the fundamental polygon in the upper-left square, we can construct a Klein bottle by attaching the color-matched triangles, creating a cylindrical shape which will then intersect itself. The circle of self-intersection is referred to as an \"immersion\" of the Klein bottle in three dimensions.\n",
    "\n",
    "<img src=https://i.imgur.com/q7aNzB4.png width=\"800\">"
   ]
  },
  {
   "cell_type": "markdown",
   "id": "61165e9d",
   "metadata": {},
   "source": [
    "## II. Properties\n",
    "\n",
    "Mathematically, we can represent the Klein bottle in four dimensions using the following equation, which produces the corresponding model of the Klein bottle.\n",
    "\n",
    "$(x^2+y^2+z^2+2y-1)\\left [ (x^2+y^2+z^2-2y-1)^2-8z^2 \\right ]+16xz(x^2+y^2+z^2-2y-1)=0$\n",
    "\n",
    "<img src=https://i.imgur.com/Oteth1I.png width=\"250\">"
   ]
  },
  {
   "cell_type": "markdown",
   "id": "17fd14e5",
   "metadata": {},
   "source": [
    "Slicing the Klein bottle along its plane of symmetry reveals that it is closely related to another one-sided, two-dimensional manifold, the Möbius strip shown below. Unlike the complete Klein bottle, the Möbius strip can be embedded in three-dimensional Euclidian space $\\mathbb{R}^{3}$. In similar fashion, connecting the ends of a \"spherinder\" yields a \"spherinder Klein bottle,\" which cannot be fully embedded in $\\mathbb{R}^{4}$ but $\\mathbb{R}^{5}$.\n",
    "\n",
    "<img src=https://i.imgur.com/j5vP41i.png width=\"400\">"
   ]
  },
  {
   "cell_type": "markdown",
   "id": "42dc3254",
   "metadata": {},
   "source": [
    "Given the Möbius strip as a starting point, one can create a \"figure 8\" immersion of the Klein bottle via parameterization. The strip is curled to connect the opposing edges, forcing it to \"close\" on itself. This immersion includes a self-intersection circle where sin(v) is zero, a geometric circle with radius r in the xy-plane. The parameter v specifies the position around the 8-shaped cross section, while $\\theta$ denotes the angle with the xy-plane.\n",
    "\n",
    "For $0 \\leqslant \\theta < 2\\pi$, $0 \\leqslant v < 2\\pi$, and $r > 2 :$\n",
    "\n",
    "$x=\\left(r+cos(\\frac{\\theta}{2})sin(v)-sin(\\frac{\\theta}{2})sin(2v)\\right)cos(\\theta)$\n",
    "\n",
    "$y=\\left(r+cos(\\frac{\\theta}{2})sin(v)-sin(\\frac{\\theta}{2})sin(2v)\\right)sin(\\theta)$\n",
    "\n",
    "$z=sin(\\frac{\\theta}{2})sin(v)+cos(\\frac{\\theta}{2})sin(2v)$\n"
   ]
  },
  {
   "cell_type": "markdown",
   "id": "75355621",
   "metadata": {},
   "source": [
    "The resultant \"figure 8\" immersion of the Klein bottle is formed.\n",
    "\n",
    "<img src=https://i.imgur.com/OlKSsTX.png width=\"400\">"
   ]
  },
  {
   "cell_type": "markdown",
   "id": "1b0b4584",
   "metadata": {},
   "source": [
    "Shown below, we also observe the time evolution of a Klein bottle's construction in xyzt-space.\n",
    "\n",
    "<img src=https://i.imgur.com/g2aMu3C.gif width=\"500\">"
   ]
  },
  {
   "cell_type": "markdown",
   "id": "4a6d65ea",
   "metadata": {},
   "source": [
    "## III. Applications\n",
    "\n",
    "Given its unique shape, the Klein bottle has limited practical applications in real-world environments; however, it has been used to demonstrate some effects in physics such as the siphon effect when submerged in water. It has also been used in the field of solid-state physics as a topological representation of the \"Brillouin zone,\" $\\tau_{1/2}$, whose momentum space we see below. Under specific identifications of its boundaries, a Klein bottle is formed and topologically identifies the quotient space of the Brillouin zone, a fundamental concept in the study of the electronic and optical properties of materials.\n",
    "\n",
    "The Brillouin zone describes the locus of points in reciprocal space that are closer to the origin of the reciprocal lattice than they are to any other reciprocal lattice points. This provides a way of modeling the behavior of electrons in a crystal lattice in terms of their wavevectors.\n",
    "\n",
    "\n",
    "<img src=https://i.imgur.com/Ir8c5UD.png width=\"600\">"
   ]
  }
 ],
 "metadata": {
  "kernelspec": {
   "display_name": "Python 3 (ipykernel)",
   "language": "python",
   "name": "python3"
  },
  "language_info": {
   "codemirror_mode": {
    "name": "ipython",
    "version": 3
   },
   "file_extension": ".py",
   "mimetype": "text/x-python",
   "name": "python",
   "nbconvert_exporter": "python",
   "pygments_lexer": "ipython3",
   "version": "3.8.15"
  }
 },
 "nbformat": 4,
 "nbformat_minor": 5
}
