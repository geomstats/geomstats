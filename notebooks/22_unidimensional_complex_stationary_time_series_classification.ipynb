{
 "cells": [
  {
   "cell_type": "markdown",
   "metadata": {},
   "source": [
    "# Unidimensional complex stationary time series classification"
   ]
  },
  {
   "cell_type": "markdown",
   "metadata": {},
   "source": [
    "Lead author: Yann Cabanes"
   ]
  },
  {
   "cell_type": "markdown",
   "metadata": {},
   "source": [
    "References\n",
    "----------\n",
    "\n",
    ".. [Cabanes_2022] Yann Cabanes. Multidimensional complex stationary\n",
    "    centered Gaussian autoregressive time series machine learning\n",
    "    in Poincaré and Siegel disks: application for audio and radar\n",
    "    clutter classification, PhD thesis, tel-03708515, 2022.\n",
    "    https://theses.hal.science/tel-03708515\n",
    "    \n",
    ".. [Cabanes_CESAR_2019] Yann Cabanes, Frédéric Barbaresco, Marc Arnaudon et\n",
    "    Jérémie Bigot. Unsupervised Machine Learning for Pathological Radar Clutter\n",
    "    Clustering: the P-Mean-Shift Algorithm, IEEE, C&ESAR 2019, Rennes, France, 2019.\n",
    "    https://hal.archives-ouvertes.fr/hal-02875430\n",
    "    \n",
    ".. [Cabanes_RADAR_2019] Yann Cabanes, Frédéric Barbaresco, Marc Arnaudon et\n",
    "    Jérémie Bigot. Non-Supervised High Resolution Doppler Machine Learning for\n",
    "    Pathological Radar Clutter, IEEE, RADAR 2019, Toulon, France, 2019.\n",
    "    https://hal.archives-ouvertes.fr/hal-02875415\n",
    "    \n",
    ".. [Cabanes_GSI_2019] Yann Cabanes, Frédéric Barbaresco, Marc Arnaudon et\n",
    "    Jérémie Bigot. Toeplitz Hermitian Positive Definite Matrix Machine Learning\n",
    "    based on Fisher Metric, IEEE, GSI 2019, Toulouse, France, 2019.\n",
    "    https://hal.archives-ouvertes.fr/hal-02875403\n",
    "    \n",
    ".. [Le_Brigant_2017] Alice Le Brigant. Probability on the spaces of curves and\n",
    "    the associated metric spaces using information geometry; radar applications,\n",
    "    PhD thesis, tel-01635258, 2017.\n",
    "    https://theses.hal.science/tel-01635258\n",
    "    \n",
    ".. [Jeuris_2016] B. Jeuris and R. Vandebril. The Kahler mean of Block-Toeplitz\n",
    "    matrices with Toeplitz structured blocks, 2016.\n",
    "    https://epubs.siam.org/doi/pdf/10.1137/15M102112X\n",
    "    \n",
    ".. [Yang_2013] Marc Arnaudon, Frédéric Barbaresco and Le Yang. Riemannian Medians\n",
    "    and Means With Applications to Radar Signal Processing, IEEE, 2013."
   ]
  },
  {
   "cell_type": "markdown",
   "metadata": {},
   "source": [
    "In this notebook, we will simulate complex one-dimensional stationary centered Gaussian autoregressive time series.\n",
    "These time series can be represented by the power spectral density function $S$, by the autocorrelation coefficients $\\left( r_{0}, r_{1}, ..., r_{n-1} \\right)$ associated with the Toeplitz HPD autocorrelation matrix $R$, or by the coefficients $\\left( p_{0}, \\mu_{1}, ..., \\mu_{n-1} \\right)$ where the coefficient $p_{0} = r_{0}$ is the mean quadratic power coefficient and the coefficients $\\left( \\mu_{1}, ..., \\mu_{n-1} \\right)$ are called coefficients reflection."
   ]
  },
  {
   "cell_type": "markdown",
   "metadata": {},
   "source": [
    "In the particular case of signals whose power spectral density $S$ has a Gaussian shape of power $P$, mean $m$ and variance $\\sigma^{2}$, that is to say:\n",
    "\n",
    "\\begin{equation}\n",
    "S_{f}(\\xi) = P \\frac{1}{\\sqrt{2 \\pi \\sigma^{2}}} e^{-\\frac{(\\xi-m)^{2}}{2 \\sigma^{2}}},\n",
    "\\end{equation} \n",
    "\n",
    "the theoretical autocorrelation coefficients are:\n",
    "\n",
    "\\begin{equation}\n",
    "\\label{equation_theoretical_autocorrelation_coefficients_of_signals_with_gaussian_shape_in_chapter_application_to_simulated_signals}\n",
    "r_{k} = R_{f}(k) = P e^{i 2 \\pi m k} e^{-2 \\pi^{2} \\sigma^{2} k^2} \\quad \\forall k \\geq 1\n",
    "\\end{equation}\n",
    "\n",
    "and the theoretical reflection coefficients are:\n",
    "\n",
    "\\begin{equation}\n",
    "\\mu_{k} = (-1)^{k} e^{i 2 \\pi m k} e^{-2 \\pi^{2} \\sigma^{2} k} \\quad \\forall k \\geq 1.\n",
    "\\end{equation}"
   ]
  },
  {
   "cell_type": "code",
   "execution_count": 8,
   "metadata": {},
   "outputs": [],
   "source": [
    "import os\n",
    "import sys\n",
    "module_path = os.path.abspath(os.path.join('..'))\n",
    "if module_path not in sys.path:\n",
    "    sys.path.append(module_path)\n",
    "\n",
    "import geomstats.backend as gs\n",
    "import geomstats\n",
    "from geomstats.geometry.product_positive_reals_and_poincare_disks import ProductPositiveRealsAndComplexPoincareDisks"
   ]
  },
  {
   "cell_type": "code",
   "execution_count": null,
   "metadata": {},
   "outputs": [],
   "source": []
  },
  {
   "cell_type": "code",
   "execution_count": null,
   "metadata": {},
   "outputs": [],
   "source": []
  },
  {
   "cell_type": "code",
   "execution_count": null,
   "metadata": {},
   "outputs": [],
   "source": []
  },
  {
   "cell_type": "code",
   "execution_count": null,
   "metadata": {},
   "outputs": [],
   "source": []
  },
  {
   "cell_type": "code",
   "execution_count": null,
   "metadata": {},
   "outputs": [],
   "source": []
  }
 ],
 "metadata": {
  "kernelspec": {
   "display_name": "Python 3",
   "language": "python",
   "name": "python3"
  },
  "language_info": {
   "codemirror_mode": {
    "name": "ipython",
    "version": 3
   },
   "file_extension": ".py",
   "mimetype": "text/x-python",
   "name": "python",
   "nbconvert_exporter": "python",
   "pygments_lexer": "ipython3",
   "version": "3.8.10"
  },
  "latex_envs": {
   "LaTeX_envs_menu_present": true,
   "autoclose": false,
   "autocomplete": true,
   "bibliofile": "biblio.bib",
   "cite_by": "apalike",
   "current_citInitial": 1,
   "eqLabelWithNumbers": true,
   "eqNumInitial": 1,
   "hotkeys": {
    "equation": "Ctrl-E",
    "itemize": "Ctrl-I"
   },
   "labels_anchors": false,
   "latex_user_defs": false,
   "report_style_numbering": false,
   "user_envs_cfg": false
  }
 },
 "nbformat": 4,
 "nbformat_minor": 2
}
