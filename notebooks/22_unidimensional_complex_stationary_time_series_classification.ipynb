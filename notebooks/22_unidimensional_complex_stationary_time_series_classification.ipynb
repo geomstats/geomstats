{
 "cells": [
  {
   "cell_type": "markdown",
   "metadata": {},
   "source": [
    "# Unidimensional complex stationary time series classification"
   ]
  },
  {
   "cell_type": "markdown",
   "metadata": {},
   "source": [
    "Lead author: Yann Cabanes"
   ]
  },
  {
   "cell_type": "markdown",
   "metadata": {},
   "source": [
    "In this notebook, we will simulate complex one-dimensional stationary centered Gaussian autoregressive time series.\n",
    "These time series can be represented by the power spectral density function $S$, by the autocorrelation coefficients $\\left( r_{0}, r_{1}, ..., r_{n-1} \\right)$ associated with the Toeplitz HPD autocorrelation matrix $R$, or by the coefficients $\\left( p_{0}, \\mu_{1}, ..., \\mu_{n-1} \\right)$ where the coefficient $p_{0} = r_{0}$ is the mean quadratic power coefficient and the coefficients $\\left( \\mu_{1}, ..., \\mu_{n-1} \\right)$ are called coefficients reflection."
   ]
  },
  {
   "cell_type": "markdown",
   "metadata": {},
   "source": [
    "In the particular case of signals whose power spectral density $S$ has a Gaussian shape of power $P$, mean $m$ and variance $\\sigma^{2}$, that is to say:\n",
    "\n",
    "\\begin{equation}\n",
    "S_{f}(\\xi) = P \\frac{1}{\\sqrt{2 \\pi \\sigma^{2}}} e^{-\\frac{(\\xi-m)^{2}}{2 \\sigma^{2}}},\n",
    "\\end{equation} \n",
    "\n",
    "the theoretical autocorrelation coefficients are:\n",
    "\n",
    "\\begin{equation}\n",
    "\\label{equation_theoretical_autocorrelation_coefficients_of_signals_with_gaussian_shape_in_chapter_application_to_simulated_signals}\n",
    "r_{k} = R_{f}(k) = P e^{i 2 \\pi m k} e^{-2 \\pi^{2} \\sigma^{2} k^2} \\quad \\forall k \\geq 1\n",
    "\\end{equation}\n",
    "\n",
    "and the theoretical reflection coefficients are:\n",
    "\n",
    "\\begin{equation}\n",
    "\\mu_{k} = (-1)^{k} e^{i 2 \\pi m k} e^{-2 \\pi^{2} \\sigma^{2} k} \\quad \\forall k \\geq 1.\n",
    "\\end{equation}"
   ]
  },
  {
   "cell_type": "code",
   "execution_count": 8,
   "metadata": {},
   "outputs": [],
   "source": [
    "import os\n",
    "import sys\n",
    "module_path = os.path.abspath(os.path.join('..'))\n",
    "if module_path not in sys.path:\n",
    "    sys.path.append(module_path)\n",
    "\n",
    "import geomstats.backend as gs\n",
    "import geomstats\n",
    "from geomstats.geometry.product_positive_reals_and_poincare_disks import ProductPositiveRealsAndComplexPoincareDisks"
   ]
  },
  {
   "cell_type": "code",
   "execution_count": null,
   "metadata": {},
   "outputs": [],
   "source": []
  },
  {
   "cell_type": "code",
   "execution_count": null,
   "metadata": {},
   "outputs": [],
   "source": []
  },
  {
   "cell_type": "code",
   "execution_count": null,
   "metadata": {},
   "outputs": [],
   "source": []
  },
  {
   "cell_type": "code",
   "execution_count": null,
   "metadata": {},
   "outputs": [],
   "source": []
  },
  {
   "cell_type": "code",
   "execution_count": null,
   "metadata": {},
   "outputs": [],
   "source": []
  }
 ],
 "metadata": {
  "kernelspec": {
   "display_name": "Python 3",
   "language": "python",
   "name": "python3"
  },
  "language_info": {
   "codemirror_mode": {
    "name": "ipython",
    "version": 3
   },
   "file_extension": ".py",
   "mimetype": "text/x-python",
   "name": "python",
   "nbconvert_exporter": "python",
   "pygments_lexer": "ipython3",
   "version": "3.8.10"
  },
  "latex_envs": {
   "LaTeX_envs_menu_present": true,
   "autoclose": false,
   "autocomplete": true,
   "bibliofile": "biblio.bib",
   "cite_by": "apalike",
   "current_citInitial": 1,
   "eqLabelWithNumbers": true,
   "eqNumInitial": 1,
   "hotkeys": {
    "equation": "Ctrl-E",
    "itemize": "Ctrl-I"
   },
   "labels_anchors": false,
   "latex_user_defs": false,
   "report_style_numbering": false,
   "user_envs_cfg": false
  }
 },
 "nbformat": 4,
 "nbformat_minor": 2
}
