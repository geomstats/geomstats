{
 "cells": [
  {
   "cell_type": "markdown",
   "id": "84e4fb6c",
   "metadata": {},
   "source": [
    "# Flag estimator"
   ]
  },
  {
   "cell_type": "markdown",
   "id": "cd79f4cc",
   "metadata": {},
   "source": [
    "Lead author: Dimbihery Rabenoro."
   ]
  },
  {
   "cell_type": "markdown",
   "id": "acaa4d80",
   "metadata": {},
   "source": [
    "In this example, we will show how to test if a given orthogonal matrix is a matrix of eigenvectors of the population covariance matrix. If the test passes, then we provide the associated flag."
   ]
  },
  {
   "cell_type": "code",
   "execution_count": 1,
   "id": "fd88a41a",
   "metadata": {},
   "outputs": [
    {
     "name": "stderr",
     "output_type": "stream",
     "text": [
      "INFO: Using numpy backend\n"
     ]
    }
   ],
   "source": [
    "from scipy.stats import chi2\n",
    "from matplotlib import pyplot as plt\n",
    "\n",
    "import geomstats.backend as gs\n",
    "\n",
    "from geomstats.geometry.special_orthogonal import SpecialOrthogonal\n",
    "from geomstats.geometry.matrices import Matrices\n",
    "\n",
    "from geomstats.learning.flag_estimator import (\n",
    "    FlagEstimator,\n",
    "    test_H0,\n",
    ")"
   ]
  },
  {
   "cell_type": "markdown",
   "id": "9f37b594",
   "metadata": {},
   "source": [
    "## Dataset generation"
   ]
  },
  {
   "cell_type": "markdown",
   "id": "072ef49e",
   "metadata": {},
   "source": [
    "We start by generating controlled data.\n",
    "\n",
    "First, we define the multiplicities for the population covariance matrix (notice that in the general case, this matrix is unknown, but for demonstrative purposes we generate our data from a known distribution).\n",
    "\n",
    "Then, we randomly create eigenvectors and reverse sort them. "
   ]
  },
  {
   "cell_type": "code",
   "execution_count": 2,
   "id": "7f1b6e11",
   "metadata": {
    "scrolled": true
   },
   "outputs": [
    {
     "data": {
      "text/plain": [
       "array([0.96744676, 0.89342961, 0.62453925])"
      ]
     },
     "execution_count": 2,
     "metadata": {},
     "output_type": "execute_result"
    }
   ],
   "source": [
    "multiplicities = [2, 3, 1]\n",
    "d = sum(multiplicities)\n",
    "n_eig = len(multiplicities)\n",
    "\n",
    "unique_eig = gs.flip(gs.sort(gs.random.rand(n_eig)))\n",
    "\n",
    "unique_eig"
   ]
  },
  {
   "cell_type": "code",
   "execution_count": 3,
   "id": "0d391ff9",
   "metadata": {},
   "outputs": [],
   "source": [
    "indices = []\n",
    "for i, mult in enumerate(multiplicities):\n",
    "    indices.extend([i]*mult)\n",
    "\n",
    "eig = gs.take(unique_eig, indices, axis=0)"
   ]
  },
  {
   "cell_type": "markdown",
   "id": "063fb930",
   "metadata": {},
   "source": [
    "Having the (repeated) eigenvectors, we can now create a diagonal matrix where the diagonal elements correspond to them."
   ]
  },
  {
   "cell_type": "code",
   "execution_count": 4,
   "id": "426914e5",
   "metadata": {},
   "outputs": [],
   "source": [
    "D = gs.array_from_sparse(\n",
    "    data=eig,\n",
    "    indices=[(i, i ) for i in range(d)],\n",
    "    target_shape=(d, d)\n",
    ")"
   ]
  },
  {
   "cell_type": "markdown",
   "id": "8d8cc107",
   "metadata": {},
   "source": [
    "We sample an orthogonal matrix and build the corresponding covariance matrix."
   ]
  },
  {
   "cell_type": "code",
   "execution_count": 5,
   "id": "0d9a8e04",
   "metadata": {},
   "outputs": [],
   "source": [
    "so = SpecialOrthogonal(d)\n",
    "\n",
    "P = so.random_point()\n",
    "\n",
    "mean = gs.zeros(d)\n",
    "Sigma = Matrices.mul(P, D, gs.transpose(P))"
   ]
  },
  {
   "cell_type": "markdown",
   "id": "dada24c3",
   "metadata": {},
   "source": [
    "Finally, we generate the dataset."
   ]
  },
  {
   "cell_type": "code",
   "execution_count": 6,
   "id": "1f4fc06e",
   "metadata": {},
   "outputs": [],
   "source": [
    "n_samples = 1000\n",
    "X = gs.random.multivariate_normal(mean=mean, cov=Sigma, \n",
    "                                  size=n_samples)"
   ]
  },
  {
   "cell_type": "markdown",
   "id": "9b22c51e",
   "metadata": {},
   "source": [
    "## Statistical test"
   ]
  },
  {
   "cell_type": "markdown",
   "id": "c7a315d3",
   "metadata": {},
   "source": [
    "Now that we have some data, we can start an estimator by passing the multiplicities."
   ]
  },
  {
   "cell_type": "code",
   "execution_count": 7,
   "id": "aba5501f",
   "metadata": {},
   "outputs": [],
   "source": [
    "estimator = FlagEstimator(multiplicities)"
   ]
  },
  {
   "cell_type": "markdown",
   "id": "13768fc2",
   "metadata": {},
   "source": [
    "The statistical test, requires a `Q_0`. Since our data is generated, we know the true matrix of eigenvectors (`P`), so we expect the test to pass 95% of the time (controlled by `alpha`).\n",
    "\n",
    "**Note**: for a given dataset generated from an unknown distribution, `Q_0` needs to be provided by the user (e.g. it can be the output of a learning method)."
   ]
  },
  {
   "cell_type": "code",
   "execution_count": 8,
   "id": "853b7b7f",
   "metadata": {},
   "outputs": [],
   "source": [
    "Q_0 = P"
   ]
  },
  {
   "cell_type": "markdown",
   "id": "5897d3e9",
   "metadata": {},
   "source": [
    "We can perform the statistical test by using `test_H0`. If True, then `Q_0` is a matrix of eigenvectors of the population covariance matrix."
   ]
  },
  {
   "cell_type": "code",
   "execution_count": 9,
   "id": "7e4276d3",
   "metadata": {},
   "outputs": [
    {
     "name": "stdout",
     "output_type": "stream",
     "text": [
      "Test result: True\n"
     ]
    }
   ],
   "source": [
    "res, (norm, quantile) = test_H0(estimator, X, Q_0, alpha=0.05)\n",
    "\n",
    "print(f\"Test result: {res}\")"
   ]
  },
  {
   "cell_type": "markdown",
   "id": "caf76f5c",
   "metadata": {},
   "source": [
    "If the test passes, then we can provide the associated flag."
   ]
  },
  {
   "cell_type": "code",
   "execution_count": 10,
   "id": "ad878311",
   "metadata": {},
   "outputs": [],
   "source": [
    "F = estimator.get_flag(Q_0)"
   ]
  }
 ],
 "metadata": {
  "kernelspec": {
   "display_name": "Python 3 (ipykernel)",
   "language": "python",
   "name": "python3"
  },
  "language_info": {
   "codemirror_mode": {
    "name": "ipython",
    "version": 3
   },
   "file_extension": ".py",
   "mimetype": "text/x-python",
   "name": "python",
   "nbconvert_exporter": "python",
   "pygments_lexer": "ipython3",
   "version": "3.9.12"
  }
 },
 "nbformat": 4,
 "nbformat_minor": 5
}
