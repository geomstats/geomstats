{
 "cells": [
  {
   "cell_type": "code",
   "execution_count": null,
   "metadata": {},
   "outputs": [],
   "source": [
    "from geomstats.geometry.pre_shape import PreShapeSpace"
   ]
  }
 ],
 "metadata": {
  "interpreter": {
   "hash": "1ec97232e8cf621a83df66675202735693aaf97ce3ae5a5ad95380fe5aef9418"
  },
  "kernelspec": {
   "display_name": "Python 3.9.7 ('geomstats39')",
   "language": "python",
   "name": "python3"
  },
  "language_info": {
   "codemirror_mode": {
    "name": "ipython",
    "version": 3
   },
   "file_extension": ".py",
   "mimetype": "text/x-python",
   "name": "python",
   "nbconvert_exporter": "python",
   "pygments_lexer": "ipython3",
   "version": "3.9.7"
  },
  "orig_nbformat": 4
 },
 "nbformat": 4,
 "nbformat_minor": 2
}
